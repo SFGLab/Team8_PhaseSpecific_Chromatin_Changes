{
 "cells": [
  {
   "cell_type": "code",
   "execution_count": 1,
   "id": "ec31ce5c-fe19-4d25-a509-2d816cfbb875",
   "metadata": {},
   "outputs": [],
   "source": [
    "import pysam\n",
    "import pandas as pd\n",
    "from scipy.sparse import coo_matrix\n",
    "from scipy.io import mmwrite"
   ]
  },
  {
   "cell_type": "code",
   "execution_count": 16,
   "id": "3c2ff152-0eb8-4217-8b5c-8ee04d7302bc",
   "metadata": {},
   "outputs": [],
   "source": [
    "# === Step 1: Read BAM and extract gene + cell tags ===\n",
    "bam = pysam.AlignmentFile(\"k562.allele.flt.M.bam\", \"rb\")"
   ]
  },
  {
   "cell_type": "code",
   "execution_count": 17,
   "id": "4c1aae4b-2f63-404d-9342-2744dd850d83",
   "metadata": {},
   "outputs": [],
   "source": [
    "genes = []\n",
    "cells = []"
   ]
  },
  {
   "cell_type": "code",
   "execution_count": 18,
   "id": "ce7676b0-8578-4f12-a942-0d0cd012c256",
   "metadata": {},
   "outputs": [],
   "source": [
    "for read in bam:\n",
    "    if read.has_tag(\"CB:Z\") and read.has_tag(\"GX:Z\"):\n",
    "        cells.append(read.get_tag(\"CB:Z\"))\n",
    "        genes.append(read.get_tag(\"GX:Z\"))\n",
    "bam.close()"
   ]
  },
  {
   "cell_type": "code",
   "execution_count": 19,
   "id": "340b9bd7-ec5e-492a-acd9-b5374c16d984",
   "metadata": {},
   "outputs": [],
   "source": [
    "# === Step 2: Build a count table ===\n",
    "df = pd.DataFrame({\"cell\": cells, \"gene\": genes})\n",
    "counts = df.groupby([\"gene\", \"cell\"]).size().reset_index(name=\"count\")"
   ]
  },
  {
   "cell_type": "code",
   "execution_count": 20,
   "id": "d73fbef4-045d-48e5-a4cc-494e395d7956",
   "metadata": {},
   "outputs": [
    {
     "name": "stdout",
     "output_type": "stream",
     "text": [
      "                         cell             gene\n",
      "0  SCG0074_CACGCTAAGGGCTAAA-1  ENSG00000230699\n",
      "1  SCG0074_AGCAACAAGTTCCTCA-1  ENSG00000188976\n",
      "2  SCG0074_TAGGTGCGTTAGCGTA-1  ENSG00000188976\n",
      "3  SCG0074_CCTGGATCAAAGGCCA-1  ENSG00000187961\n",
      "4  SCG0074_AACCTTGCAGCACGAA-1  ENSG00000187961\n"
     ]
    }
   ],
   "source": [
    "print(df.head())"
   ]
  },
  {
   "cell_type": "code",
   "execution_count": 21,
   "id": "bfd1ee17-50b9-4e2a-b82c-6b5870cd90d3",
   "metadata": {},
   "outputs": [
    {
     "name": "stdout",
     "output_type": "stream",
     "text": [
      "              gene                        cell  count\n",
      "0  ENSG00000000457  SCG0074_AATACCGGTGATGGCT-1      1\n",
      "1  ENSG00000000457  SCG0074_CAATCGCCAGGTTAAA-1      1\n",
      "2  ENSG00000000457  SCG0074_CAGCTAAGTTGAGGTC-1      1\n",
      "3  ENSG00000000457  SCG0074_CAGGAAGGTCATTAGG-1      1\n",
      "4  ENSG00000000457  SCG0074_CCGTTGCGTCCTTCTC-1      1\n"
     ]
    }
   ],
   "source": [
    "print(counts.head())"
   ]
  },
  {
   "cell_type": "code",
   "execution_count": 22,
   "id": "020391d6-05f5-428b-afd2-e717abc2542e",
   "metadata": {},
   "outputs": [],
   "source": [
    "# Map gene/cell to integer indices\n",
    "gene_ids = pd.Index(counts[\"gene\"].unique(), name=\"gene\")\n",
    "cell_ids = pd.Index(counts[\"cell\"].unique(), name=\"cell\")"
   ]
  },
  {
   "cell_type": "code",
   "execution_count": 23,
   "id": "21abe453-1b01-4fa1-a9b9-3654ca009ba0",
   "metadata": {},
   "outputs": [],
   "source": [
    "gene_map = {g: i for i, g in enumerate(gene_ids)}\n",
    "cell_map = {c: i for i, c in enumerate(cell_ids)}"
   ]
  },
  {
   "cell_type": "code",
   "execution_count": 24,
   "id": "5392dcad-7631-4ea9-837e-5b498b892c55",
   "metadata": {},
   "outputs": [],
   "source": [
    "rows = counts[\"gene\"].map(gene_map).values\n",
    "cols = counts[\"cell\"].map(cell_map).values\n",
    "vals = counts[\"count\"].values"
   ]
  },
  {
   "cell_type": "code",
   "execution_count": 25,
   "id": "ac57aff5-d1b2-465b-b101-d86f7cf0748d",
   "metadata": {},
   "outputs": [],
   "source": [
    "# === Step 3: Create sparse matrix and save ===\n",
    "mat = coo_matrix((vals, (rows, cols)), shape=(len(gene_ids), len(cell_ids)))\n",
    "mmwrite(\"matrix.mtx\", mat)"
   ]
  },
  {
   "cell_type": "code",
   "execution_count": 26,
   "id": "0924c6b2-0692-43d7-903b-80592189542c",
   "metadata": {},
   "outputs": [],
   "source": [
    "# Save cell barcodes\n",
    "cell_ids.to_series().to_csv(\"barcodes.tsv\", index=False, header=False)"
   ]
  },
  {
   "cell_type": "code",
   "execution_count": 27,
   "id": "9a8d9b27-e891-4bf4-8033-3bd365afbe9d",
   "metadata": {},
   "outputs": [],
   "source": [
    "# Save genes (3-column format required by Seurat)\n",
    "features = pd.DataFrame({\n",
    "    \"gene_id\": gene_ids,\n",
    "    \"gene_name\": gene_ids,\n",
    "    \"feature_type\": [\"Gene Expression\"] * len(gene_ids)\n",
    "})\n",
    "features.to_csv(\"features.tsv\", sep=\"\\t\", index=False, header=False)"
   ]
  }
 ],
 "metadata": {
  "kernelspec": {
   "display_name": "Python 3 (ipykernel)",
   "language": "python",
   "name": "python3"
  },
  "language_info": {
   "codemirror_mode": {
    "name": "ipython",
    "version": 3
   },
   "file_extension": ".py",
   "mimetype": "text/x-python",
   "name": "python",
   "nbconvert_exporter": "python",
   "pygments_lexer": "ipython3",
   "version": "3.12.2"
  }
 },
 "nbformat": 4,
 "nbformat_minor": 5
}
