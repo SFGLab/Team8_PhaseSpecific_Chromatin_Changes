{
 "cells": [
  {
   "cell_type": "code",
   "execution_count": 2,
   "id": "4863c6b7-0eb9-4485-afef-5d5435248bcc",
   "metadata": {},
   "outputs": [],
   "source": [
    "import pandas as pd\n",
    "import polars as pl\n"
   ]
  },
  {
   "cell_type": "code",
   "execution_count": null,
   "id": "9c9a1b54-0c3d-4a23-ab22-c6acba03604b",
   "metadata": {},
   "outputs": [],
   "source": [
    "#cat Homo_sapiens.GRCh38.114.gtf | awk '$3==\"gene\"' | tr ';' '\\t' | tr ' ' '\\t' | sed 's/\"//g' | cut -f1,4,5,7,10 | awk '{print $1\"\\t\"$2\"\\t\"$3\"\\t\"$5\"\\t0\\t\"$4}' > Homo_sapiens.GRCh38.114.bed"
   ]
  },
  {
   "cell_type": "code",
   "execution_count": 56,
   "id": "f0990470-5564-4517-b7a8-260dedddc462",
   "metadata": {},
   "outputs": [],
   "source": [
    "# Import BED file from GTF file\n",
    "df = pd.read_csv(\"Homo_sapiens.GRCh38.114.bed\", sep=\"\\t\", header=None,\n",
    "                 names=[\"chr\", \"start\", \"end\", \"gene_id\", \"score\", \"strand\"])"
   ]
  },
  {
   "cell_type": "code",
   "execution_count": 57,
   "id": "4581379e-cc55-4e9c-955b-5b6bcc768c13",
   "metadata": {},
   "outputs": [],
   "source": [
    "# Create promotor region +- 500 bp from TSS\n",
    "def get_promoter(row):\n",
    "    if row[\"strand\"] == \"+\":\n",
    "        tss = row[\"start\"]\n",
    "    else:\n",
    "        tss = row[\"end\"]\n",
    "    start = max(tss - 500, 0)  # unikamy ujemnych wartości\n",
    "    end = tss + 500\n",
    "    return pd.Series([row[\"chr\"], start, end, row[\"gene_id\"], row[\"strand\"]])\n",
    "\n",
    "promoters = df.apply(get_promoter, axis=1)\n",
    "promoters.columns = [\"chr\", \"prom_start\", \"prom_end\", \"gene_id\", \"strand\"]"
   ]
  },
  {
   "cell_type": "code",
   "execution_count": 58,
   "id": "b20e069d-5f82-45d9-923e-1e384dd16200",
   "metadata": {},
   "outputs": [],
   "source": [
    "# Save BED file\n",
    "promoters[[\"chr\", \"prom_start\", \"prom_end\", \"gene_id\"]].to_csv(\"promoters_500bp.bed\",\n",
    "                                                               sep=\"\\t\", header=False, index=False)"
   ]
  },
  {
   "cell_type": "code",
   "execution_count": 6,
   "id": "ba6802c4-78a6-43f0-b0e2-cfa2c8a150eb",
   "metadata": {},
   "outputs": [],
   "source": [
    "# 1. Import cellid from Seurat stst file\n",
    "whitelist = pd.read_csv(\"k562.dis.stat.txt\", sep=\"\\t\", usecols=[\"cellid\"])\n",
    "cellids = set(whitelist[\"cellid\"])"
   ]
  },
  {
   "cell_type": "code",
   "execution_count": null,
   "id": "01f11104-de08-44ab-81f1-43e7901e4727",
   "metadata": {},
   "outputs": [],
   "source": [
    "# Creating ATAC BED file: cat k562.allele.flt.M.fragment.unsorted.tsv | sed 's/chr//' | cut -f1-4 > k562.allele.flt.M.fragment.unsorted.bed"
   ]
  },
  {
   "cell_type": "code",
   "execution_count": 7,
   "id": "f2e5666c-9b1a-460d-8bff-acde1805be88",
   "metadata": {},
   "outputs": [],
   "source": [
    "# 2. Import ATAC BED file\n",
    "\n",
    "atac_cols = [\"chr\", \"start\", \"end\", \"barcode\", \"count\"]\n",
    "atac = pd.read_csv(\"k562.allele.flt.M.fragment.unsorted.bed\", sep=\"\\t\", names=atac_cols, header=None, dtype={\"chr\": str} )"
   ]
  },
  {
   "cell_type": "code",
   "execution_count": 8,
   "id": "77f65fc2-ea26-45ca-96e0-ab00d7ffe1c4",
   "metadata": {},
   "outputs": [],
   "source": [
    "# 3. Filter ATAC by cellid\n",
    "atac_filtered = atac[atac[\"barcode\"].isin(cellids)]"
   ]
  },
  {
   "cell_type": "code",
   "execution_count": 9,
   "id": "88060c52-6f0c-4c41-8039-2c5bae72ce9e",
   "metadata": {},
   "outputs": [],
   "source": [
    "# 4. Save filtered file\n",
    "atac_filtered.to_csv(\"k562.atac.filtered.bed\", sep=\"\\t\", index=False, header=False)"
   ]
  },
  {
   "cell_type": "code",
   "execution_count": null,
   "id": "9a1fa238-0167-4b7b-b4a8-ec43e0c01b52",
   "metadata": {},
   "outputs": [],
   "source": [
    "# make TSV file showiong localisation od ATAC signal on chromosomes and in gene promotores\n",
    "#bedtools intersect -a k562.atac.filtered.bed -b promoters_500bp.bed -wa -wb > atac_mapped_to_genes.tsv"
   ]
  },
  {
   "cell_type": "code",
   "execution_count": 10,
   "id": "206b2271-fac6-4be6-b494-3b3d1a8ad23c",
   "metadata": {},
   "outputs": [],
   "source": [
    "# Read the ATAC localisation file\n",
    "cols = [\"chr_a\", \"start_a\", \"end_a\", \"barcode\", \"count\",\n",
    "        \"chr_b\", \"prom_start\", \"prom_end\", \"gene_id\"]\n",
    "mapped = pd.read_csv(\"atac_mapped_to_genes.tsv\", sep=\"\\t\", names=cols, header=None, dtype={\"chr_a\": str, \"chr_b\": str})"
   ]
  },
  {
   "cell_type": "code",
   "execution_count": 12,
   "id": "16cb8fc9-3dac-469d-ae32-cbc5e0767d96",
   "metadata": {},
   "outputs": [],
   "source": [
    "# Count number of ATAC peaks for every gene in every cell\n",
    "atac_counts = mapped.groupby([\"barcode\", \"gene_id\"]).size().unstack(fill_value=0)"
   ]
  },
  {
   "cell_type": "code",
   "execution_count": 13,
   "id": "a35e6892-7e85-4dae-b0fd-e604bdfcc343",
   "metadata": {},
   "outputs": [],
   "source": [
    "# NORMALIZACJA\n",
    "atac_norm = atac_counts.div(atac_counts.sum(axis=1), axis=0) * 1e4"
   ]
  },
  {
   "cell_type": "code",
   "execution_count": 14,
   "id": "e94ad8a9-44df-4982-9fea-ec4f14c59955",
   "metadata": {},
   "outputs": [],
   "source": [
    "# SAve matrix cells x genes\n",
    "atac_norm.to_csv(\"atac_norm_matrix.tsv\", sep=\"\\t\")"
   ]
  },
  {
   "cell_type": "code",
   "execution_count": 3,
   "id": "1d42a8eb-64cb-436b-b3b1-d2c8c0f7abd0",
   "metadata": {},
   "outputs": [],
   "source": [
    "atac_norm = pl.read_csv(\"atac_norm_matrix.tsv\", separator=\"\\t\")"
   ]
  },
  {
   "cell_type": "code",
   "execution_count": 4,
   "id": "d732f9f2-1c7f-4e1b-b2a6-1daa28d2d2ef",
   "metadata": {},
   "outputs": [
    {
     "data": {
      "text/html": [
       "<div><style>\n",
       ".dataframe > thead > tr,\n",
       ".dataframe > tbody > tr {\n",
       "  text-align: right;\n",
       "  white-space: pre-wrap;\n",
       "}\n",
       "</style>\n",
       "<small>shape: (40_252, 22_141)</small><table border=\"1\" class=\"dataframe\"><thead><tr><th>barcode</th><th>ENSG00000000460</th><th>ENSG00000000971</th><th>ENSG00000001460</th><th>ENSG00000001561</th><th>ENSG00000002330</th><th>ENSG00000002726</th><th>ENSG00000002745</th><th>ENSG00000002822</th><th>ENSG00000002834</th><th>ENSG00000002919</th><th>ENSG00000003509</th><th>ENSG00000003987</th><th>ENSG00000004139</th><th>ENSG00000004455</th><th>ENSG00000004487</th><th>ENSG00000004766</th><th>ENSG00000004809</th><th>ENSG00000005102</th><th>ENSG00000005108</th><th>ENSG00000005175</th><th>ENSG00000005206</th><th>ENSG00000005249</th><th>ENSG00000005421</th><th>ENSG00000005448</th><th>ENSG00000005486</th><th>ENSG00000005700</th><th>ENSG00000006025</th><th>ENSG00000006059</th><th>ENSG00000006071</th><th>ENSG00000006116</th><th>ENSG00000006125</th><th>ENSG00000006459</th><th>ENSG00000006606</th><th>ENSG00000006740</th><th>ENSG00000006747</th><th>ENSG00000007062</th><th>&hellip;</th><th>ENSG00000310399</th><th>ENSG00000310402</th><th>ENSG00000310409</th><th>ENSG00000310411</th><th>ENSG00000310414</th><th>ENSG00000310415</th><th>ENSG00000310419</th><th>ENSG00000310420</th><th>ENSG00000310422</th><th>ENSG00000310425</th><th>ENSG00000310427</th><th>ENSG00000310435</th><th>ENSG00000310436</th><th>ENSG00000310437</th><th>ENSG00000310438</th><th>ENSG00000310441</th><th>ENSG00000310457</th><th>ENSG00000310458</th><th>ENSG00000310471</th><th>ENSG00000310476</th><th>ENSG00000310477</th><th>ENSG00000310483</th><th>ENSG00000310486</th><th>ENSG00000310489</th><th>ENSG00000310493</th><th>ENSG00000310500</th><th>ENSG00000310501</th><th>ENSG00000310504</th><th>ENSG00000310507</th><th>ENSG00000310511</th><th>ENSG00000310515</th><th>ENSG00000310516</th><th>ENSG00000310525</th><th>ENSG00000310529</th><th>ENSG00000310564</th><th>ENSG00000310566</th><th>ENSG00000310567</th></tr><tr><td>str</td><td>f64</td><td>f64</td><td>f64</td><td>f64</td><td>f64</td><td>f64</td><td>f64</td><td>f64</td><td>f64</td><td>f64</td><td>f64</td><td>f64</td><td>f64</td><td>f64</td><td>f64</td><td>f64</td><td>f64</td><td>f64</td><td>f64</td><td>f64</td><td>f64</td><td>f64</td><td>f64</td><td>f64</td><td>f64</td><td>f64</td><td>f64</td><td>f64</td><td>f64</td><td>f64</td><td>f64</td><td>f64</td><td>f64</td><td>f64</td><td>f64</td><td>f64</td><td>&hellip;</td><td>f64</td><td>f64</td><td>f64</td><td>f64</td><td>f64</td><td>f64</td><td>f64</td><td>f64</td><td>f64</td><td>f64</td><td>f64</td><td>f64</td><td>f64</td><td>f64</td><td>f64</td><td>f64</td><td>f64</td><td>f64</td><td>f64</td><td>f64</td><td>f64</td><td>f64</td><td>f64</td><td>f64</td><td>f64</td><td>f64</td><td>f64</td><td>f64</td><td>f64</td><td>f64</td><td>f64</td><td>f64</td><td>f64</td><td>f64</td><td>f64</td><td>f64</td><td>f64</td></tr></thead><tbody><tr><td>&quot;SCG0074_AAACAGCCAAACATAG-1&quot;</td><td>0.0</td><td>0.0</td><td>0.0</td><td>0.0</td><td>0.0</td><td>0.0</td><td>0.0</td><td>0.0</td><td>0.0</td><td>0.0</td><td>0.0</td><td>0.0</td><td>0.0</td><td>0.0</td><td>0.0</td><td>0.0</td><td>0.0</td><td>0.0</td><td>0.0</td><td>0.0</td><td>0.0</td><td>0.0</td><td>0.0</td><td>0.0</td><td>0.0</td><td>0.0</td><td>0.0</td><td>0.0</td><td>0.0</td><td>0.0</td><td>0.0</td><td>0.0</td><td>0.0</td><td>0.0</td><td>0.0</td><td>0.0</td><td>&hellip;</td><td>0.0</td><td>0.0</td><td>0.0</td><td>0.0</td><td>0.0</td><td>0.0</td><td>0.0</td><td>0.0</td><td>0.0</td><td>0.0</td><td>0.0</td><td>0.0</td><td>0.0</td><td>0.0</td><td>0.0</td><td>0.0</td><td>0.0</td><td>0.0</td><td>0.0</td><td>0.0</td><td>0.0</td><td>0.0</td><td>0.0</td><td>0.0</td><td>0.0</td><td>0.0</td><td>0.0</td><td>0.0</td><td>0.0</td><td>0.0</td><td>0.0</td><td>0.0</td><td>0.0</td><td>0.0</td><td>0.0</td><td>0.0</td><td>0.0</td></tr><tr><td>&quot;SCG0074_AAACAGCCACCGTTCC-1&quot;</td><td>0.0</td><td>0.0</td><td>0.0</td><td>0.0</td><td>0.0</td><td>0.0</td><td>0.0</td><td>0.0</td><td>0.0</td><td>0.0</td><td>0.0</td><td>0.0</td><td>0.0</td><td>0.0</td><td>0.0</td><td>0.0</td><td>0.0</td><td>0.0</td><td>0.0</td><td>0.0</td><td>0.0</td><td>0.0</td><td>0.0</td><td>0.0</td><td>0.0</td><td>0.0</td><td>0.0</td><td>0.0</td><td>0.0</td><td>0.0</td><td>0.0</td><td>0.0</td><td>0.0</td><td>0.0</td><td>0.0</td><td>0.0</td><td>&hellip;</td><td>0.0</td><td>0.0</td><td>0.0</td><td>0.0</td><td>0.0</td><td>0.0</td><td>0.0</td><td>0.0</td><td>0.0</td><td>0.0</td><td>0.0</td><td>0.0</td><td>0.0</td><td>0.0</td><td>0.0</td><td>0.0</td><td>0.0</td><td>0.0</td><td>0.0</td><td>0.0</td><td>0.0</td><td>0.0</td><td>0.0</td><td>0.0</td><td>0.0</td><td>0.0</td><td>0.0</td><td>0.0</td><td>0.0</td><td>0.0</td><td>0.0</td><td>0.0</td><td>0.0</td><td>0.0</td><td>0.0</td><td>0.0</td><td>0.0</td></tr><tr><td>&quot;SCG0074_AAACAGCCATCGCTTT-1&quot;</td><td>0.0</td><td>0.0</td><td>0.0</td><td>0.0</td><td>0.0</td><td>0.0</td><td>0.0</td><td>0.0</td><td>0.0</td><td>0.0</td><td>0.0</td><td>0.0</td><td>0.0</td><td>0.0</td><td>0.0</td><td>0.0</td><td>0.0</td><td>0.0</td><td>0.0</td><td>0.0</td><td>0.0</td><td>0.0</td><td>0.0</td><td>0.0</td><td>0.0</td><td>0.0</td><td>0.0</td><td>0.0</td><td>0.0</td><td>0.0</td><td>0.0</td><td>0.0</td><td>0.0</td><td>0.0</td><td>0.0</td><td>0.0</td><td>&hellip;</td><td>0.0</td><td>0.0</td><td>0.0</td><td>0.0</td><td>0.0</td><td>0.0</td><td>0.0</td><td>0.0</td><td>0.0</td><td>0.0</td><td>0.0</td><td>0.0</td><td>0.0</td><td>0.0</td><td>0.0</td><td>0.0</td><td>0.0</td><td>0.0</td><td>0.0</td><td>0.0</td><td>0.0</td><td>0.0</td><td>0.0</td><td>0.0</td><td>0.0</td><td>0.0</td><td>0.0</td><td>0.0</td><td>0.0</td><td>0.0</td><td>0.0</td><td>0.0</td><td>0.0</td><td>0.0</td><td>0.0</td><td>0.0</td><td>0.0</td></tr><tr><td>&quot;SCG0074_AAACAGCCATTGTGAT-1&quot;</td><td>0.0</td><td>0.0</td><td>0.0</td><td>0.0</td><td>0.0</td><td>0.0</td><td>0.0</td><td>0.0</td><td>0.0</td><td>0.0</td><td>0.0</td><td>0.0</td><td>0.0</td><td>0.0</td><td>0.0</td><td>0.0</td><td>0.0</td><td>0.0</td><td>0.0</td><td>0.0</td><td>0.0</td><td>0.0</td><td>0.0</td><td>0.0</td><td>0.0</td><td>0.0</td><td>0.0</td><td>0.0</td><td>0.0</td><td>0.0</td><td>0.0</td><td>0.0</td><td>0.0</td><td>0.0</td><td>0.0</td><td>0.0</td><td>&hellip;</td><td>0.0</td><td>0.0</td><td>0.0</td><td>0.0</td><td>0.0</td><td>0.0</td><td>0.0</td><td>0.0</td><td>0.0</td><td>0.0</td><td>0.0</td><td>0.0</td><td>0.0</td><td>0.0</td><td>0.0</td><td>0.0</td><td>0.0</td><td>0.0</td><td>0.0</td><td>0.0</td><td>0.0</td><td>0.0</td><td>0.0</td><td>0.0</td><td>0.0</td><td>0.0</td><td>0.0</td><td>0.0</td><td>0.0</td><td>0.0</td><td>0.0</td><td>0.0</td><td>0.0</td><td>0.0</td><td>0.0</td><td>0.0</td><td>0.0</td></tr><tr><td>&quot;SCG0074_AAACATGCAACATAAG-1&quot;</td><td>0.0</td><td>0.0</td><td>0.0</td><td>0.0</td><td>0.0</td><td>0.0</td><td>0.0</td><td>0.0</td><td>0.0</td><td>0.0</td><td>0.0</td><td>0.0</td><td>0.0</td><td>0.0</td><td>0.0</td><td>0.0</td><td>0.0</td><td>0.0</td><td>0.0</td><td>0.0</td><td>0.0</td><td>0.0</td><td>0.0</td><td>0.0</td><td>0.0</td><td>0.0</td><td>0.0</td><td>0.0</td><td>0.0</td><td>0.0</td><td>0.0</td><td>0.0</td><td>0.0</td><td>0.0</td><td>0.0</td><td>0.0</td><td>&hellip;</td><td>0.0</td><td>0.0</td><td>0.0</td><td>0.0</td><td>0.0</td><td>0.0</td><td>0.0</td><td>0.0</td><td>0.0</td><td>0.0</td><td>0.0</td><td>0.0</td><td>0.0</td><td>0.0</td><td>0.0</td><td>0.0</td><td>0.0</td><td>0.0</td><td>0.0</td><td>0.0</td><td>0.0</td><td>0.0</td><td>0.0</td><td>0.0</td><td>0.0</td><td>0.0</td><td>0.0</td><td>0.0</td><td>0.0</td><td>0.0</td><td>0.0</td><td>0.0</td><td>0.0</td><td>0.0</td><td>0.0</td><td>0.0</td><td>0.0</td></tr><tr><td>&hellip;</td><td>&hellip;</td><td>&hellip;</td><td>&hellip;</td><td>&hellip;</td><td>&hellip;</td><td>&hellip;</td><td>&hellip;</td><td>&hellip;</td><td>&hellip;</td><td>&hellip;</td><td>&hellip;</td><td>&hellip;</td><td>&hellip;</td><td>&hellip;</td><td>&hellip;</td><td>&hellip;</td><td>&hellip;</td><td>&hellip;</td><td>&hellip;</td><td>&hellip;</td><td>&hellip;</td><td>&hellip;</td><td>&hellip;</td><td>&hellip;</td><td>&hellip;</td><td>&hellip;</td><td>&hellip;</td><td>&hellip;</td><td>&hellip;</td><td>&hellip;</td><td>&hellip;</td><td>&hellip;</td><td>&hellip;</td><td>&hellip;</td><td>&hellip;</td><td>&hellip;</td><td>&hellip;</td><td>&hellip;</td><td>&hellip;</td><td>&hellip;</td><td>&hellip;</td><td>&hellip;</td><td>&hellip;</td><td>&hellip;</td><td>&hellip;</td><td>&hellip;</td><td>&hellip;</td><td>&hellip;</td><td>&hellip;</td><td>&hellip;</td><td>&hellip;</td><td>&hellip;</td><td>&hellip;</td><td>&hellip;</td><td>&hellip;</td><td>&hellip;</td><td>&hellip;</td><td>&hellip;</td><td>&hellip;</td><td>&hellip;</td><td>&hellip;</td><td>&hellip;</td><td>&hellip;</td><td>&hellip;</td><td>&hellip;</td><td>&hellip;</td><td>&hellip;</td><td>&hellip;</td><td>&hellip;</td><td>&hellip;</td><td>&hellip;</td><td>&hellip;</td><td>&hellip;</td><td>&hellip;</td></tr><tr><td>&quot;SCG0080_TTTGTGTTCTACCTCA-1&quot;</td><td>0.0</td><td>0.0</td><td>0.0</td><td>0.0</td><td>0.0</td><td>0.0</td><td>0.0</td><td>0.0</td><td>0.0</td><td>0.0</td><td>0.0</td><td>0.0</td><td>0.0</td><td>0.0</td><td>0.0</td><td>0.0</td><td>0.0</td><td>0.0</td><td>0.0</td><td>0.0</td><td>0.0</td><td>0.0</td><td>0.0</td><td>0.0</td><td>0.0</td><td>0.0</td><td>0.0</td><td>0.0</td><td>0.0</td><td>0.0</td><td>0.0</td><td>0.0</td><td>0.0</td><td>0.0</td><td>0.0</td><td>0.0</td><td>&hellip;</td><td>0.0</td><td>0.0</td><td>0.0</td><td>0.0</td><td>0.0</td><td>0.0</td><td>0.0</td><td>0.0</td><td>0.0</td><td>0.0</td><td>0.0</td><td>0.0</td><td>0.0</td><td>0.0</td><td>0.0</td><td>0.0</td><td>0.0</td><td>0.0</td><td>0.0</td><td>0.0</td><td>0.0</td><td>0.0</td><td>0.0</td><td>0.0</td><td>0.0</td><td>0.0</td><td>0.0</td><td>0.0</td><td>0.0</td><td>0.0</td><td>0.0</td><td>0.0</td><td>0.0</td><td>0.0</td><td>0.0</td><td>0.0</td><td>0.0</td></tr><tr><td>&quot;SCG0080_TTTGTGTTCTCAATAG-1&quot;</td><td>0.0</td><td>0.0</td><td>0.0</td><td>0.0</td><td>0.0</td><td>0.0</td><td>0.0</td><td>0.0</td><td>0.0</td><td>0.0</td><td>0.0</td><td>0.0</td><td>0.0</td><td>0.0</td><td>0.0</td><td>0.0</td><td>0.0</td><td>0.0</td><td>0.0</td><td>0.0</td><td>0.0</td><td>0.0</td><td>0.0</td><td>0.0</td><td>0.0</td><td>0.0</td><td>0.0</td><td>0.0</td><td>0.0</td><td>0.0</td><td>0.0</td><td>0.0</td><td>0.0</td><td>0.0</td><td>0.0</td><td>0.0</td><td>&hellip;</td><td>0.0</td><td>0.0</td><td>0.0</td><td>0.0</td><td>0.0</td><td>0.0</td><td>0.0</td><td>0.0</td><td>0.0</td><td>0.0</td><td>0.0</td><td>0.0</td><td>0.0</td><td>0.0</td><td>0.0</td><td>0.0</td><td>0.0</td><td>0.0</td><td>0.0</td><td>0.0</td><td>0.0</td><td>0.0</td><td>0.0</td><td>0.0</td><td>0.0</td><td>0.0</td><td>0.0</td><td>0.0</td><td>0.0</td><td>0.0</td><td>0.0</td><td>0.0</td><td>0.0</td><td>0.0</td><td>0.0</td><td>0.0</td><td>0.0</td></tr><tr><td>&quot;SCG0080_TTTGTTGGTTAGGTGC-1&quot;</td><td>0.0</td><td>0.0</td><td>0.0</td><td>0.0</td><td>0.0</td><td>0.0</td><td>0.0</td><td>0.0</td><td>0.0</td><td>0.0</td><td>0.0</td><td>0.0</td><td>0.0</td><td>0.0</td><td>0.0</td><td>0.0</td><td>0.0</td><td>0.0</td><td>0.0</td><td>0.0</td><td>0.0</td><td>0.0</td><td>0.0</td><td>0.0</td><td>0.0</td><td>0.0</td><td>0.0</td><td>0.0</td><td>0.0</td><td>0.0</td><td>0.0</td><td>0.0</td><td>0.0</td><td>0.0</td><td>0.0</td><td>0.0</td><td>&hellip;</td><td>0.0</td><td>0.0</td><td>0.0</td><td>0.0</td><td>0.0</td><td>0.0</td><td>0.0</td><td>0.0</td><td>0.0</td><td>0.0</td><td>0.0</td><td>0.0</td><td>0.0</td><td>0.0</td><td>0.0</td><td>0.0</td><td>0.0</td><td>0.0</td><td>0.0</td><td>0.0</td><td>0.0</td><td>0.0</td><td>0.0</td><td>0.0</td><td>0.0</td><td>0.0</td><td>0.0</td><td>0.0</td><td>0.0</td><td>0.0</td><td>0.0</td><td>0.0</td><td>0.0</td><td>0.0</td><td>0.0</td><td>0.0</td><td>0.0</td></tr><tr><td>&quot;SCG0080_TTTGTTGGTTAGTACG-1&quot;</td><td>0.0</td><td>0.0</td><td>0.0</td><td>0.0</td><td>0.0</td><td>0.0</td><td>0.0</td><td>0.0</td><td>0.0</td><td>0.0</td><td>0.0</td><td>0.0</td><td>0.0</td><td>0.0</td><td>0.0</td><td>0.0</td><td>0.0</td><td>0.0</td><td>0.0</td><td>0.0</td><td>0.0</td><td>0.0</td><td>0.0</td><td>0.0</td><td>0.0</td><td>0.0</td><td>0.0</td><td>0.0</td><td>0.0</td><td>0.0</td><td>0.0</td><td>0.0</td><td>0.0</td><td>0.0</td><td>0.0</td><td>0.0</td><td>&hellip;</td><td>0.0</td><td>0.0</td><td>0.0</td><td>0.0</td><td>0.0</td><td>0.0</td><td>0.0</td><td>0.0</td><td>0.0</td><td>0.0</td><td>0.0</td><td>0.0</td><td>0.0</td><td>0.0</td><td>0.0</td><td>0.0</td><td>0.0</td><td>0.0</td><td>0.0</td><td>0.0</td><td>0.0</td><td>0.0</td><td>0.0</td><td>0.0</td><td>0.0</td><td>0.0</td><td>0.0</td><td>0.0</td><td>0.0</td><td>0.0</td><td>0.0</td><td>0.0</td><td>0.0</td><td>0.0</td><td>0.0</td><td>0.0</td><td>0.0</td></tr><tr><td>&quot;SCG0080_TTTGTTGGTTCGCGCT-1&quot;</td><td>0.0</td><td>0.0</td><td>0.0</td><td>0.0</td><td>0.0</td><td>0.0</td><td>0.0</td><td>0.0</td><td>0.0</td><td>0.0</td><td>0.0</td><td>0.0</td><td>0.0</td><td>0.0</td><td>0.0</td><td>0.0</td><td>0.0</td><td>0.0</td><td>0.0</td><td>0.0</td><td>0.0</td><td>0.0</td><td>0.0</td><td>0.0</td><td>0.0</td><td>0.0</td><td>0.0</td><td>0.0</td><td>0.0</td><td>0.0</td><td>0.0</td><td>0.0</td><td>0.0</td><td>0.0</td><td>0.0</td><td>0.0</td><td>&hellip;</td><td>0.0</td><td>0.0</td><td>0.0</td><td>0.0</td><td>0.0</td><td>0.0</td><td>0.0</td><td>0.0</td><td>0.0</td><td>0.0</td><td>0.0</td><td>0.0</td><td>0.0</td><td>0.0</td><td>0.0</td><td>0.0</td><td>0.0</td><td>0.0</td><td>0.0</td><td>0.0</td><td>0.0</td><td>0.0</td><td>0.0</td><td>0.0</td><td>0.0</td><td>0.0</td><td>0.0</td><td>0.0</td><td>0.0</td><td>0.0</td><td>0.0</td><td>0.0</td><td>0.0</td><td>0.0</td><td>0.0</td><td>0.0</td><td>0.0</td></tr></tbody></table></div>"
      ],
      "text/plain": [
       "shape: (40_252, 22_141)\n",
       "┌───────────┬───────────┬───────────┬───────────┬───┬───────────┬───────────┬───────────┬──────────┐\n",
       "│ barcode   ┆ ENSG00000 ┆ ENSG00000 ┆ ENSG00000 ┆ … ┆ ENSG00000 ┆ ENSG00000 ┆ ENSG00000 ┆ ENSG0000 │\n",
       "│ ---       ┆ 000460    ┆ 000971    ┆ 001460    ┆   ┆ 310529    ┆ 310564    ┆ 310566    ┆ 0310567  │\n",
       "│ str       ┆ ---       ┆ ---       ┆ ---       ┆   ┆ ---       ┆ ---       ┆ ---       ┆ ---      │\n",
       "│           ┆ f64       ┆ f64       ┆ f64       ┆   ┆ f64       ┆ f64       ┆ f64       ┆ f64      │\n",
       "╞═══════════╪═══════════╪═══════════╪═══════════╪═══╪═══════════╪═══════════╪═══════════╪══════════╡\n",
       "│ SCG0074_A ┆ 0.0       ┆ 0.0       ┆ 0.0       ┆ … ┆ 0.0       ┆ 0.0       ┆ 0.0       ┆ 0.0      │\n",
       "│ AACAGCCAA ┆           ┆           ┆           ┆   ┆           ┆           ┆           ┆          │\n",
       "│ ACATAG-1  ┆           ┆           ┆           ┆   ┆           ┆           ┆           ┆          │\n",
       "│ SCG0074_A ┆ 0.0       ┆ 0.0       ┆ 0.0       ┆ … ┆ 0.0       ┆ 0.0       ┆ 0.0       ┆ 0.0      │\n",
       "│ AACAGCCAC ┆           ┆           ┆           ┆   ┆           ┆           ┆           ┆          │\n",
       "│ CGTTCC-1  ┆           ┆           ┆           ┆   ┆           ┆           ┆           ┆          │\n",
       "│ SCG0074_A ┆ 0.0       ┆ 0.0       ┆ 0.0       ┆ … ┆ 0.0       ┆ 0.0       ┆ 0.0       ┆ 0.0      │\n",
       "│ AACAGCCAT ┆           ┆           ┆           ┆   ┆           ┆           ┆           ┆          │\n",
       "│ CGCTTT-1  ┆           ┆           ┆           ┆   ┆           ┆           ┆           ┆          │\n",
       "│ SCG0074_A ┆ 0.0       ┆ 0.0       ┆ 0.0       ┆ … ┆ 0.0       ┆ 0.0       ┆ 0.0       ┆ 0.0      │\n",
       "│ AACAGCCAT ┆           ┆           ┆           ┆   ┆           ┆           ┆           ┆          │\n",
       "│ TGTGAT-1  ┆           ┆           ┆           ┆   ┆           ┆           ┆           ┆          │\n",
       "│ SCG0074_A ┆ 0.0       ┆ 0.0       ┆ 0.0       ┆ … ┆ 0.0       ┆ 0.0       ┆ 0.0       ┆ 0.0      │\n",
       "│ AACATGCAA ┆           ┆           ┆           ┆   ┆           ┆           ┆           ┆          │\n",
       "│ CATAAG-1  ┆           ┆           ┆           ┆   ┆           ┆           ┆           ┆          │\n",
       "│ …         ┆ …         ┆ …         ┆ …         ┆ … ┆ …         ┆ …         ┆ …         ┆ …        │\n",
       "│ SCG0080_T ┆ 0.0       ┆ 0.0       ┆ 0.0       ┆ … ┆ 0.0       ┆ 0.0       ┆ 0.0       ┆ 0.0      │\n",
       "│ TTGTGTTCT ┆           ┆           ┆           ┆   ┆           ┆           ┆           ┆          │\n",
       "│ ACCTCA-1  ┆           ┆           ┆           ┆   ┆           ┆           ┆           ┆          │\n",
       "│ SCG0080_T ┆ 0.0       ┆ 0.0       ┆ 0.0       ┆ … ┆ 0.0       ┆ 0.0       ┆ 0.0       ┆ 0.0      │\n",
       "│ TTGTGTTCT ┆           ┆           ┆           ┆   ┆           ┆           ┆           ┆          │\n",
       "│ CAATAG-1  ┆           ┆           ┆           ┆   ┆           ┆           ┆           ┆          │\n",
       "│ SCG0080_T ┆ 0.0       ┆ 0.0       ┆ 0.0       ┆ … ┆ 0.0       ┆ 0.0       ┆ 0.0       ┆ 0.0      │\n",
       "│ TTGTTGGTT ┆           ┆           ┆           ┆   ┆           ┆           ┆           ┆          │\n",
       "│ AGGTGC-1  ┆           ┆           ┆           ┆   ┆           ┆           ┆           ┆          │\n",
       "│ SCG0080_T ┆ 0.0       ┆ 0.0       ┆ 0.0       ┆ … ┆ 0.0       ┆ 0.0       ┆ 0.0       ┆ 0.0      │\n",
       "│ TTGTTGGTT ┆           ┆           ┆           ┆   ┆           ┆           ┆           ┆          │\n",
       "│ AGTACG-1  ┆           ┆           ┆           ┆   ┆           ┆           ┆           ┆          │\n",
       "│ SCG0080_T ┆ 0.0       ┆ 0.0       ┆ 0.0       ┆ … ┆ 0.0       ┆ 0.0       ┆ 0.0       ┆ 0.0      │\n",
       "│ TTGTTGGTT ┆           ┆           ┆           ┆   ┆           ┆           ┆           ┆          │\n",
       "│ CGCGCT-1  ┆           ┆           ┆           ┆   ┆           ┆           ┆           ┆          │\n",
       "└───────────┴───────────┴───────────┴───────────┴───┴───────────┴───────────┴───────────┴──────────┘"
      ]
     },
     "execution_count": 4,
     "metadata": {},
     "output_type": "execute_result"
    }
   ],
   "source": [
    "atac_norm"
   ]
  },
  {
   "cell_type": "code",
   "execution_count": 6,
   "id": "19efcbaa-0bc4-4767-bad2-8d96ab626fba",
   "metadata": {},
   "outputs": [],
   "source": [
    "# Save to Parquet \n",
    "atac_norm.write_parquet(\"atac_norm_matrix.parquet\")"
   ]
  },
  {
   "cell_type": "code",
   "execution_count": null,
   "id": "414c5e18-431a-4f80-9b8b-b66ecd34fa02",
   "metadata": {},
   "outputs": [],
   "source": [
    "# Import RNAseq expression and combine RNA with ATAC"
   ]
  },
  {
   "cell_type": "code",
   "execution_count": 6,
   "id": "e3bc1291-2d22-4d37-96b1-eeca3a3fedda",
   "metadata": {},
   "outputs": [],
   "source": [
    "# Import RNAseq expression \n",
    "df_expr_norm = pl.read_csv(\"k562.allele.flt.M_df_expr_norm.tsv\", separator=\"\\t\", has_header=True)\n",
    "df_expr_norm = df_expr_norm.rename({df_expr_norm.columns[0]: \"barcode\"})"
   ]
  },
  {
   "cell_type": "code",
   "execution_count": 7,
   "id": "5abbdc0b-86f8-4f49-9201-5471abc8e282",
   "metadata": {},
   "outputs": [
    {
     "data": {
      "text/html": [
       "<div><style>\n",
       ".dataframe > thead > tr,\n",
       ".dataframe > tbody > tr {\n",
       "  text-align: right;\n",
       "  white-space: pre-wrap;\n",
       "}\n",
       "</style>\n",
       "<small>shape: (40_593, 10_570)</small><table border=\"1\" class=\"dataframe\"><thead><tr><th>barcode</th><th>ENSG00000000457</th><th>ENSG00000000460</th><th>ENSG00000000971</th><th>ENSG00000001036</th><th>ENSG00000001084</th><th>ENSG00000001167</th><th>ENSG00000001460</th><th>ENSG00000001461</th><th>ENSG00000001630</th><th>ENSG00000002330</th><th>ENSG00000002746</th><th>ENSG00000002822</th><th>ENSG00000002834</th><th>ENSG00000002919</th><th>ENSG00000003147</th><th>ENSG00000003249</th><th>ENSG00000003436</th><th>ENSG00000003509</th><th>ENSG00000003987</th><th>ENSG00000004139</th><th>ENSG00000004142</th><th>ENSG00000004455</th><th>ENSG00000004468</th><th>ENSG00000004487</th><th>ENSG00000004766</th><th>ENSG00000004779</th><th>ENSG00000004864</th><th>ENSG00000004866</th><th>ENSG00000004897</th><th>ENSG00000004939</th><th>ENSG00000004948</th><th>ENSG00000005001</th><th>ENSG00000005007</th><th>ENSG00000005020</th><th>ENSG00000005059</th><th>ENSG00000005102</th><th>&hellip;</th><th>ENSG00000287820</th><th>ENSG00000287832</th><th>ENSG00000287836</th><th>ENSG00000287839</th><th>ENSG00000287845</th><th>ENSG00000287860</th><th>ENSG00000287865</th><th>ENSG00000287877</th><th>ENSG00000287883</th><th>ENSG00000287896</th><th>ENSG00000287907</th><th>ENSG00000287919</th><th>ENSG00000287920</th><th>ENSG00000287935</th><th>ENSG00000287937</th><th>ENSG00000287938</th><th>ENSG00000287943</th><th>ENSG00000287972</th><th>ENSG00000287973</th><th>ENSG00000287976</th><th>ENSG00000288002</th><th>ENSG00000288005</th><th>ENSG00000288009</th><th>ENSG00000288061</th><th>ENSG00000288066</th><th>ENSG00000288067</th><th>ENSG00000288071</th><th>ENSG00000288075</th><th>ENSG00000288091</th><th>ENSG00000288093</th><th>ENSG00000288156</th><th>ENSG00000288253</th><th>ENSG00000288321</th><th>ENSG00000288380</th><th>ENSG00000288398</th><th>Phase</th><th>metacell</th></tr><tr><td>str</td><td>f64</td><td>f64</td><td>f64</td><td>f64</td><td>f64</td><td>f64</td><td>f64</td><td>f64</td><td>f64</td><td>f64</td><td>f64</td><td>f64</td><td>f64</td><td>f64</td><td>f64</td><td>f64</td><td>f64</td><td>f64</td><td>f64</td><td>f64</td><td>f64</td><td>f64</td><td>f64</td><td>f64</td><td>f64</td><td>f64</td><td>f64</td><td>f64</td><td>f64</td><td>f64</td><td>f64</td><td>f64</td><td>f64</td><td>f64</td><td>f64</td><td>f64</td><td>&hellip;</td><td>f64</td><td>f64</td><td>f64</td><td>f64</td><td>f64</td><td>f64</td><td>f64</td><td>f64</td><td>f64</td><td>f64</td><td>f64</td><td>f64</td><td>f64</td><td>f64</td><td>f64</td><td>f64</td><td>f64</td><td>f64</td><td>f64</td><td>f64</td><td>f64</td><td>f64</td><td>f64</td><td>f64</td><td>f64</td><td>f64</td><td>f64</td><td>f64</td><td>f64</td><td>f64</td><td>f64</td><td>f64</td><td>f64</td><td>f64</td><td>f64</td><td>str</td><td>str</td></tr></thead><tbody><tr><td>&quot;SCG0074_AAACAGCCAAACATAG-1&quot;</td><td>0.0</td><td>0.0</td><td>0.0</td><td>0.0</td><td>0.0</td><td>0.0</td><td>0.0</td><td>0.0</td><td>0.0</td><td>0.0</td><td>0.0</td><td>0.0</td><td>0.0</td><td>0.0</td><td>0.0</td><td>0.0</td><td>0.0</td><td>0.0</td><td>0.0</td><td>0.0</td><td>0.0</td><td>0.0</td><td>0.0</td><td>0.0</td><td>0.0</td><td>0.0</td><td>0.0</td><td>0.0</td><td>0.0</td><td>0.0</td><td>0.0</td><td>0.0</td><td>0.0</td><td>0.0</td><td>0.0</td><td>0.0</td><td>&hellip;</td><td>0.0</td><td>0.0</td><td>0.0</td><td>0.0</td><td>0.0</td><td>0.0</td><td>0.0</td><td>0.0</td><td>0.0</td><td>0.0</td><td>0.0</td><td>0.0</td><td>0.0</td><td>0.0</td><td>0.0</td><td>0.0</td><td>0.0</td><td>0.0</td><td>0.0</td><td>0.0</td><td>0.0</td><td>0.0</td><td>0.0</td><td>0.0</td><td>0.0</td><td>0.0</td><td>0.0</td><td>0.0</td><td>0.0</td><td>0.0</td><td>0.0</td><td>0.0</td><td>0.0</td><td>0.0</td><td>0.0</td><td>&quot;G1&quot;</td><td>&quot;G1_3&quot;</td></tr><tr><td>&quot;SCG0074_AAACAGCCACCGTTCC-1&quot;</td><td>0.0</td><td>0.0</td><td>0.0</td><td>0.0</td><td>0.0</td><td>0.0</td><td>0.0</td><td>0.0</td><td>0.0</td><td>0.0</td><td>0.0</td><td>0.0</td><td>0.0</td><td>0.0</td><td>0.0</td><td>0.0</td><td>0.0</td><td>0.0</td><td>0.0</td><td>0.0</td><td>0.0</td><td>0.0</td><td>0.0</td><td>0.0</td><td>0.0</td><td>0.0</td><td>0.0</td><td>0.0</td><td>0.0</td><td>0.0</td><td>0.0</td><td>0.0</td><td>0.0</td><td>0.0</td><td>0.0</td><td>0.0</td><td>&hellip;</td><td>0.0</td><td>0.0</td><td>0.0</td><td>0.0</td><td>0.0</td><td>0.0</td><td>0.0</td><td>0.0</td><td>0.0</td><td>0.0</td><td>0.0</td><td>0.0</td><td>0.0</td><td>0.0</td><td>0.0</td><td>0.0</td><td>0.0</td><td>0.0</td><td>0.0</td><td>0.0</td><td>0.0</td><td>0.0</td><td>0.0</td><td>0.0</td><td>0.0</td><td>0.0</td><td>0.0</td><td>0.0</td><td>0.0</td><td>0.0</td><td>0.0</td><td>0.0</td><td>0.0</td><td>0.0</td><td>0.0</td><td>&quot;S&quot;</td><td>&quot;S_34&quot;</td></tr><tr><td>&quot;SCG0074_AAACAGCCATCGCTTT-1&quot;</td><td>0.0</td><td>0.0</td><td>0.0</td><td>0.0</td><td>0.0</td><td>0.0</td><td>0.0</td><td>0.0</td><td>0.0</td><td>0.0</td><td>0.0</td><td>0.0</td><td>0.0</td><td>0.0</td><td>0.0</td><td>0.0</td><td>0.0</td><td>0.0</td><td>0.0</td><td>0.0</td><td>0.0</td><td>0.0</td><td>0.0</td><td>0.0</td><td>0.0</td><td>0.0</td><td>0.0</td><td>0.0</td><td>0.0</td><td>0.0</td><td>0.0</td><td>0.0</td><td>0.0</td><td>0.0</td><td>0.0</td><td>0.0</td><td>&hellip;</td><td>0.0</td><td>0.0</td><td>0.0</td><td>0.0</td><td>0.0</td><td>0.0</td><td>0.0</td><td>0.0</td><td>0.0</td><td>0.0</td><td>0.0</td><td>0.0</td><td>0.0</td><td>0.0</td><td>0.0</td><td>0.0</td><td>0.0</td><td>0.0</td><td>0.0</td><td>0.0</td><td>0.0</td><td>0.0</td><td>0.0</td><td>0.0</td><td>0.0</td><td>0.0</td><td>0.0</td><td>0.0</td><td>0.0</td><td>0.0</td><td>0.0</td><td>0.0</td><td>0.0</td><td>0.0</td><td>0.0</td><td>&quot;G2M&quot;</td><td>&quot;G2M_35&quot;</td></tr><tr><td>&quot;SCG0074_AAACAGCCATTGTGAT-1&quot;</td><td>0.0</td><td>0.0</td><td>0.0</td><td>0.0</td><td>0.0</td><td>0.0</td><td>0.0</td><td>0.0</td><td>0.0</td><td>0.0</td><td>0.0</td><td>0.0</td><td>0.0</td><td>0.0</td><td>0.0</td><td>0.0</td><td>0.0</td><td>0.0</td><td>0.0</td><td>0.0</td><td>0.0</td><td>0.0</td><td>0.0</td><td>0.0</td><td>0.0</td><td>0.0</td><td>0.0</td><td>0.0</td><td>0.0</td><td>0.0</td><td>0.0</td><td>0.0</td><td>0.0</td><td>0.0</td><td>0.0</td><td>0.0</td><td>&hellip;</td><td>0.0</td><td>0.0</td><td>0.0</td><td>0.0</td><td>0.0</td><td>0.0</td><td>0.0</td><td>0.0</td><td>0.0</td><td>0.0</td><td>0.0</td><td>0.0</td><td>0.0</td><td>0.0</td><td>0.0</td><td>0.0</td><td>0.0</td><td>0.0</td><td>0.0</td><td>0.0</td><td>0.0</td><td>0.0</td><td>0.0</td><td>0.0</td><td>0.0</td><td>0.0</td><td>0.0</td><td>0.0</td><td>0.0</td><td>0.0</td><td>0.0</td><td>0.0</td><td>0.0</td><td>0.0</td><td>0.0</td><td>&quot;S&quot;</td><td>&quot;S_15&quot;</td></tr><tr><td>&quot;SCG0074_AAACATGCAACATAAG-1&quot;</td><td>0.0</td><td>0.0</td><td>0.0</td><td>0.0</td><td>0.0</td><td>0.0</td><td>0.0</td><td>0.0</td><td>0.0</td><td>0.0</td><td>0.0</td><td>0.0</td><td>0.0</td><td>0.0</td><td>0.0</td><td>0.0</td><td>0.0</td><td>0.0</td><td>0.0</td><td>0.0</td><td>0.0</td><td>0.0</td><td>0.0</td><td>0.0</td><td>0.0</td><td>0.0</td><td>0.0</td><td>0.0</td><td>0.0</td><td>0.0</td><td>0.0</td><td>0.0</td><td>0.0</td><td>0.0</td><td>0.0</td><td>0.0</td><td>&hellip;</td><td>0.0</td><td>0.0</td><td>0.0</td><td>0.0</td><td>0.0</td><td>0.0</td><td>0.0</td><td>0.0</td><td>0.0</td><td>0.0</td><td>0.0</td><td>0.0</td><td>0.0</td><td>0.0</td><td>0.0</td><td>0.0</td><td>0.0</td><td>0.0</td><td>0.0</td><td>0.0</td><td>0.0</td><td>0.0</td><td>0.0</td><td>0.0</td><td>0.0</td><td>0.0</td><td>0.0</td><td>0.0</td><td>0.0</td><td>0.0</td><td>0.0</td><td>0.0</td><td>0.0</td><td>0.0</td><td>0.0</td><td>&quot;S&quot;</td><td>&quot;S_36&quot;</td></tr><tr><td>&hellip;</td><td>&hellip;</td><td>&hellip;</td><td>&hellip;</td><td>&hellip;</td><td>&hellip;</td><td>&hellip;</td><td>&hellip;</td><td>&hellip;</td><td>&hellip;</td><td>&hellip;</td><td>&hellip;</td><td>&hellip;</td><td>&hellip;</td><td>&hellip;</td><td>&hellip;</td><td>&hellip;</td><td>&hellip;</td><td>&hellip;</td><td>&hellip;</td><td>&hellip;</td><td>&hellip;</td><td>&hellip;</td><td>&hellip;</td><td>&hellip;</td><td>&hellip;</td><td>&hellip;</td><td>&hellip;</td><td>&hellip;</td><td>&hellip;</td><td>&hellip;</td><td>&hellip;</td><td>&hellip;</td><td>&hellip;</td><td>&hellip;</td><td>&hellip;</td><td>&hellip;</td><td>&hellip;</td><td>&hellip;</td><td>&hellip;</td><td>&hellip;</td><td>&hellip;</td><td>&hellip;</td><td>&hellip;</td><td>&hellip;</td><td>&hellip;</td><td>&hellip;</td><td>&hellip;</td><td>&hellip;</td><td>&hellip;</td><td>&hellip;</td><td>&hellip;</td><td>&hellip;</td><td>&hellip;</td><td>&hellip;</td><td>&hellip;</td><td>&hellip;</td><td>&hellip;</td><td>&hellip;</td><td>&hellip;</td><td>&hellip;</td><td>&hellip;</td><td>&hellip;</td><td>&hellip;</td><td>&hellip;</td><td>&hellip;</td><td>&hellip;</td><td>&hellip;</td><td>&hellip;</td><td>&hellip;</td><td>&hellip;</td><td>&hellip;</td><td>&hellip;</td><td>&hellip;</td><td>&hellip;</td></tr><tr><td>&quot;SCG0080_TTTGTGTTCTACCTCA-1&quot;</td><td>0.0</td><td>0.0</td><td>0.0</td><td>0.0</td><td>0.0</td><td>0.0</td><td>0.0</td><td>0.0</td><td>0.0</td><td>0.0</td><td>0.0</td><td>0.0</td><td>0.0</td><td>0.0</td><td>0.0</td><td>0.0</td><td>0.0</td><td>0.0</td><td>0.0</td><td>0.0</td><td>0.0</td><td>0.0</td><td>0.0</td><td>0.0</td><td>0.0</td><td>0.0</td><td>0.0</td><td>0.0</td><td>0.0</td><td>0.0</td><td>0.0</td><td>0.0</td><td>0.0</td><td>0.0</td><td>0.0</td><td>0.0</td><td>&hellip;</td><td>0.0</td><td>0.0</td><td>0.0</td><td>0.0</td><td>0.0</td><td>0.0</td><td>0.0</td><td>0.0</td><td>0.0</td><td>0.0</td><td>0.0</td><td>0.0</td><td>0.0</td><td>0.0</td><td>0.0</td><td>0.0</td><td>0.0</td><td>0.0</td><td>0.0</td><td>0.0</td><td>0.0</td><td>0.0</td><td>0.0</td><td>0.0</td><td>0.0</td><td>0.0</td><td>0.0</td><td>0.0</td><td>0.0</td><td>0.0</td><td>0.0</td><td>0.0</td><td>0.0</td><td>0.0</td><td>0.0</td><td>&quot;G1&quot;</td><td>&quot;G1_7&quot;</td></tr><tr><td>&quot;SCG0080_TTTGTGTTCTCAATAG-1&quot;</td><td>0.0</td><td>0.0</td><td>0.0</td><td>0.0</td><td>0.0</td><td>0.0</td><td>0.0</td><td>0.0</td><td>0.0</td><td>0.0</td><td>0.0</td><td>0.0</td><td>0.0</td><td>0.0</td><td>0.0</td><td>0.0</td><td>0.0</td><td>0.0</td><td>0.0</td><td>0.0</td><td>0.0</td><td>0.0</td><td>0.0</td><td>0.0</td><td>0.0</td><td>0.0</td><td>0.0</td><td>0.0</td><td>0.0</td><td>0.0</td><td>0.0</td><td>0.0</td><td>0.0</td><td>0.0</td><td>0.0</td><td>0.0</td><td>&hellip;</td><td>0.0</td><td>0.0</td><td>0.0</td><td>0.0</td><td>0.0</td><td>0.0</td><td>0.0</td><td>0.0</td><td>0.0</td><td>0.0</td><td>0.0</td><td>0.0</td><td>0.0</td><td>0.0</td><td>0.0</td><td>0.0</td><td>0.0</td><td>0.0</td><td>0.0</td><td>0.0</td><td>0.0</td><td>0.0</td><td>0.0</td><td>0.0</td><td>0.0</td><td>0.0</td><td>0.0</td><td>0.0</td><td>0.0</td><td>0.0</td><td>0.0</td><td>0.0</td><td>0.0</td><td>0.0</td><td>0.0</td><td>&quot;S&quot;</td><td>&quot;S_22&quot;</td></tr><tr><td>&quot;SCG0080_TTTGTTGGTTAGGTGC-1&quot;</td><td>0.0</td><td>0.0</td><td>0.0</td><td>0.0</td><td>0.0</td><td>0.0</td><td>0.0</td><td>0.0</td><td>0.0</td><td>0.0</td><td>0.0</td><td>0.0</td><td>0.0</td><td>0.0</td><td>0.0</td><td>0.0</td><td>0.0</td><td>0.0</td><td>0.0</td><td>0.0</td><td>0.0</td><td>0.0</td><td>0.0</td><td>0.0</td><td>0.0</td><td>0.0</td><td>0.0</td><td>0.0</td><td>0.0</td><td>0.0</td><td>0.0</td><td>0.0</td><td>0.0</td><td>0.0</td><td>0.0</td><td>0.0</td><td>&hellip;</td><td>0.0</td><td>0.0</td><td>0.0</td><td>0.0</td><td>0.0</td><td>0.0</td><td>0.0</td><td>0.0</td><td>0.0</td><td>0.0</td><td>0.0</td><td>0.0</td><td>0.0</td><td>0.0</td><td>0.0</td><td>0.0</td><td>0.0</td><td>0.0</td><td>0.0</td><td>0.0</td><td>0.0</td><td>0.0</td><td>0.0</td><td>0.0</td><td>0.0</td><td>0.0</td><td>0.0</td><td>0.0</td><td>0.0</td><td>0.0</td><td>0.0</td><td>0.0</td><td>0.0</td><td>0.0</td><td>0.0</td><td>&quot;S&quot;</td><td>&quot;S_32&quot;</td></tr><tr><td>&quot;SCG0080_TTTGTTGGTTAGTACG-1&quot;</td><td>0.0</td><td>0.0</td><td>0.0</td><td>0.0</td><td>0.0</td><td>0.0</td><td>0.0</td><td>0.0</td><td>0.0</td><td>0.0</td><td>0.0</td><td>0.0</td><td>0.0</td><td>0.0</td><td>0.0</td><td>0.0</td><td>0.0</td><td>0.0</td><td>0.0</td><td>0.0</td><td>0.0</td><td>0.0</td><td>0.0</td><td>0.0</td><td>0.0</td><td>0.0</td><td>0.0</td><td>0.0</td><td>0.0</td><td>0.0</td><td>0.0</td><td>0.0</td><td>0.0</td><td>0.0</td><td>0.0</td><td>0.0</td><td>&hellip;</td><td>0.0</td><td>0.0</td><td>0.0</td><td>0.0</td><td>0.0</td><td>0.0</td><td>0.0</td><td>0.0</td><td>0.0</td><td>0.0</td><td>0.0</td><td>0.0</td><td>0.0</td><td>0.0</td><td>0.0</td><td>0.0</td><td>0.0</td><td>0.0</td><td>0.0</td><td>0.0</td><td>0.0</td><td>0.0</td><td>0.0</td><td>0.0</td><td>0.0</td><td>0.0</td><td>0.0</td><td>0.0</td><td>0.0</td><td>0.0</td><td>0.0</td><td>0.0</td><td>0.0</td><td>0.0</td><td>0.0</td><td>&quot;G2M&quot;</td><td>&quot;G2M_28&quot;</td></tr><tr><td>&quot;SCG0080_TTTGTTGGTTCGCGCT-1&quot;</td><td>0.0</td><td>0.0</td><td>0.0</td><td>0.0</td><td>0.0</td><td>0.0</td><td>0.0</td><td>0.0</td><td>0.0</td><td>0.0</td><td>0.0</td><td>0.0</td><td>0.0</td><td>0.0</td><td>0.0</td><td>0.0</td><td>0.0</td><td>0.0</td><td>0.0</td><td>0.0</td><td>0.0</td><td>0.0</td><td>0.0</td><td>0.0</td><td>0.0</td><td>0.0</td><td>0.0</td><td>0.0</td><td>0.0</td><td>0.0</td><td>0.0</td><td>0.0</td><td>0.0</td><td>0.0</td><td>0.0</td><td>0.0</td><td>&hellip;</td><td>0.0</td><td>0.0</td><td>0.0</td><td>0.0</td><td>0.0</td><td>0.0</td><td>0.0</td><td>0.0</td><td>0.0</td><td>0.0</td><td>0.0</td><td>0.0</td><td>0.0</td><td>0.0</td><td>0.0</td><td>0.0</td><td>0.0</td><td>0.0</td><td>0.0</td><td>0.0</td><td>0.0</td><td>0.0</td><td>0.0</td><td>0.0</td><td>0.0</td><td>0.0</td><td>0.0</td><td>0.0</td><td>0.0</td><td>0.0</td><td>0.0</td><td>0.0</td><td>0.0</td><td>0.0</td><td>0.0</td><td>&quot;G1&quot;</td><td>&quot;G1_23&quot;</td></tr></tbody></table></div>"
      ],
      "text/plain": [
       "shape: (40_593, 10_570)\n",
       "┌────────────┬────────────┬────────────┬────────────┬───┬───────────┬───────────┬───────┬──────────┐\n",
       "│ barcode    ┆ ENSG000000 ┆ ENSG000000 ┆ ENSG000000 ┆ … ┆ ENSG00000 ┆ ENSG00000 ┆ Phase ┆ metacell │\n",
       "│ ---        ┆ 00457      ┆ 00460      ┆ 00971      ┆   ┆ 288380    ┆ 288398    ┆ ---   ┆ ---      │\n",
       "│ str        ┆ ---        ┆ ---        ┆ ---        ┆   ┆ ---       ┆ ---       ┆ str   ┆ str      │\n",
       "│            ┆ f64        ┆ f64        ┆ f64        ┆   ┆ f64       ┆ f64       ┆       ┆          │\n",
       "╞════════════╪════════════╪════════════╪════════════╪═══╪═══════════╪═══════════╪═══════╪══════════╡\n",
       "│ SCG0074_AA ┆ 0.0        ┆ 0.0        ┆ 0.0        ┆ … ┆ 0.0       ┆ 0.0       ┆ G1    ┆ G1_3     │\n",
       "│ ACAGCCAAAC ┆            ┆            ┆            ┆   ┆           ┆           ┆       ┆          │\n",
       "│ ATAG-1     ┆            ┆            ┆            ┆   ┆           ┆           ┆       ┆          │\n",
       "│ SCG0074_AA ┆ 0.0        ┆ 0.0        ┆ 0.0        ┆ … ┆ 0.0       ┆ 0.0       ┆ S     ┆ S_34     │\n",
       "│ ACAGCCACCG ┆            ┆            ┆            ┆   ┆           ┆           ┆       ┆          │\n",
       "│ TTCC-1     ┆            ┆            ┆            ┆   ┆           ┆           ┆       ┆          │\n",
       "│ SCG0074_AA ┆ 0.0        ┆ 0.0        ┆ 0.0        ┆ … ┆ 0.0       ┆ 0.0       ┆ G2M   ┆ G2M_35   │\n",
       "│ ACAGCCATCG ┆            ┆            ┆            ┆   ┆           ┆           ┆       ┆          │\n",
       "│ CTTT-1     ┆            ┆            ┆            ┆   ┆           ┆           ┆       ┆          │\n",
       "│ SCG0074_AA ┆ 0.0        ┆ 0.0        ┆ 0.0        ┆ … ┆ 0.0       ┆ 0.0       ┆ S     ┆ S_15     │\n",
       "│ ACAGCCATTG ┆            ┆            ┆            ┆   ┆           ┆           ┆       ┆          │\n",
       "│ TGAT-1     ┆            ┆            ┆            ┆   ┆           ┆           ┆       ┆          │\n",
       "│ SCG0074_AA ┆ 0.0        ┆ 0.0        ┆ 0.0        ┆ … ┆ 0.0       ┆ 0.0       ┆ S     ┆ S_36     │\n",
       "│ ACATGCAACA ┆            ┆            ┆            ┆   ┆           ┆           ┆       ┆          │\n",
       "│ TAAG-1     ┆            ┆            ┆            ┆   ┆           ┆           ┆       ┆          │\n",
       "│ …          ┆ …          ┆ …          ┆ …          ┆ … ┆ …         ┆ …         ┆ …     ┆ …        │\n",
       "│ SCG0080_TT ┆ 0.0        ┆ 0.0        ┆ 0.0        ┆ … ┆ 0.0       ┆ 0.0       ┆ G1    ┆ G1_7     │\n",
       "│ TGTGTTCTAC ┆            ┆            ┆            ┆   ┆           ┆           ┆       ┆          │\n",
       "│ CTCA-1     ┆            ┆            ┆            ┆   ┆           ┆           ┆       ┆          │\n",
       "│ SCG0080_TT ┆ 0.0        ┆ 0.0        ┆ 0.0        ┆ … ┆ 0.0       ┆ 0.0       ┆ S     ┆ S_22     │\n",
       "│ TGTGTTCTCA ┆            ┆            ┆            ┆   ┆           ┆           ┆       ┆          │\n",
       "│ ATAG-1     ┆            ┆            ┆            ┆   ┆           ┆           ┆       ┆          │\n",
       "│ SCG0080_TT ┆ 0.0        ┆ 0.0        ┆ 0.0        ┆ … ┆ 0.0       ┆ 0.0       ┆ S     ┆ S_32     │\n",
       "│ TGTTGGTTAG ┆            ┆            ┆            ┆   ┆           ┆           ┆       ┆          │\n",
       "│ GTGC-1     ┆            ┆            ┆            ┆   ┆           ┆           ┆       ┆          │\n",
       "│ SCG0080_TT ┆ 0.0        ┆ 0.0        ┆ 0.0        ┆ … ┆ 0.0       ┆ 0.0       ┆ G2M   ┆ G2M_28   │\n",
       "│ TGTTGGTTAG ┆            ┆            ┆            ┆   ┆           ┆           ┆       ┆          │\n",
       "│ TACG-1     ┆            ┆            ┆            ┆   ┆           ┆           ┆       ┆          │\n",
       "│ SCG0080_TT ┆ 0.0        ┆ 0.0        ┆ 0.0        ┆ … ┆ 0.0       ┆ 0.0       ┆ G1    ┆ G1_23    │\n",
       "│ TGTTGGTTCG ┆            ┆            ┆            ┆   ┆           ┆           ┆       ┆          │\n",
       "│ CGCT-1     ┆            ┆            ┆            ┆   ┆           ┆           ┆       ┆          │\n",
       "└────────────┴────────────┴────────────┴────────────┴───┴───────────┴───────────┴───────┴──────────┘"
      ]
     },
     "execution_count": 7,
     "metadata": {},
     "output_type": "execute_result"
    }
   ],
   "source": [
    "df_expr_norm"
   ]
  },
  {
   "cell_type": "code",
   "execution_count": 8,
   "id": "ca0f3b45-20f8-434d-aa71-9e5c9212bdc9",
   "metadata": {},
   "outputs": [],
   "source": [
    "# extracting metadeta from table\n",
    "df_metadata = df_expr_norm.select([\n",
    "    pl.col(\"barcode\"),\n",
    "    pl.col(\"Phase\"),\n",
    "    pl.col(\"metacell\"),\n",
    "    pl.col(\"metacell\").str.extract(r\"_(\\d+)\", 1).cast(pl.Int32).alias(\"Pseudotime\")\n",
    "])\n"
   ]
  },
  {
   "cell_type": "code",
   "execution_count": 9,
   "id": "aaf8aabe-d94f-43ca-ae6b-16c22d5a35f7",
   "metadata": {},
   "outputs": [
    {
     "data": {
      "text/html": [
       "<div><style>\n",
       ".dataframe > thead > tr,\n",
       ".dataframe > tbody > tr {\n",
       "  text-align: right;\n",
       "  white-space: pre-wrap;\n",
       "}\n",
       "</style>\n",
       "<small>shape: (40_593, 4)</small><table border=\"1\" class=\"dataframe\"><thead><tr><th>barcode</th><th>Phase</th><th>metacell</th><th>Pseudotime</th></tr><tr><td>str</td><td>str</td><td>str</td><td>i32</td></tr></thead><tbody><tr><td>&quot;SCG0074_AAACAGCCAAACATAG-1&quot;</td><td>&quot;G1&quot;</td><td>&quot;G1_3&quot;</td><td>3</td></tr><tr><td>&quot;SCG0074_AAACAGCCACCGTTCC-1&quot;</td><td>&quot;S&quot;</td><td>&quot;S_34&quot;</td><td>34</td></tr><tr><td>&quot;SCG0074_AAACAGCCATCGCTTT-1&quot;</td><td>&quot;G2M&quot;</td><td>&quot;G2M_35&quot;</td><td>35</td></tr><tr><td>&quot;SCG0074_AAACAGCCATTGTGAT-1&quot;</td><td>&quot;S&quot;</td><td>&quot;S_15&quot;</td><td>15</td></tr><tr><td>&quot;SCG0074_AAACATGCAACATAAG-1&quot;</td><td>&quot;S&quot;</td><td>&quot;S_36&quot;</td><td>36</td></tr><tr><td>&hellip;</td><td>&hellip;</td><td>&hellip;</td><td>&hellip;</td></tr><tr><td>&quot;SCG0080_TTTGTGTTCTACCTCA-1&quot;</td><td>&quot;G1&quot;</td><td>&quot;G1_7&quot;</td><td>7</td></tr><tr><td>&quot;SCG0080_TTTGTGTTCTCAATAG-1&quot;</td><td>&quot;S&quot;</td><td>&quot;S_22&quot;</td><td>22</td></tr><tr><td>&quot;SCG0080_TTTGTTGGTTAGGTGC-1&quot;</td><td>&quot;S&quot;</td><td>&quot;S_32&quot;</td><td>32</td></tr><tr><td>&quot;SCG0080_TTTGTTGGTTAGTACG-1&quot;</td><td>&quot;G2M&quot;</td><td>&quot;G2M_28&quot;</td><td>28</td></tr><tr><td>&quot;SCG0080_TTTGTTGGTTCGCGCT-1&quot;</td><td>&quot;G1&quot;</td><td>&quot;G1_23&quot;</td><td>23</td></tr></tbody></table></div>"
      ],
      "text/plain": [
       "shape: (40_593, 4)\n",
       "┌────────────────────────────┬───────┬──────────┬────────────┐\n",
       "│ barcode                    ┆ Phase ┆ metacell ┆ Pseudotime │\n",
       "│ ---                        ┆ ---   ┆ ---      ┆ ---        │\n",
       "│ str                        ┆ str   ┆ str      ┆ i32        │\n",
       "╞════════════════════════════╪═══════╪══════════╪════════════╡\n",
       "│ SCG0074_AAACAGCCAAACATAG-1 ┆ G1    ┆ G1_3     ┆ 3          │\n",
       "│ SCG0074_AAACAGCCACCGTTCC-1 ┆ S     ┆ S_34     ┆ 34         │\n",
       "│ SCG0074_AAACAGCCATCGCTTT-1 ┆ G2M   ┆ G2M_35   ┆ 35         │\n",
       "│ SCG0074_AAACAGCCATTGTGAT-1 ┆ S     ┆ S_15     ┆ 15         │\n",
       "│ SCG0074_AAACATGCAACATAAG-1 ┆ S     ┆ S_36     ┆ 36         │\n",
       "│ …                          ┆ …     ┆ …        ┆ …          │\n",
       "│ SCG0080_TTTGTGTTCTACCTCA-1 ┆ G1    ┆ G1_7     ┆ 7          │\n",
       "│ SCG0080_TTTGTGTTCTCAATAG-1 ┆ S     ┆ S_22     ┆ 22         │\n",
       "│ SCG0080_TTTGTTGGTTAGGTGC-1 ┆ S     ┆ S_32     ┆ 32         │\n",
       "│ SCG0080_TTTGTTGGTTAGTACG-1 ┆ G2M   ┆ G2M_28   ┆ 28         │\n",
       "│ SCG0080_TTTGTTGGTTCGCGCT-1 ┆ G1    ┆ G1_23    ┆ 23         │\n",
       "└────────────────────────────┴───────┴──────────┴────────────┘"
      ]
     },
     "execution_count": 9,
     "metadata": {},
     "output_type": "execute_result"
    }
   ],
   "source": [
    "df_metadata"
   ]
  },
  {
   "cell_type": "code",
   "execution_count": 11,
   "id": "a92dc351-f026-48fe-bc4b-2cd1a30a0448",
   "metadata": {},
   "outputs": [],
   "source": [
    "df_merged = atac_norm.join(\n",
    "    df_metadata.select([\"barcode\", \"Phase\", \"metacell\", \"Pseudotime\"]),\n",
    "    on=\"barcode\",\n",
    "    how=\"inner\"\n",
    ")\n"
   ]
  },
  {
   "cell_type": "code",
   "execution_count": 12,
   "id": "95c2af04-65c4-480d-91ed-c5f87c85de76",
   "metadata": {},
   "outputs": [
    {
     "data": {
      "text/html": [
       "<div><style>\n",
       ".dataframe > thead > tr,\n",
       ".dataframe > tbody > tr {\n",
       "  text-align: right;\n",
       "  white-space: pre-wrap;\n",
       "}\n",
       "</style>\n",
       "<small>shape: (40_250, 22_144)</small><table border=\"1\" class=\"dataframe\"><thead><tr><th>barcode</th><th>ENSG00000000460</th><th>ENSG00000000971</th><th>ENSG00000001460</th><th>ENSG00000001561</th><th>ENSG00000002330</th><th>ENSG00000002726</th><th>ENSG00000002745</th><th>ENSG00000002822</th><th>ENSG00000002834</th><th>ENSG00000002919</th><th>ENSG00000003509</th><th>ENSG00000003987</th><th>ENSG00000004139</th><th>ENSG00000004455</th><th>ENSG00000004487</th><th>ENSG00000004766</th><th>ENSG00000004809</th><th>ENSG00000005102</th><th>ENSG00000005108</th><th>ENSG00000005175</th><th>ENSG00000005206</th><th>ENSG00000005249</th><th>ENSG00000005421</th><th>ENSG00000005448</th><th>ENSG00000005486</th><th>ENSG00000005700</th><th>ENSG00000006025</th><th>ENSG00000006059</th><th>ENSG00000006071</th><th>ENSG00000006116</th><th>ENSG00000006125</th><th>ENSG00000006459</th><th>ENSG00000006606</th><th>ENSG00000006740</th><th>ENSG00000006747</th><th>ENSG00000007062</th><th>&hellip;</th><th>ENSG00000310411</th><th>ENSG00000310414</th><th>ENSG00000310415</th><th>ENSG00000310419</th><th>ENSG00000310420</th><th>ENSG00000310422</th><th>ENSG00000310425</th><th>ENSG00000310427</th><th>ENSG00000310435</th><th>ENSG00000310436</th><th>ENSG00000310437</th><th>ENSG00000310438</th><th>ENSG00000310441</th><th>ENSG00000310457</th><th>ENSG00000310458</th><th>ENSG00000310471</th><th>ENSG00000310476</th><th>ENSG00000310477</th><th>ENSG00000310483</th><th>ENSG00000310486</th><th>ENSG00000310489</th><th>ENSG00000310493</th><th>ENSG00000310500</th><th>ENSG00000310501</th><th>ENSG00000310504</th><th>ENSG00000310507</th><th>ENSG00000310511</th><th>ENSG00000310515</th><th>ENSG00000310516</th><th>ENSG00000310525</th><th>ENSG00000310529</th><th>ENSG00000310564</th><th>ENSG00000310566</th><th>ENSG00000310567</th><th>Phase</th><th>metacell</th><th>Pseudotime</th></tr><tr><td>str</td><td>f64</td><td>f64</td><td>f64</td><td>f64</td><td>f64</td><td>f64</td><td>f64</td><td>f64</td><td>f64</td><td>f64</td><td>f64</td><td>f64</td><td>f64</td><td>f64</td><td>f64</td><td>f64</td><td>f64</td><td>f64</td><td>f64</td><td>f64</td><td>f64</td><td>f64</td><td>f64</td><td>f64</td><td>f64</td><td>f64</td><td>f64</td><td>f64</td><td>f64</td><td>f64</td><td>f64</td><td>f64</td><td>f64</td><td>f64</td><td>f64</td><td>f64</td><td>&hellip;</td><td>f64</td><td>f64</td><td>f64</td><td>f64</td><td>f64</td><td>f64</td><td>f64</td><td>f64</td><td>f64</td><td>f64</td><td>f64</td><td>f64</td><td>f64</td><td>f64</td><td>f64</td><td>f64</td><td>f64</td><td>f64</td><td>f64</td><td>f64</td><td>f64</td><td>f64</td><td>f64</td><td>f64</td><td>f64</td><td>f64</td><td>f64</td><td>f64</td><td>f64</td><td>f64</td><td>f64</td><td>f64</td><td>f64</td><td>f64</td><td>str</td><td>str</td><td>i32</td></tr></thead><tbody><tr><td>&quot;SCG0074_AAACAGCCAAACATAG-1&quot;</td><td>0.0</td><td>0.0</td><td>0.0</td><td>0.0</td><td>0.0</td><td>0.0</td><td>0.0</td><td>0.0</td><td>0.0</td><td>0.0</td><td>0.0</td><td>0.0</td><td>0.0</td><td>0.0</td><td>0.0</td><td>0.0</td><td>0.0</td><td>0.0</td><td>0.0</td><td>0.0</td><td>0.0</td><td>0.0</td><td>0.0</td><td>0.0</td><td>0.0</td><td>0.0</td><td>0.0</td><td>0.0</td><td>0.0</td><td>0.0</td><td>0.0</td><td>0.0</td><td>0.0</td><td>0.0</td><td>0.0</td><td>0.0</td><td>&hellip;</td><td>0.0</td><td>0.0</td><td>0.0</td><td>0.0</td><td>0.0</td><td>0.0</td><td>0.0</td><td>0.0</td><td>0.0</td><td>0.0</td><td>0.0</td><td>0.0</td><td>0.0</td><td>0.0</td><td>0.0</td><td>0.0</td><td>0.0</td><td>0.0</td><td>0.0</td><td>0.0</td><td>0.0</td><td>0.0</td><td>0.0</td><td>0.0</td><td>0.0</td><td>0.0</td><td>0.0</td><td>0.0</td><td>0.0</td><td>0.0</td><td>0.0</td><td>0.0</td><td>0.0</td><td>0.0</td><td>&quot;G1&quot;</td><td>&quot;G1_3&quot;</td><td>3</td></tr><tr><td>&quot;SCG0074_AAACAGCCACCGTTCC-1&quot;</td><td>0.0</td><td>0.0</td><td>0.0</td><td>0.0</td><td>0.0</td><td>0.0</td><td>0.0</td><td>0.0</td><td>0.0</td><td>0.0</td><td>0.0</td><td>0.0</td><td>0.0</td><td>0.0</td><td>0.0</td><td>0.0</td><td>0.0</td><td>0.0</td><td>0.0</td><td>0.0</td><td>0.0</td><td>0.0</td><td>0.0</td><td>0.0</td><td>0.0</td><td>0.0</td><td>0.0</td><td>0.0</td><td>0.0</td><td>0.0</td><td>0.0</td><td>0.0</td><td>0.0</td><td>0.0</td><td>0.0</td><td>0.0</td><td>&hellip;</td><td>0.0</td><td>0.0</td><td>0.0</td><td>0.0</td><td>0.0</td><td>0.0</td><td>0.0</td><td>0.0</td><td>0.0</td><td>0.0</td><td>0.0</td><td>0.0</td><td>0.0</td><td>0.0</td><td>0.0</td><td>0.0</td><td>0.0</td><td>0.0</td><td>0.0</td><td>0.0</td><td>0.0</td><td>0.0</td><td>0.0</td><td>0.0</td><td>0.0</td><td>0.0</td><td>0.0</td><td>0.0</td><td>0.0</td><td>0.0</td><td>0.0</td><td>0.0</td><td>0.0</td><td>0.0</td><td>&quot;S&quot;</td><td>&quot;S_34&quot;</td><td>34</td></tr><tr><td>&quot;SCG0074_AAACAGCCATCGCTTT-1&quot;</td><td>0.0</td><td>0.0</td><td>0.0</td><td>0.0</td><td>0.0</td><td>0.0</td><td>0.0</td><td>0.0</td><td>0.0</td><td>0.0</td><td>0.0</td><td>0.0</td><td>0.0</td><td>0.0</td><td>0.0</td><td>0.0</td><td>0.0</td><td>0.0</td><td>0.0</td><td>0.0</td><td>0.0</td><td>0.0</td><td>0.0</td><td>0.0</td><td>0.0</td><td>0.0</td><td>0.0</td><td>0.0</td><td>0.0</td><td>0.0</td><td>0.0</td><td>0.0</td><td>0.0</td><td>0.0</td><td>0.0</td><td>0.0</td><td>&hellip;</td><td>0.0</td><td>0.0</td><td>0.0</td><td>0.0</td><td>0.0</td><td>0.0</td><td>0.0</td><td>0.0</td><td>0.0</td><td>0.0</td><td>0.0</td><td>0.0</td><td>0.0</td><td>0.0</td><td>0.0</td><td>0.0</td><td>0.0</td><td>0.0</td><td>0.0</td><td>0.0</td><td>0.0</td><td>0.0</td><td>0.0</td><td>0.0</td><td>0.0</td><td>0.0</td><td>0.0</td><td>0.0</td><td>0.0</td><td>0.0</td><td>0.0</td><td>0.0</td><td>0.0</td><td>0.0</td><td>&quot;G2M&quot;</td><td>&quot;G2M_35&quot;</td><td>35</td></tr><tr><td>&quot;SCG0074_AAACAGCCATTGTGAT-1&quot;</td><td>0.0</td><td>0.0</td><td>0.0</td><td>0.0</td><td>0.0</td><td>0.0</td><td>0.0</td><td>0.0</td><td>0.0</td><td>0.0</td><td>0.0</td><td>0.0</td><td>0.0</td><td>0.0</td><td>0.0</td><td>0.0</td><td>0.0</td><td>0.0</td><td>0.0</td><td>0.0</td><td>0.0</td><td>0.0</td><td>0.0</td><td>0.0</td><td>0.0</td><td>0.0</td><td>0.0</td><td>0.0</td><td>0.0</td><td>0.0</td><td>0.0</td><td>0.0</td><td>0.0</td><td>0.0</td><td>0.0</td><td>0.0</td><td>&hellip;</td><td>0.0</td><td>0.0</td><td>0.0</td><td>0.0</td><td>0.0</td><td>0.0</td><td>0.0</td><td>0.0</td><td>0.0</td><td>0.0</td><td>0.0</td><td>0.0</td><td>0.0</td><td>0.0</td><td>0.0</td><td>0.0</td><td>0.0</td><td>0.0</td><td>0.0</td><td>0.0</td><td>0.0</td><td>0.0</td><td>0.0</td><td>0.0</td><td>0.0</td><td>0.0</td><td>0.0</td><td>0.0</td><td>0.0</td><td>0.0</td><td>0.0</td><td>0.0</td><td>0.0</td><td>0.0</td><td>&quot;S&quot;</td><td>&quot;S_15&quot;</td><td>15</td></tr><tr><td>&quot;SCG0074_AAACATGCAACATAAG-1&quot;</td><td>0.0</td><td>0.0</td><td>0.0</td><td>0.0</td><td>0.0</td><td>0.0</td><td>0.0</td><td>0.0</td><td>0.0</td><td>0.0</td><td>0.0</td><td>0.0</td><td>0.0</td><td>0.0</td><td>0.0</td><td>0.0</td><td>0.0</td><td>0.0</td><td>0.0</td><td>0.0</td><td>0.0</td><td>0.0</td><td>0.0</td><td>0.0</td><td>0.0</td><td>0.0</td><td>0.0</td><td>0.0</td><td>0.0</td><td>0.0</td><td>0.0</td><td>0.0</td><td>0.0</td><td>0.0</td><td>0.0</td><td>0.0</td><td>&hellip;</td><td>0.0</td><td>0.0</td><td>0.0</td><td>0.0</td><td>0.0</td><td>0.0</td><td>0.0</td><td>0.0</td><td>0.0</td><td>0.0</td><td>0.0</td><td>0.0</td><td>0.0</td><td>0.0</td><td>0.0</td><td>0.0</td><td>0.0</td><td>0.0</td><td>0.0</td><td>0.0</td><td>0.0</td><td>0.0</td><td>0.0</td><td>0.0</td><td>0.0</td><td>0.0</td><td>0.0</td><td>0.0</td><td>0.0</td><td>0.0</td><td>0.0</td><td>0.0</td><td>0.0</td><td>0.0</td><td>&quot;S&quot;</td><td>&quot;S_36&quot;</td><td>36</td></tr><tr><td>&hellip;</td><td>&hellip;</td><td>&hellip;</td><td>&hellip;</td><td>&hellip;</td><td>&hellip;</td><td>&hellip;</td><td>&hellip;</td><td>&hellip;</td><td>&hellip;</td><td>&hellip;</td><td>&hellip;</td><td>&hellip;</td><td>&hellip;</td><td>&hellip;</td><td>&hellip;</td><td>&hellip;</td><td>&hellip;</td><td>&hellip;</td><td>&hellip;</td><td>&hellip;</td><td>&hellip;</td><td>&hellip;</td><td>&hellip;</td><td>&hellip;</td><td>&hellip;</td><td>&hellip;</td><td>&hellip;</td><td>&hellip;</td><td>&hellip;</td><td>&hellip;</td><td>&hellip;</td><td>&hellip;</td><td>&hellip;</td><td>&hellip;</td><td>&hellip;</td><td>&hellip;</td><td>&hellip;</td><td>&hellip;</td><td>&hellip;</td><td>&hellip;</td><td>&hellip;</td><td>&hellip;</td><td>&hellip;</td><td>&hellip;</td><td>&hellip;</td><td>&hellip;</td><td>&hellip;</td><td>&hellip;</td><td>&hellip;</td><td>&hellip;</td><td>&hellip;</td><td>&hellip;</td><td>&hellip;</td><td>&hellip;</td><td>&hellip;</td><td>&hellip;</td><td>&hellip;</td><td>&hellip;</td><td>&hellip;</td><td>&hellip;</td><td>&hellip;</td><td>&hellip;</td><td>&hellip;</td><td>&hellip;</td><td>&hellip;</td><td>&hellip;</td><td>&hellip;</td><td>&hellip;</td><td>&hellip;</td><td>&hellip;</td><td>&hellip;</td><td>&hellip;</td><td>&hellip;</td><td>&hellip;</td></tr><tr><td>&quot;SCG0080_TTTGTGTTCTACCTCA-1&quot;</td><td>0.0</td><td>0.0</td><td>0.0</td><td>0.0</td><td>0.0</td><td>0.0</td><td>0.0</td><td>0.0</td><td>0.0</td><td>0.0</td><td>0.0</td><td>0.0</td><td>0.0</td><td>0.0</td><td>0.0</td><td>0.0</td><td>0.0</td><td>0.0</td><td>0.0</td><td>0.0</td><td>0.0</td><td>0.0</td><td>0.0</td><td>0.0</td><td>0.0</td><td>0.0</td><td>0.0</td><td>0.0</td><td>0.0</td><td>0.0</td><td>0.0</td><td>0.0</td><td>0.0</td><td>0.0</td><td>0.0</td><td>0.0</td><td>&hellip;</td><td>0.0</td><td>0.0</td><td>0.0</td><td>0.0</td><td>0.0</td><td>0.0</td><td>0.0</td><td>0.0</td><td>0.0</td><td>0.0</td><td>0.0</td><td>0.0</td><td>0.0</td><td>0.0</td><td>0.0</td><td>0.0</td><td>0.0</td><td>0.0</td><td>0.0</td><td>0.0</td><td>0.0</td><td>0.0</td><td>0.0</td><td>0.0</td><td>0.0</td><td>0.0</td><td>0.0</td><td>0.0</td><td>0.0</td><td>0.0</td><td>0.0</td><td>0.0</td><td>0.0</td><td>0.0</td><td>&quot;G1&quot;</td><td>&quot;G1_7&quot;</td><td>7</td></tr><tr><td>&quot;SCG0080_TTTGTGTTCTCAATAG-1&quot;</td><td>0.0</td><td>0.0</td><td>0.0</td><td>0.0</td><td>0.0</td><td>0.0</td><td>0.0</td><td>0.0</td><td>0.0</td><td>0.0</td><td>0.0</td><td>0.0</td><td>0.0</td><td>0.0</td><td>0.0</td><td>0.0</td><td>0.0</td><td>0.0</td><td>0.0</td><td>0.0</td><td>0.0</td><td>0.0</td><td>0.0</td><td>0.0</td><td>0.0</td><td>0.0</td><td>0.0</td><td>0.0</td><td>0.0</td><td>0.0</td><td>0.0</td><td>0.0</td><td>0.0</td><td>0.0</td><td>0.0</td><td>0.0</td><td>&hellip;</td><td>0.0</td><td>0.0</td><td>0.0</td><td>0.0</td><td>0.0</td><td>0.0</td><td>0.0</td><td>0.0</td><td>0.0</td><td>0.0</td><td>0.0</td><td>0.0</td><td>0.0</td><td>0.0</td><td>0.0</td><td>0.0</td><td>0.0</td><td>0.0</td><td>0.0</td><td>0.0</td><td>0.0</td><td>0.0</td><td>0.0</td><td>0.0</td><td>0.0</td><td>0.0</td><td>0.0</td><td>0.0</td><td>0.0</td><td>0.0</td><td>0.0</td><td>0.0</td><td>0.0</td><td>0.0</td><td>&quot;S&quot;</td><td>&quot;S_22&quot;</td><td>22</td></tr><tr><td>&quot;SCG0080_TTTGTTGGTTAGGTGC-1&quot;</td><td>0.0</td><td>0.0</td><td>0.0</td><td>0.0</td><td>0.0</td><td>0.0</td><td>0.0</td><td>0.0</td><td>0.0</td><td>0.0</td><td>0.0</td><td>0.0</td><td>0.0</td><td>0.0</td><td>0.0</td><td>0.0</td><td>0.0</td><td>0.0</td><td>0.0</td><td>0.0</td><td>0.0</td><td>0.0</td><td>0.0</td><td>0.0</td><td>0.0</td><td>0.0</td><td>0.0</td><td>0.0</td><td>0.0</td><td>0.0</td><td>0.0</td><td>0.0</td><td>0.0</td><td>0.0</td><td>0.0</td><td>0.0</td><td>&hellip;</td><td>0.0</td><td>0.0</td><td>0.0</td><td>0.0</td><td>0.0</td><td>0.0</td><td>0.0</td><td>0.0</td><td>0.0</td><td>0.0</td><td>0.0</td><td>0.0</td><td>0.0</td><td>0.0</td><td>0.0</td><td>0.0</td><td>0.0</td><td>0.0</td><td>0.0</td><td>0.0</td><td>0.0</td><td>0.0</td><td>0.0</td><td>0.0</td><td>0.0</td><td>0.0</td><td>0.0</td><td>0.0</td><td>0.0</td><td>0.0</td><td>0.0</td><td>0.0</td><td>0.0</td><td>0.0</td><td>&quot;S&quot;</td><td>&quot;S_32&quot;</td><td>32</td></tr><tr><td>&quot;SCG0080_TTTGTTGGTTAGTACG-1&quot;</td><td>0.0</td><td>0.0</td><td>0.0</td><td>0.0</td><td>0.0</td><td>0.0</td><td>0.0</td><td>0.0</td><td>0.0</td><td>0.0</td><td>0.0</td><td>0.0</td><td>0.0</td><td>0.0</td><td>0.0</td><td>0.0</td><td>0.0</td><td>0.0</td><td>0.0</td><td>0.0</td><td>0.0</td><td>0.0</td><td>0.0</td><td>0.0</td><td>0.0</td><td>0.0</td><td>0.0</td><td>0.0</td><td>0.0</td><td>0.0</td><td>0.0</td><td>0.0</td><td>0.0</td><td>0.0</td><td>0.0</td><td>0.0</td><td>&hellip;</td><td>0.0</td><td>0.0</td><td>0.0</td><td>0.0</td><td>0.0</td><td>0.0</td><td>0.0</td><td>0.0</td><td>0.0</td><td>0.0</td><td>0.0</td><td>0.0</td><td>0.0</td><td>0.0</td><td>0.0</td><td>0.0</td><td>0.0</td><td>0.0</td><td>0.0</td><td>0.0</td><td>0.0</td><td>0.0</td><td>0.0</td><td>0.0</td><td>0.0</td><td>0.0</td><td>0.0</td><td>0.0</td><td>0.0</td><td>0.0</td><td>0.0</td><td>0.0</td><td>0.0</td><td>0.0</td><td>&quot;G2M&quot;</td><td>&quot;G2M_28&quot;</td><td>28</td></tr><tr><td>&quot;SCG0080_TTTGTTGGTTCGCGCT-1&quot;</td><td>0.0</td><td>0.0</td><td>0.0</td><td>0.0</td><td>0.0</td><td>0.0</td><td>0.0</td><td>0.0</td><td>0.0</td><td>0.0</td><td>0.0</td><td>0.0</td><td>0.0</td><td>0.0</td><td>0.0</td><td>0.0</td><td>0.0</td><td>0.0</td><td>0.0</td><td>0.0</td><td>0.0</td><td>0.0</td><td>0.0</td><td>0.0</td><td>0.0</td><td>0.0</td><td>0.0</td><td>0.0</td><td>0.0</td><td>0.0</td><td>0.0</td><td>0.0</td><td>0.0</td><td>0.0</td><td>0.0</td><td>0.0</td><td>&hellip;</td><td>0.0</td><td>0.0</td><td>0.0</td><td>0.0</td><td>0.0</td><td>0.0</td><td>0.0</td><td>0.0</td><td>0.0</td><td>0.0</td><td>0.0</td><td>0.0</td><td>0.0</td><td>0.0</td><td>0.0</td><td>0.0</td><td>0.0</td><td>0.0</td><td>0.0</td><td>0.0</td><td>0.0</td><td>0.0</td><td>0.0</td><td>0.0</td><td>0.0</td><td>0.0</td><td>0.0</td><td>0.0</td><td>0.0</td><td>0.0</td><td>0.0</td><td>0.0</td><td>0.0</td><td>0.0</td><td>&quot;G1&quot;</td><td>&quot;G1_23&quot;</td><td>23</td></tr></tbody></table></div>"
      ],
      "text/plain": [
       "shape: (40_250, 22_144)\n",
       "┌────────────┬────────────┬────────────┬────────────┬───┬───────────┬───────┬──────────┬───────────┐\n",
       "│ barcode    ┆ ENSG000000 ┆ ENSG000000 ┆ ENSG000000 ┆ … ┆ ENSG00000 ┆ Phase ┆ metacell ┆ Pseudotim │\n",
       "│ ---        ┆ 00460      ┆ 00971      ┆ 01460      ┆   ┆ 310567    ┆ ---   ┆ ---      ┆ e         │\n",
       "│ str        ┆ ---        ┆ ---        ┆ ---        ┆   ┆ ---       ┆ str   ┆ str      ┆ ---       │\n",
       "│            ┆ f64        ┆ f64        ┆ f64        ┆   ┆ f64       ┆       ┆          ┆ i32       │\n",
       "╞════════════╪════════════╪════════════╪════════════╪═══╪═══════════╪═══════╪══════════╪═══════════╡\n",
       "│ SCG0074_AA ┆ 0.0        ┆ 0.0        ┆ 0.0        ┆ … ┆ 0.0       ┆ G1    ┆ G1_3     ┆ 3         │\n",
       "│ ACAGCCAAAC ┆            ┆            ┆            ┆   ┆           ┆       ┆          ┆           │\n",
       "│ ATAG-1     ┆            ┆            ┆            ┆   ┆           ┆       ┆          ┆           │\n",
       "│ SCG0074_AA ┆ 0.0        ┆ 0.0        ┆ 0.0        ┆ … ┆ 0.0       ┆ S     ┆ S_34     ┆ 34        │\n",
       "│ ACAGCCACCG ┆            ┆            ┆            ┆   ┆           ┆       ┆          ┆           │\n",
       "│ TTCC-1     ┆            ┆            ┆            ┆   ┆           ┆       ┆          ┆           │\n",
       "│ SCG0074_AA ┆ 0.0        ┆ 0.0        ┆ 0.0        ┆ … ┆ 0.0       ┆ G2M   ┆ G2M_35   ┆ 35        │\n",
       "│ ACAGCCATCG ┆            ┆            ┆            ┆   ┆           ┆       ┆          ┆           │\n",
       "│ CTTT-1     ┆            ┆            ┆            ┆   ┆           ┆       ┆          ┆           │\n",
       "│ SCG0074_AA ┆ 0.0        ┆ 0.0        ┆ 0.0        ┆ … ┆ 0.0       ┆ S     ┆ S_15     ┆ 15        │\n",
       "│ ACAGCCATTG ┆            ┆            ┆            ┆   ┆           ┆       ┆          ┆           │\n",
       "│ TGAT-1     ┆            ┆            ┆            ┆   ┆           ┆       ┆          ┆           │\n",
       "│ SCG0074_AA ┆ 0.0        ┆ 0.0        ┆ 0.0        ┆ … ┆ 0.0       ┆ S     ┆ S_36     ┆ 36        │\n",
       "│ ACATGCAACA ┆            ┆            ┆            ┆   ┆           ┆       ┆          ┆           │\n",
       "│ TAAG-1     ┆            ┆            ┆            ┆   ┆           ┆       ┆          ┆           │\n",
       "│ …          ┆ …          ┆ …          ┆ …          ┆ … ┆ …         ┆ …     ┆ …        ┆ …         │\n",
       "│ SCG0080_TT ┆ 0.0        ┆ 0.0        ┆ 0.0        ┆ … ┆ 0.0       ┆ G1    ┆ G1_7     ┆ 7         │\n",
       "│ TGTGTTCTAC ┆            ┆            ┆            ┆   ┆           ┆       ┆          ┆           │\n",
       "│ CTCA-1     ┆            ┆            ┆            ┆   ┆           ┆       ┆          ┆           │\n",
       "│ SCG0080_TT ┆ 0.0        ┆ 0.0        ┆ 0.0        ┆ … ┆ 0.0       ┆ S     ┆ S_22     ┆ 22        │\n",
       "│ TGTGTTCTCA ┆            ┆            ┆            ┆   ┆           ┆       ┆          ┆           │\n",
       "│ ATAG-1     ┆            ┆            ┆            ┆   ┆           ┆       ┆          ┆           │\n",
       "│ SCG0080_TT ┆ 0.0        ┆ 0.0        ┆ 0.0        ┆ … ┆ 0.0       ┆ S     ┆ S_32     ┆ 32        │\n",
       "│ TGTTGGTTAG ┆            ┆            ┆            ┆   ┆           ┆       ┆          ┆           │\n",
       "│ GTGC-1     ┆            ┆            ┆            ┆   ┆           ┆       ┆          ┆           │\n",
       "│ SCG0080_TT ┆ 0.0        ┆ 0.0        ┆ 0.0        ┆ … ┆ 0.0       ┆ G2M   ┆ G2M_28   ┆ 28        │\n",
       "│ TGTTGGTTAG ┆            ┆            ┆            ┆   ┆           ┆       ┆          ┆           │\n",
       "│ TACG-1     ┆            ┆            ┆            ┆   ┆           ┆       ┆          ┆           │\n",
       "│ SCG0080_TT ┆ 0.0        ┆ 0.0        ┆ 0.0        ┆ … ┆ 0.0       ┆ G1    ┆ G1_23    ┆ 23        │\n",
       "│ TGTTGGTTCG ┆            ┆            ┆            ┆   ┆           ┆       ┆          ┆           │\n",
       "│ CGCT-1     ┆            ┆            ┆            ┆   ┆           ┆       ┆          ┆           │\n",
       "└────────────┴────────────┴────────────┴────────────┴───┴───────────┴───────┴──────────┴───────────┘"
      ]
     },
     "execution_count": 12,
     "metadata": {},
     "output_type": "execute_result"
    }
   ],
   "source": [
    "df_merged"
   ]
  },
  {
   "cell_type": "code",
   "execution_count": 23,
   "id": "f0785f9c-795a-49d5-be87-7faeb65fc3f0",
   "metadata": {},
   "outputs": [],
   "source": [
    "# Group by \"metacell\" and calculate the mean of all other columns\n",
    "atac_by_metacell = (\n",
    "    df_merged\n",
    "    .group_by(\"metacell\")\n",
    "    .agg(\n",
    "        pl.all().exclude([\"barcode\", \"Phase\", \"Pseudotime\", \"metacell\"]).mean()\n",
    "    )\n",
    ")\n"
   ]
  },
  {
   "cell_type": "code",
   "execution_count": 24,
   "id": "0eeca859-621b-4575-8aa3-39ee4984a07c",
   "metadata": {
    "scrolled": true
   },
   "outputs": [
    {
     "data": {
      "text/html": [
       "<div><style>\n",
       ".dataframe > thead > tr,\n",
       ".dataframe > tbody > tr {\n",
       "  text-align: right;\n",
       "  white-space: pre-wrap;\n",
       "}\n",
       "</style>\n",
       "<small>shape: (105, 22_141)</small><table border=\"1\" class=\"dataframe\"><thead><tr><th>metacell</th><th>ENSG00000000460</th><th>ENSG00000000971</th><th>ENSG00000001460</th><th>ENSG00000001561</th><th>ENSG00000002330</th><th>ENSG00000002726</th><th>ENSG00000002745</th><th>ENSG00000002822</th><th>ENSG00000002834</th><th>ENSG00000002919</th><th>ENSG00000003509</th><th>ENSG00000003987</th><th>ENSG00000004139</th><th>ENSG00000004455</th><th>ENSG00000004487</th><th>ENSG00000004766</th><th>ENSG00000004809</th><th>ENSG00000005102</th><th>ENSG00000005108</th><th>ENSG00000005175</th><th>ENSG00000005206</th><th>ENSG00000005249</th><th>ENSG00000005421</th><th>ENSG00000005448</th><th>ENSG00000005486</th><th>ENSG00000005700</th><th>ENSG00000006025</th><th>ENSG00000006059</th><th>ENSG00000006071</th><th>ENSG00000006116</th><th>ENSG00000006125</th><th>ENSG00000006459</th><th>ENSG00000006606</th><th>ENSG00000006740</th><th>ENSG00000006747</th><th>ENSG00000007062</th><th>&hellip;</th><th>ENSG00000310399</th><th>ENSG00000310402</th><th>ENSG00000310409</th><th>ENSG00000310411</th><th>ENSG00000310414</th><th>ENSG00000310415</th><th>ENSG00000310419</th><th>ENSG00000310420</th><th>ENSG00000310422</th><th>ENSG00000310425</th><th>ENSG00000310427</th><th>ENSG00000310435</th><th>ENSG00000310436</th><th>ENSG00000310437</th><th>ENSG00000310438</th><th>ENSG00000310441</th><th>ENSG00000310457</th><th>ENSG00000310458</th><th>ENSG00000310471</th><th>ENSG00000310476</th><th>ENSG00000310477</th><th>ENSG00000310483</th><th>ENSG00000310486</th><th>ENSG00000310489</th><th>ENSG00000310493</th><th>ENSG00000310500</th><th>ENSG00000310501</th><th>ENSG00000310504</th><th>ENSG00000310507</th><th>ENSG00000310511</th><th>ENSG00000310515</th><th>ENSG00000310516</th><th>ENSG00000310525</th><th>ENSG00000310529</th><th>ENSG00000310564</th><th>ENSG00000310566</th><th>ENSG00000310567</th></tr><tr><td>str</td><td>f64</td><td>f64</td><td>f64</td><td>f64</td><td>f64</td><td>f64</td><td>f64</td><td>f64</td><td>f64</td><td>f64</td><td>f64</td><td>f64</td><td>f64</td><td>f64</td><td>f64</td><td>f64</td><td>f64</td><td>f64</td><td>f64</td><td>f64</td><td>f64</td><td>f64</td><td>f64</td><td>f64</td><td>f64</td><td>f64</td><td>f64</td><td>f64</td><td>f64</td><td>f64</td><td>f64</td><td>f64</td><td>f64</td><td>f64</td><td>f64</td><td>f64</td><td>&hellip;</td><td>f64</td><td>f64</td><td>f64</td><td>f64</td><td>f64</td><td>f64</td><td>f64</td><td>f64</td><td>f64</td><td>f64</td><td>f64</td><td>f64</td><td>f64</td><td>f64</td><td>f64</td><td>f64</td><td>f64</td><td>f64</td><td>f64</td><td>f64</td><td>f64</td><td>f64</td><td>f64</td><td>f64</td><td>f64</td><td>f64</td><td>f64</td><td>f64</td><td>f64</td><td>f64</td><td>f64</td><td>f64</td><td>f64</td><td>f64</td><td>f64</td><td>f64</td><td>f64</td></tr></thead><tbody><tr><td>&quot;G2M_4&quot;</td><td>0.0</td><td>0.0</td><td>0.726111</td><td>0.0</td><td>0.0</td><td>0.0</td><td>0.0</td><td>0.0</td><td>1.395015</td><td>1.880927</td><td>0.0</td><td>0.0</td><td>0.0</td><td>0.0</td><td>0.84076</td><td>1.521375</td><td>0.0</td><td>0.679763</td><td>0.0</td><td>0.0</td><td>1.064963</td><td>1.645851</td><td>0.0</td><td>0.726111</td><td>3.279378</td><td>1.362685</td><td>1.064963</td><td>0.0</td><td>0.0</td><td>0.0</td><td>1.37899</td><td>0.0</td><td>0.0</td><td>0.0</td><td>0.570516</td><td>3.331568</td><td>&hellip;</td><td>0.998403</td><td>0.0</td><td>0.0</td><td>0.0</td><td>0.0</td><td>2.438204</td><td>0.287828</td><td>0.0</td><td>0.0</td><td>0.0</td><td>0.0</td><td>0.0</td><td>2.785287</td><td>0.0</td><td>1.364318</td><td>0.0</td><td>0.0</td><td>0.0</td><td>0.0</td><td>0.0</td><td>0.0</td><td>1.331203</td><td>0.0</td><td>2.110444</td><td>0.819202</td><td>1.030609</td><td>0.0</td><td>0.0</td><td>2.282063</td><td>0.0</td><td>0.0</td><td>0.0</td><td>1.996805</td><td>0.0</td><td>1.558482</td><td>3.991585</td><td>0.0</td></tr><tr><td>&quot;G2M_28&quot;</td><td>1.619171</td><td>0.0</td><td>0.0</td><td>0.386668</td><td>0.0</td><td>0.0</td><td>0.0</td><td>1.559603</td><td>1.233654</td><td>2.374784</td><td>0.0</td><td>0.0</td><td>1.12638</td><td>0.0</td><td>1.103372</td><td>0.835701</td><td>0.0</td><td>0.0</td><td>0.0</td><td>0.0</td><td>0.0</td><td>0.0</td><td>0.0</td><td>0.0</td><td>2.590674</td><td>2.081791</td><td>3.330866</td><td>0.0</td><td>0.0</td><td>0.0</td><td>1.77204</td><td>0.0</td><td>0.0</td><td>0.0</td><td>0.498206</td><td>0.0</td><td>&hellip;</td><td>0.0</td><td>0.0</td><td>0.0</td><td>0.551207</td><td>0.0</td><td>0.815327</td><td>1.992252</td><td>0.0</td><td>0.0</td><td>0.37546</td><td>0.411218</td><td>0.0</td><td>0.0</td><td>1.363512</td><td>1.239981</td><td>0.0</td><td>0.809585</td><td>0.0</td><td>0.761963</td><td>0.0</td><td>0.0</td><td>0.925241</td><td>0.0</td><td>0.681756</td><td>0.0</td><td>0.893336</td><td>0.0</td><td>5.590945</td><td>1.978987</td><td>0.863558</td><td>0.0</td><td>2.158895</td><td>0.0</td><td>0.0</td><td>0.0</td><td>3.097635</td><td>0.0</td></tr><tr><td>&quot;G1_27&quot;</td><td>2.828054</td><td>0.0</td><td>0.0</td><td>0.0</td><td>3.480682</td><td>0.0</td><td>0.0</td><td>2.262443</td><td>4.211475</td><td>0.0</td><td>0.0</td><td>0.0</td><td>0.0</td><td>0.0</td><td>0.0</td><td>0.0</td><td>0.0</td><td>0.0</td><td>0.0</td><td>1.508296</td><td>0.0</td><td>1.103631</td><td>0.0</td><td>1.028383</td><td>0.0</td><td>2.619868</td><td>0.76693</td><td>1.160227</td><td>0.0</td><td>0.0</td><td>4.691703</td><td>3.770739</td><td>0.0</td><td>0.0</td><td>0.0</td><td>0.0</td><td>&hellip;</td><td>2.513826</td><td>0.0</td><td>0.0</td><td>0.0</td><td>0.0</td><td>0.0</td><td>3.878474</td><td>0.0</td><td>0.0</td><td>0.0</td><td>0.0</td><td>0.0</td><td>0.0</td><td>0.0</td><td>0.0</td><td>0.0</td><td>0.0</td><td>0.0</td><td>0.0</td><td>0.0</td><td>1.967342</td><td>0.0</td><td>0.0</td><td>1.560306</td><td>0.0</td><td>0.0</td><td>6.464124</td><td>5.923729</td><td>0.0</td><td>0.0</td><td>0.0</td><td>0.0</td><td>0.0</td><td>0.0</td><td>0.0</td><td>6.47323</td><td>0.0</td></tr><tr><td>&quot;G2M_19&quot;</td><td>0.915751</td><td>0.0</td><td>0.981162</td><td>0.0</td><td>0.947329</td><td>0.0</td><td>0.0</td><td>0.0</td><td>2.930955</td><td>0.0</td><td>0.0</td><td>0.0</td><td>0.450369</td><td>0.0</td><td>5.037753</td><td>0.538677</td><td>0.0</td><td>0.0</td><td>0.0</td><td>0.0</td><td>0.538677</td><td>0.610501</td><td>6.729382</td><td>0.0</td><td>1.017501</td><td>0.981162</td><td>0.886211</td><td>1.017501</td><td>0.0</td><td>0.0</td><td>1.308216</td><td>0.0</td><td>0.0</td><td>0.0</td><td>2.087932</td><td>1.528578</td><td>&hellip;</td><td>0.0</td><td>0.0</td><td>0.0</td><td>0.4995</td><td>0.0</td><td>0.947329</td><td>2.407315</td><td>0.0</td><td>0.0</td><td>0.0</td><td>0.0</td><td>0.597229</td><td>6.033183</td><td>0.0</td><td>0.0</td><td>0.0</td><td>1.098901</td><td>0.0</td><td>0.0</td><td>1.056636</td><td>0.0</td><td>0.0</td><td>0.0</td><td>1.194458</td><td>0.670062</td><td>0.981162</td><td>0.0</td><td>2.655037</td><td>0.0</td><td>0.528318</td><td>0.0</td><td>0.0</td><td>6.024677</td><td>0.0</td><td>0.0</td><td>4.701073</td><td>0.0</td></tr><tr><td>&quot;S_10&quot;</td><td>0.0</td><td>0.0</td><td>0.0</td><td>0.0</td><td>0.0</td><td>0.0</td><td>0.0</td><td>0.771426</td><td>0.486334</td><td>3.089379</td><td>0.0</td><td>0.0</td><td>0.0</td><td>0.0</td><td>0.520264</td><td>0.0</td><td>0.0</td><td>0.0</td><td>0.0</td><td>0.0</td><td>0.0</td><td>3.173201</td><td>0.0</td><td>0.0</td><td>0.828569</td><td>2.457461</td><td>0.721657</td><td>0.0</td><td>0.0</td><td>0.0</td><td>0.93214</td><td>0.828569</td><td>0.828569</td><td>0.0</td><td>0.324223</td><td>0.520264</td><td>&hellip;</td><td>0.0</td><td>0.0</td><td>0.0</td><td>0.0</td><td>0.0</td><td>0.699105</td><td>0.0</td><td>0.0</td><td>0.0</td><td>0.0</td><td>0.0</td><td>0.0</td><td>0.0</td><td>0.0</td><td>2.485707</td><td>2.689115</td><td>0.497141</td><td>0.0</td><td>0.860437</td><td>1.402194</td><td>2.485707</td><td>0.67792</td><td>0.0</td><td>10.918303</td><td>0.860437</td><td>2.237136</td><td>0.0</td><td>1.190633</td><td>0.0</td><td>0.972668</td><td>2.60233</td><td>0.0</td><td>0.0</td><td>0.0</td><td>0.324223</td><td>5.698926</td><td>1.48655</td></tr><tr><td>&hellip;</td><td>&hellip;</td><td>&hellip;</td><td>&hellip;</td><td>&hellip;</td><td>&hellip;</td><td>&hellip;</td><td>&hellip;</td><td>&hellip;</td><td>&hellip;</td><td>&hellip;</td><td>&hellip;</td><td>&hellip;</td><td>&hellip;</td><td>&hellip;</td><td>&hellip;</td><td>&hellip;</td><td>&hellip;</td><td>&hellip;</td><td>&hellip;</td><td>&hellip;</td><td>&hellip;</td><td>&hellip;</td><td>&hellip;</td><td>&hellip;</td><td>&hellip;</td><td>&hellip;</td><td>&hellip;</td><td>&hellip;</td><td>&hellip;</td><td>&hellip;</td><td>&hellip;</td><td>&hellip;</td><td>&hellip;</td><td>&hellip;</td><td>&hellip;</td><td>&hellip;</td><td>&hellip;</td><td>&hellip;</td><td>&hellip;</td><td>&hellip;</td><td>&hellip;</td><td>&hellip;</td><td>&hellip;</td><td>&hellip;</td><td>&hellip;</td><td>&hellip;</td><td>&hellip;</td><td>&hellip;</td><td>&hellip;</td><td>&hellip;</td><td>&hellip;</td><td>&hellip;</td><td>&hellip;</td><td>&hellip;</td><td>&hellip;</td><td>&hellip;</td><td>&hellip;</td><td>&hellip;</td><td>&hellip;</td><td>&hellip;</td><td>&hellip;</td><td>&hellip;</td><td>&hellip;</td><td>&hellip;</td><td>&hellip;</td><td>&hellip;</td><td>&hellip;</td><td>&hellip;</td><td>&hellip;</td><td>&hellip;</td><td>&hellip;</td><td>&hellip;</td><td>&hellip;</td><td>&hellip;</td></tr><tr><td>&quot;G2M_32&quot;</td><td>0.0</td><td>1.047669</td><td>1.235712</td><td>0.0</td><td>0.0</td><td>0.0</td><td>0.688468</td><td>0.669344</td><td>0.0</td><td>0.0</td><td>0.777303</td><td>0.0</td><td>0.0</td><td>0.730194</td><td>0.0</td><td>0.708717</td><td>0.0</td><td>0.0</td><td>0.0</td><td>0.0</td><td>0.0</td><td>3.228667</td><td>0.0</td><td>0.0</td><td>0.617856</td><td>1.417434</td><td>1.57774</td><td>0.0</td><td>0.0</td><td>0.0</td><td>0.634115</td><td>3.466702</td><td>0.0</td><td>0.0</td><td>1.338688</td><td>0.0</td><td>&hellip;</td><td>0.0</td><td>0.0</td><td>0.0</td><td>0.0</td><td>0.491763</td><td>0.0</td><td>2.51004</td><td>0.0</td><td>0.0</td><td>0.0</td><td>0.0</td><td>0.560381</td><td>0.388651</td><td>0.0</td><td>0.708717</td><td>0.0</td><td>0.0</td><td>0.0</td><td>0.0</td><td>0.0</td><td>0.0</td><td>1.09529</td><td>0.83091</td><td>1.660136</td><td>0.376506</td><td>0.0</td><td>0.803213</td><td>9.942333</td><td>0.803213</td><td>0.803213</td><td>1.807229</td><td>0.0</td><td>0.0</td><td>0.0</td><td>0.926784</td><td>2.17177</td><td>0.0</td></tr><tr><td>&quot;G1_24&quot;</td><td>0.0</td><td>0.0</td><td>0.0</td><td>1.182732</td><td>1.02145</td><td>0.0</td><td>0.0</td><td>0.0</td><td>0.0</td><td>0.0</td><td>0.0</td><td>0.0</td><td>0.0</td><td>0.0</td><td>0.0</td><td>0.898876</td><td>0.0</td><td>0.0</td><td>0.0</td><td>1.248439</td><td>1.02145</td><td>1.955348</td><td>0.0</td><td>0.0</td><td>2.425945</td><td>6.36746</td><td>1.070091</td><td>0.0</td><td>0.0</td><td>0.0</td><td>3.487404</td><td>0.93633</td><td>0.0</td><td>0.0</td><td>0.0</td><td>0.93633</td><td>&hellip;</td><td>0.0</td><td>0.0</td><td>0.0</td><td>0.0</td><td>0.0</td><td>0.0</td><td>1.884979</td><td>0.0</td><td>0.0</td><td>0.0</td><td>0.0</td><td>1.123596</td><td>0.548095</td><td>0.0</td><td>1.728608</td><td>1.315023</td><td>0.468165</td><td>0.0</td><td>0.432152</td><td>1.212972</td><td>0.0</td><td>0.875529</td><td>1.498127</td><td>1.43143</td><td>2.475053</td><td>0.0</td><td>1.123596</td><td>2.80266</td><td>0.898876</td><td>0.0</td><td>0.0</td><td>0.0</td><td>0.749064</td><td>0.0</td><td>2.196502</td><td>1.510717</td><td>0.898876</td></tr><tr><td>&quot;S_5&quot;</td><td>0.0</td><td>0.0</td><td>0.0</td><td>0.0</td><td>0.0</td><td>0.0</td><td>0.0</td><td>1.413976</td><td>0.598659</td><td>0.0</td><td>0.0</td><td>0.0</td><td>0.0</td><td>1.38626</td><td>1.674386</td><td>4.285522</td><td>0.0</td><td>0.0</td><td>0.0</td><td>0.0</td><td>2.282572</td><td>1.539409</td><td>0.0</td><td>2.025702</td><td>0.0</td><td>2.521505</td><td>0.448994</td><td>0.0</td><td>0.0</td><td>0.0</td><td>1.845016</td><td>0.0</td><td>0.0</td><td>0.0</td><td>0.0</td><td>0.0</td><td>&hellip;</td><td>0.0</td><td>0.0</td><td>0.0</td><td>0.0</td><td>0.0</td><td>0.0</td><td>1.465139</td><td>0.0</td><td>0.0</td><td>1.045073</td><td>0.0</td><td>0.0</td><td>0.718391</td><td>2.062048</td><td>0.0</td><td>0.0</td><td>0.0</td><td>0.0</td><td>0.0</td><td>0.828912</td><td>0.0</td><td>0.653083</td><td>0.0</td><td>0.0</td><td>0.0</td><td>0.0</td><td>0.0</td><td>2.787642</td><td>0.0</td><td>0.489812</td><td>0.0</td><td>0.0</td><td>1.632706</td><td>0.0</td><td>0.862069</td><td>3.139032</td><td>3.592879</td></tr><tr><td>&quot;G2M_30&quot;</td><td>0.0</td><td>0.0</td><td>0.0</td><td>0.731636</td><td>0.0</td><td>0.0</td><td>0.0</td><td>1.510306</td><td>0.0</td><td>0.802439</td><td>0.0</td><td>0.0</td><td>0.0</td><td>0.0</td><td>0.995025</td><td>4.580638</td><td>0.0</td><td>0.802439</td><td>0.0</td><td>0.0</td><td>2.715949</td><td>2.763958</td><td>0.0</td><td>0.0</td><td>1.441207</td><td>0.0</td><td>1.381979</td><td>0.0</td><td>0.0</td><td>0.0</td><td>0.0</td><td>0.273358</td><td>0.0</td><td>0.888415</td><td>0.0</td><td>1.243781</td><td>&hellip;</td><td>0.0</td><td>0.0</td><td>0.0</td><td>0.802439</td><td>0.0</td><td>0.690989</td><td>1.463272</td><td>0.0</td><td>0.0</td><td>0.0</td><td>0.0</td><td>0.0</td><td>0.0</td><td>0.0</td><td>0.0</td><td>0.478377</td><td>0.0</td><td>0.0</td><td>0.518242</td><td>0.637836</td><td>1.13071</td><td>0.0</td><td>0.0</td><td>0.299706</td><td>0.0</td><td>0.0</td><td>0.690989</td><td>0.606722</td><td>0.0</td><td>0.0</td><td>1.13071</td><td>0.0</td><td>2.460814</td><td>0.0</td><td>0.303361</td><td>0.956755</td><td>0.518242</td></tr><tr><td>&quot;G2M_29&quot;</td><td>0.0</td><td>0.0</td><td>0.0</td><td>0.0</td><td>0.0</td><td>0.0</td><td>0.0</td><td>15.453796</td><td>1.22723</td><td>0.630239</td><td>0.0</td><td>0.0</td><td>0.0</td><td>0.0</td><td>0.846883</td><td>0.967867</td><td>0.0</td><td>0.0</td><td>0.0</td><td>0.0</td><td>0.0</td><td>0.0</td><td>0.774293</td><td>0.0</td><td>1.121774</td><td>1.794188</td><td>0.82122</td><td>0.0</td><td>0.0</td><td>0.0</td><td>2.300532</td><td>0.0</td><td>0.0</td><td>0.0</td><td>0.0</td><td>0.0</td><td>&hellip;</td><td>0.0</td><td>0.576602</td><td>0.0</td><td>0.0</td><td>0.0</td><td>0.467246</td><td>0.934492</td><td>0.0</td><td>0.0</td><td>0.0</td><td>0.0</td><td>0.0</td><td>1.296664</td><td>2.084636</td><td>2.710027</td><td>0.0</td><td>1.003714</td><td>0.0</td><td>0.0</td><td>0.36622</td><td>0.774293</td><td>0.934492</td><td>0.0</td><td>1.564325</td><td>0.0</td><td>0.0</td><td>0.0</td><td>0.0</td><td>0.0</td><td>0.677507</td><td>1.987353</td><td>0.677507</td><td>1.290489</td><td>0.0</td><td>1.042318</td><td>7.496875</td><td>2.48317</td></tr></tbody></table></div>"
      ],
      "text/plain": [
       "shape: (105, 22_141)\n",
       "┌──────────┬───────────┬───────────┬───────────┬───┬───────────┬───────────┬───────────┬───────────┐\n",
       "│ metacell ┆ ENSG00000 ┆ ENSG00000 ┆ ENSG00000 ┆ … ┆ ENSG00000 ┆ ENSG00000 ┆ ENSG00000 ┆ ENSG00000 │\n",
       "│ ---      ┆ 000460    ┆ 000971    ┆ 001460    ┆   ┆ 310529    ┆ 310564    ┆ 310566    ┆ 310567    │\n",
       "│ str      ┆ ---       ┆ ---       ┆ ---       ┆   ┆ ---       ┆ ---       ┆ ---       ┆ ---       │\n",
       "│          ┆ f64       ┆ f64       ┆ f64       ┆   ┆ f64       ┆ f64       ┆ f64       ┆ f64       │\n",
       "╞══════════╪═══════════╪═══════════╪═══════════╪═══╪═══════════╪═══════════╪═══════════╪═══════════╡\n",
       "│ G2M_4    ┆ 0.0       ┆ 0.0       ┆ 0.726111  ┆ … ┆ 0.0       ┆ 1.558482  ┆ 3.991585  ┆ 0.0       │\n",
       "│ G2M_28   ┆ 1.619171  ┆ 0.0       ┆ 0.0       ┆ … ┆ 0.0       ┆ 0.0       ┆ 3.097635  ┆ 0.0       │\n",
       "│ G1_27    ┆ 2.828054  ┆ 0.0       ┆ 0.0       ┆ … ┆ 0.0       ┆ 0.0       ┆ 6.47323   ┆ 0.0       │\n",
       "│ G2M_19   ┆ 0.915751  ┆ 0.0       ┆ 0.981162  ┆ … ┆ 0.0       ┆ 0.0       ┆ 4.701073  ┆ 0.0       │\n",
       "│ S_10     ┆ 0.0       ┆ 0.0       ┆ 0.0       ┆ … ┆ 0.0       ┆ 0.324223  ┆ 5.698926  ┆ 1.48655   │\n",
       "│ …        ┆ …         ┆ …         ┆ …         ┆ … ┆ …         ┆ …         ┆ …         ┆ …         │\n",
       "│ G2M_32   ┆ 0.0       ┆ 1.047669  ┆ 1.235712  ┆ … ┆ 0.0       ┆ 0.926784  ┆ 2.17177   ┆ 0.0       │\n",
       "│ G1_24    ┆ 0.0       ┆ 0.0       ┆ 0.0       ┆ … ┆ 0.0       ┆ 2.196502  ┆ 1.510717  ┆ 0.898876  │\n",
       "│ S_5      ┆ 0.0       ┆ 0.0       ┆ 0.0       ┆ … ┆ 0.0       ┆ 0.862069  ┆ 3.139032  ┆ 3.592879  │\n",
       "│ G2M_30   ┆ 0.0       ┆ 0.0       ┆ 0.0       ┆ … ┆ 0.0       ┆ 0.303361  ┆ 0.956755  ┆ 0.518242  │\n",
       "│ G2M_29   ┆ 0.0       ┆ 0.0       ┆ 0.0       ┆ … ┆ 0.0       ┆ 1.042318  ┆ 7.496875  ┆ 2.48317   │\n",
       "└──────────┴───────────┴───────────┴───────────┴───┴───────────┴───────────┴───────────┴───────────┘"
      ]
     },
     "execution_count": 24,
     "metadata": {},
     "output_type": "execute_result"
    }
   ],
   "source": [
    "atac_by_metacell"
   ]
  },
  {
   "cell_type": "code",
   "execution_count": 25,
   "id": "3566d9e9-dd76-47a4-8a44-b1382500850e",
   "metadata": {},
   "outputs": [],
   "source": [
    "avg_by_metacell = pl.read_csv(\"k562.allele.flt.M_avg_expression_by_metacell.tsv\", separator=\"\\t\")"
   ]
  },
  {
   "cell_type": "code",
   "execution_count": 26,
   "id": "3234d642-c00d-4f15-b6b5-b09853343835",
   "metadata": {},
   "outputs": [
    {
     "data": {
      "text/html": [
       "<div><style>\n",
       ".dataframe > thead > tr,\n",
       ".dataframe > tbody > tr {\n",
       "  text-align: right;\n",
       "  white-space: pre-wrap;\n",
       "}\n",
       "</style>\n",
       "<small>shape: (105, 10_570)</small><table border=\"1\" class=\"dataframe\"><thead><tr><th>metacell</th><th>ENSG00000000457</th><th>ENSG00000000460</th><th>ENSG00000000971</th><th>ENSG00000001036</th><th>ENSG00000001084</th><th>ENSG00000001167</th><th>ENSG00000001460</th><th>ENSG00000001461</th><th>ENSG00000001630</th><th>ENSG00000002330</th><th>ENSG00000002746</th><th>ENSG00000002822</th><th>ENSG00000002834</th><th>ENSG00000002919</th><th>ENSG00000003147</th><th>ENSG00000003249</th><th>ENSG00000003436</th><th>ENSG00000003509</th><th>ENSG00000003987</th><th>ENSG00000004139</th><th>ENSG00000004142</th><th>ENSG00000004455</th><th>ENSG00000004468</th><th>ENSG00000004487</th><th>ENSG00000004766</th><th>ENSG00000004779</th><th>ENSG00000004864</th><th>ENSG00000004866</th><th>ENSG00000004897</th><th>ENSG00000004939</th><th>ENSG00000004948</th><th>ENSG00000005001</th><th>ENSG00000005007</th><th>ENSG00000005020</th><th>ENSG00000005059</th><th>ENSG00000005102</th><th>&hellip;</th><th>ENSG00000287820</th><th>ENSG00000287832</th><th>ENSG00000287836</th><th>ENSG00000287839</th><th>ENSG00000287845</th><th>ENSG00000287860</th><th>ENSG00000287865</th><th>ENSG00000287877</th><th>ENSG00000287883</th><th>ENSG00000287896</th><th>ENSG00000287907</th><th>ENSG00000287919</th><th>ENSG00000287920</th><th>ENSG00000287935</th><th>ENSG00000287937</th><th>ENSG00000287938</th><th>ENSG00000287943</th><th>ENSG00000287972</th><th>ENSG00000287973</th><th>ENSG00000287976</th><th>ENSG00000288002</th><th>ENSG00000288005</th><th>ENSG00000288009</th><th>ENSG00000288061</th><th>ENSG00000288066</th><th>ENSG00000288067</th><th>ENSG00000288071</th><th>ENSG00000288075</th><th>ENSG00000288091</th><th>ENSG00000288093</th><th>ENSG00000288156</th><th>ENSG00000288253</th><th>ENSG00000288321</th><th>ENSG00000288380</th><th>ENSG00000288398</th><th>n_cells</th><th>metacell_duplicated_0</th></tr><tr><td>str</td><td>f64</td><td>f64</td><td>f64</td><td>f64</td><td>f64</td><td>f64</td><td>f64</td><td>f64</td><td>f64</td><td>f64</td><td>f64</td><td>f64</td><td>f64</td><td>f64</td><td>f64</td><td>f64</td><td>f64</td><td>f64</td><td>f64</td><td>f64</td><td>f64</td><td>f64</td><td>f64</td><td>f64</td><td>f64</td><td>f64</td><td>f64</td><td>f64</td><td>f64</td><td>f64</td><td>f64</td><td>f64</td><td>f64</td><td>f64</td><td>f64</td><td>f64</td><td>&hellip;</td><td>f64</td><td>f64</td><td>f64</td><td>f64</td><td>f64</td><td>f64</td><td>f64</td><td>f64</td><td>f64</td><td>f64</td><td>f64</td><td>f64</td><td>f64</td><td>f64</td><td>f64</td><td>f64</td><td>f64</td><td>f64</td><td>f64</td><td>f64</td><td>f64</td><td>f64</td><td>f64</td><td>f64</td><td>f64</td><td>f64</td><td>f64</td><td>f64</td><td>f64</td><td>f64</td><td>f64</td><td>f64</td><td>f64</td><td>f64</td><td>f64</td><td>i64</td><td>str</td></tr></thead><tbody><tr><td>&quot;G1_0&quot;</td><td>0.370865</td><td>0.305418</td><td>0.479272</td><td>16.673967</td><td>1.539511</td><td>0.0</td><td>0.677231</td><td>4.84134</td><td>0.0</td><td>0.0</td><td>0.0</td><td>1.838872</td><td>1.278494</td><td>0.420982</td><td>0.0</td><td>0.0</td><td>0.394337</td><td>0.0</td><td>0.0</td><td>0.0</td><td>0.519211</td><td>0.0</td><td>0.0</td><td>0.662822</td><td>0.0</td><td>0.0</td><td>2.174577</td><td>0.0</td><td>1.777231</td><td>0.0</td><td>0.0</td><td>0.0</td><td>0.0</td><td>0.0</td><td>0.0</td><td>0.0</td><td>&hellip;</td><td>0.0</td><td>0.0</td><td>0.0</td><td>0.0</td><td>0.0</td><td>1.582475</td><td>0.0</td><td>0.0</td><td>0.0</td><td>0.0</td><td>0.0</td><td>0.0</td><td>0.0</td><td>0.0</td><td>0.0</td><td>0.0</td><td>0.0</td><td>0.0</td><td>1.003154</td><td>0.0</td><td>0.0</td><td>0.0</td><td>0.0</td><td>0.610836</td><td>0.0</td><td>0.0</td><td>0.47201</td><td>0.0</td><td>0.0</td><td>0.0</td><td>0.285804</td><td>0.0</td><td>0.0</td><td>0.0</td><td>0.48676</td><td>321</td><td>&quot;G1_0&quot;</td></tr><tr><td>&quot;G1_1&quot;</td><td>0.0</td><td>1.04295</td><td>1.038497</td><td>10.669787</td><td>0.0</td><td>0.0</td><td>0.0</td><td>1.446281</td><td>0.0</td><td>0.0</td><td>0.631313</td><td>0.439174</td><td>0.473485</td><td>0.0</td><td>0.0</td><td>0.0</td><td>0.0</td><td>0.445633</td><td>0.0</td><td>0.0</td><td>0.340483</td><td>0.0</td><td>0.0</td><td>0.30303</td><td>0.273</td><td>0.0</td><td>1.821933</td><td>0.0</td><td>3.699755</td><td>0.0</td><td>0.0</td><td>0.0</td><td>0.0</td><td>0.0</td><td>0.0</td><td>0.0</td><td>&hellip;</td><td>0.0</td><td>0.0</td><td>0.0</td><td>0.0</td><td>0.0</td><td>0.513611</td><td>0.0</td><td>0.0</td><td>0.0</td><td>0.0</td><td>0.0</td><td>0.0</td><td>0.0</td><td>0.0</td><td>0.0</td><td>0.0</td><td>0.0</td><td>0.0</td><td>2.109338</td><td>0.0</td><td>0.0</td><td>0.0</td><td>0.0</td><td>0.0</td><td>0.0</td><td>0.0</td><td>0.0</td><td>0.0</td><td>0.0</td><td>0.0</td><td>0.0</td><td>0.0</td><td>0.0</td><td>0.0</td><td>0.0</td><td>330</td><td>&quot;G1_1&quot;</td></tr><tr><td>&quot;G1_10&quot;</td><td>0.393871</td><td>0.0</td><td>0.0</td><td>16.50342</td><td>1.038643</td><td>0.577067</td><td>0.0</td><td>2.090662</td><td>0.0</td><td>0.0</td><td>0.0</td><td>0.590807</td><td>2.274607</td><td>0.0</td><td>0.620347</td><td>0.0</td><td>0.0</td><td>0.0</td><td>0.0</td><td>0.0</td><td>0.0</td><td>0.0</td><td>0.0</td><td>0.708968</td><td>0.427826</td><td>0.0</td><td>0.0</td><td>0.0</td><td>1.090721</td><td>0.0</td><td>0.0</td><td>0.0</td><td>0.0</td><td>0.0</td><td>0.0</td><td>0.0</td><td>&hellip;</td><td>0.0</td><td>0.0</td><td>0.0</td><td>0.0</td><td>0.0</td><td>0.435332</td><td>0.0</td><td>0.0</td><td>0.0</td><td>0.0</td><td>0.0</td><td>0.0</td><td>0.0</td><td>0.0</td><td>0.0</td><td>0.0</td><td>0.0</td><td>0.0</td><td>2.989517</td><td>0.993798</td><td>0.0</td><td>0.0</td><td>0.0</td><td>1.084305</td><td>0.0</td><td>0.0</td><td>0.0</td><td>0.0</td><td>0.0</td><td>0.0</td><td>0.0</td><td>0.0</td><td>0.0</td><td>0.0</td><td>0.0</td><td>403</td><td>&quot;G1_10&quot;</td></tr><tr><td>&quot;G1_11&quot;</td><td>0.0</td><td>0.543478</td><td>0.0</td><td>13.889672</td><td>0.384615</td><td>0.735294</td><td>0.403226</td><td>1.653888</td><td>0.0</td><td>0.0</td><td>0.0</td><td>2.323546</td><td>0.0</td><td>0.438596</td><td>0.409836</td><td>0.0</td><td>0.0</td><td>0.0</td><td>0.0</td><td>0.0</td><td>2.401961</td><td>0.0</td><td>0.531915</td><td>0.0</td><td>0.0</td><td>0.0</td><td>1.388889</td><td>0.531915</td><td>1.656313</td><td>0.0</td><td>0.0</td><td>0.0</td><td>0.0</td><td>0.0</td><td>0.0</td><td>0.0</td><td>&hellip;</td><td>0.0</td><td>0.0</td><td>0.0</td><td>0.0</td><td>0.0</td><td>0.0</td><td>0.0</td><td>0.0</td><td>0.0</td><td>0.0</td><td>0.0</td><td>0.0</td><td>0.0</td><td>0.0</td><td>0.0</td><td>0.0</td><td>0.0</td><td>0.0</td><td>4.187579</td><td>0.888695</td><td>0.0</td><td>0.0</td><td>0.0</td><td>1.808054</td><td>0.0</td><td>0.0</td><td>0.0</td><td>0.0</td><td>0.0</td><td>0.0</td><td>0.0</td><td>0.0</td><td>0.0</td><td>0.0</td><td>0.0</td><td>400</td><td>&quot;G1_11&quot;</td></tr><tr><td>&quot;G1_12&quot;</td><td>0.727167</td><td>0.688895</td><td>0.384971</td><td>16.934428</td><td>0.0</td><td>0.0</td><td>0.88909</td><td>2.137424</td><td>0.0</td><td>0.0</td><td>0.0</td><td>1.214182</td><td>4.134936</td><td>0.0</td><td>0.727167</td><td>0.0</td><td>0.707514</td><td>0.327225</td><td>0.0</td><td>1.67707</td><td>1.04712</td><td>0.0</td><td>0.0</td><td>0.0</td><td>1.026025</td><td>0.0</td><td>2.692928</td><td>0.0</td><td>1.587185</td><td>0.0</td><td>0.0</td><td>0.0</td><td>0.0</td><td>0.0</td><td>0.0</td><td>0.294135</td><td>&hellip;</td><td>0.0</td><td>0.0</td><td>0.0</td><td>0.0</td><td>0.0</td><td>0.513294</td><td>0.0</td><td>0.0</td><td>0.0</td><td>0.0</td><td>0.0</td><td>0.0</td><td>0.0</td><td>0.0</td><td>0.0</td><td>0.0</td><td>0.0</td><td>0.0</td><td>1.888981</td><td>0.384971</td><td>0.0</td><td>0.0</td><td>0.0</td><td>1.871016</td><td>0.0</td><td>0.0</td><td>0.0</td><td>0.0</td><td>0.0</td><td>0.0</td><td>0.0</td><td>0.0</td><td>0.0</td><td>0.0</td><td>0.0</td><td>382</td><td>&quot;G1_12&quot;</td></tr><tr><td>&hellip;</td><td>&hellip;</td><td>&hellip;</td><td>&hellip;</td><td>&hellip;</td><td>&hellip;</td><td>&hellip;</td><td>&hellip;</td><td>&hellip;</td><td>&hellip;</td><td>&hellip;</td><td>&hellip;</td><td>&hellip;</td><td>&hellip;</td><td>&hellip;</td><td>&hellip;</td><td>&hellip;</td><td>&hellip;</td><td>&hellip;</td><td>&hellip;</td><td>&hellip;</td><td>&hellip;</td><td>&hellip;</td><td>&hellip;</td><td>&hellip;</td><td>&hellip;</td><td>&hellip;</td><td>&hellip;</td><td>&hellip;</td><td>&hellip;</td><td>&hellip;</td><td>&hellip;</td><td>&hellip;</td><td>&hellip;</td><td>&hellip;</td><td>&hellip;</td><td>&hellip;</td><td>&hellip;</td><td>&hellip;</td><td>&hellip;</td><td>&hellip;</td><td>&hellip;</td><td>&hellip;</td><td>&hellip;</td><td>&hellip;</td><td>&hellip;</td><td>&hellip;</td><td>&hellip;</td><td>&hellip;</td><td>&hellip;</td><td>&hellip;</td><td>&hellip;</td><td>&hellip;</td><td>&hellip;</td><td>&hellip;</td><td>&hellip;</td><td>&hellip;</td><td>&hellip;</td><td>&hellip;</td><td>&hellip;</td><td>&hellip;</td><td>&hellip;</td><td>&hellip;</td><td>&hellip;</td><td>&hellip;</td><td>&hellip;</td><td>&hellip;</td><td>&hellip;</td><td>&hellip;</td><td>&hellip;</td><td>&hellip;</td><td>&hellip;</td><td>&hellip;</td><td>&hellip;</td><td>&hellip;</td></tr><tr><td>&quot;S_5&quot;</td><td>0.0</td><td>0.828347</td><td>0.0</td><td>8.581129</td><td>0.366059</td><td>0.0</td><td>0.493754</td><td>2.276732</td><td>0.0</td><td>0.0</td><td>0.0</td><td>0.0</td><td>1.990446</td><td>0.606612</td><td>0.0</td><td>0.0</td><td>1.080195</td><td>1.169267</td><td>0.0</td><td>0.0</td><td>0.0</td><td>0.0</td><td>0.0</td><td>0.0</td><td>2.075508</td><td>0.0</td><td>1.754417</td><td>0.493754</td><td>0.0</td><td>0.0</td><td>0.0</td><td>0.0</td><td>0.0</td><td>0.0</td><td>0.0</td><td>0.0</td><td>&hellip;</td><td>0.0</td><td>0.0</td><td>0.0</td><td>0.0</td><td>0.0</td><td>0.732118</td><td>0.0</td><td>0.0</td><td>0.0</td><td>0.0</td><td>0.0</td><td>0.0</td><td>0.0</td><td>0.0</td><td>0.0</td><td>0.0</td><td>0.0</td><td>0.0</td><td>1.183175</td><td>0.482532</td><td>0.0</td><td>0.0</td><td>0.0</td><td>0.0</td><td>0.0</td><td>0.0</td><td>0.0</td><td>0.0</td><td>0.0</td><td>0.0</td><td>0.0</td><td>0.0</td><td>0.0</td><td>0.0</td><td>0.0</td><td>471</td><td>&quot;S_5&quot;</td></tr><tr><td>&quot;S_6&quot;</td><td>0.0</td><td>1.122827</td><td>0.0</td><td>11.985345</td><td>0.0</td><td>0.0</td><td>1.528651</td><td>5.978404</td><td>0.0</td><td>0.0</td><td>0.0</td><td>0.698812</td><td>0.960277</td><td>1.103387</td><td>0.0</td><td>0.0</td><td>0.776458</td><td>1.546778</td><td>0.0</td><td>0.0</td><td>0.0</td><td>0.0</td><td>0.0</td><td>0.0</td><td>0.598982</td><td>0.0</td><td>2.091142</td><td>0.0</td><td>1.159393</td><td>0.524109</td><td>0.0</td><td>0.0</td><td>0.0</td><td>0.0</td><td>0.0</td><td>0.0</td><td>&hellip;</td><td>0.0</td><td>0.0</td><td>0.0</td><td>0.0</td><td>0.0</td><td>0.0</td><td>0.0</td><td>0.0</td><td>0.0</td><td>0.0</td><td>0.0</td><td>0.0</td><td>0.0</td><td>0.0</td><td>0.0</td><td>0.0</td><td>0.0</td><td>0.0</td><td>2.470956</td><td>0.0</td><td>0.0</td><td>0.0</td><td>0.0</td><td>1.464251</td><td>0.0</td><td>0.0</td><td>0.0</td><td>0.806322</td><td>0.0</td><td>0.0</td><td>0.0</td><td>0.0</td><td>0.0</td><td>0.0</td><td>0.0</td><td>477</td><td>&quot;S_6&quot;</td></tr><tr><td>&quot;S_7&quot;</td><td>0.93423</td><td>0.0</td><td>0.747384</td><td>10.128937</td><td>0.0</td><td>0.0</td><td>0.605987</td><td>1.86846</td><td>0.0</td><td>0.0</td><td>0.0</td><td>0.533846</td><td>0.0</td><td>1.711116</td><td>0.0</td><td>0.0</td><td>0.896861</td><td>0.0</td><td>0.0</td><td>0.0</td><td>0.62282</td><td>0.0</td><td>0.0</td><td>0.0</td><td>1.508065</td><td>0.0</td><td>2.810669</td><td>0.0</td><td>0.521431</td><td>0.93423</td><td>0.0</td><td>0.0</td><td>0.0</td><td>0.0</td><td>1.323493</td><td>0.0</td><td>&hellip;</td><td>0.0</td><td>0.0</td><td>0.0</td><td>0.0</td><td>0.0</td><td>1.373868</td><td>0.0</td><td>0.0</td><td>0.0</td><td>0.0</td><td>0.0</td><td>0.0</td><td>0.0</td><td>0.0</td><td>0.0</td><td>0.0</td><td>0.0</td><td>0.0</td><td>1.396212</td><td>0.533846</td><td>0.0</td><td>0.0</td><td>0.0</td><td>0.560538</td><td>0.0</td><td>0.0</td><td>0.0</td><td>0.0</td><td>0.0</td><td>0.0</td><td>0.0</td><td>0.0</td><td>0.0</td><td>0.0</td><td>0.0</td><td>446</td><td>&quot;S_7&quot;</td></tr><tr><td>&quot;S_8&quot;</td><td>0.0</td><td>0.717223</td><td>0.0</td><td>15.113024</td><td>0.0</td><td>0.577501</td><td>0.436072</td><td>1.780627</td><td>0.0</td><td>0.0</td><td>0.763126</td><td>0.994376</td><td>2.929138</td><td>1.286339</td><td>0.0</td><td>0.0</td><td>0.0</td><td>0.0</td><td>0.0</td><td>0.0</td><td>0.508751</td><td>0.0</td><td>0.0</td><td>0.0</td><td>0.0</td><td>0.0</td><td>3.156248</td><td>0.0</td><td>1.417004</td><td>0.0</td><td>0.0</td><td>0.0</td><td>0.0</td><td>0.0</td><td>0.508751</td><td>0.0</td><td>&hellip;</td><td>0.0</td><td>0.0</td><td>0.0</td><td>0.0</td><td>0.0</td><td>0.736811</td><td>0.0</td><td>0.0</td><td>0.0</td><td>0.0</td><td>0.0</td><td>0.0</td><td>0.0</td><td>0.0</td><td>0.0</td><td>0.0</td><td>0.0</td><td>0.0</td><td>3.372155</td><td>0.0</td><td>0.0</td><td>0.0</td><td>0.0</td><td>0.0</td><td>0.0</td><td>0.0</td><td>0.0</td><td>0.0</td><td>0.0</td><td>0.0</td><td>0.0</td><td>0.0</td><td>0.0</td><td>0.0</td><td>0.0</td><td>468</td><td>&quot;S_8&quot;</td></tr><tr><td>&quot;S_9&quot;</td><td>0.640041</td><td>1.737994</td><td>0.0</td><td>17.711144</td><td>0.0</td><td>0.0</td><td>2.937893</td><td>2.954579</td><td>0.0</td><td>0.0</td><td>0.640041</td><td>1.83882</td><td>0.0</td><td>0.0</td><td>0.0</td><td>0.0</td><td>0.853388</td><td>0.984499</td><td>0.0</td><td>0.0</td><td>0.0</td><td>0.0</td><td>0.0</td><td>0.658328</td><td>0.0</td><td>0.590807</td><td>1.93841</td><td>0.460829</td><td>0.0</td><td>0.0</td><td>0.0</td><td>0.0</td><td>0.0</td><td>0.0</td><td>0.0</td><td>0.0</td><td>&hellip;</td><td>0.0</td><td>0.0</td><td>0.0</td><td>0.0</td><td>0.0</td><td>0.0</td><td>0.0</td><td>0.0</td><td>0.0</td><td>0.0</td><td>0.0</td><td>0.0</td><td>0.0</td><td>0.0</td><td>0.0</td><td>0.0</td><td>0.0</td><td>0.0</td><td>0.67769</td><td>0.698227</td><td>0.0</td><td>0.0</td><td>0.0</td><td>1.470266</td><td>0.0</td><td>0.0</td><td>0.0</td><td>0.0</td><td>0.0</td><td>0.0</td><td>0.0</td><td>0.0</td><td>0.0</td><td>0.0</td><td>0.0</td><td>434</td><td>&quot;S_9&quot;</td></tr></tbody></table></div>"
      ],
      "text/plain": [
       "shape: (105, 10_570)\n",
       "┌──────────┬────────────┬────────────┬───────────┬───┬───────────┬───────────┬─────────┬───────────┐\n",
       "│ metacell ┆ ENSG000000 ┆ ENSG000000 ┆ ENSG00000 ┆ … ┆ ENSG00000 ┆ ENSG00000 ┆ n_cells ┆ metacell_ │\n",
       "│ ---      ┆ 00457      ┆ 00460      ┆ 000971    ┆   ┆ 288380    ┆ 288398    ┆ ---     ┆ duplicate │\n",
       "│ str      ┆ ---        ┆ ---        ┆ ---       ┆   ┆ ---       ┆ ---       ┆ i64     ┆ d_0       │\n",
       "│          ┆ f64        ┆ f64        ┆ f64       ┆   ┆ f64       ┆ f64       ┆         ┆ ---       │\n",
       "│          ┆            ┆            ┆           ┆   ┆           ┆           ┆         ┆ str       │\n",
       "╞══════════╪════════════╪════════════╪═══════════╪═══╪═══════════╪═══════════╪═════════╪═══════════╡\n",
       "│ G1_0     ┆ 0.370865   ┆ 0.305418   ┆ 0.479272  ┆ … ┆ 0.0       ┆ 0.48676   ┆ 321     ┆ G1_0      │\n",
       "│ G1_1     ┆ 0.0        ┆ 1.04295    ┆ 1.038497  ┆ … ┆ 0.0       ┆ 0.0       ┆ 330     ┆ G1_1      │\n",
       "│ G1_10    ┆ 0.393871   ┆ 0.0        ┆ 0.0       ┆ … ┆ 0.0       ┆ 0.0       ┆ 403     ┆ G1_10     │\n",
       "│ G1_11    ┆ 0.0        ┆ 0.543478   ┆ 0.0       ┆ … ┆ 0.0       ┆ 0.0       ┆ 400     ┆ G1_11     │\n",
       "│ G1_12    ┆ 0.727167   ┆ 0.688895   ┆ 0.384971  ┆ … ┆ 0.0       ┆ 0.0       ┆ 382     ┆ G1_12     │\n",
       "│ …        ┆ …          ┆ …          ┆ …         ┆ … ┆ …         ┆ …         ┆ …       ┆ …         │\n",
       "│ S_5      ┆ 0.0        ┆ 0.828347   ┆ 0.0       ┆ … ┆ 0.0       ┆ 0.0       ┆ 471     ┆ S_5       │\n",
       "│ S_6      ┆ 0.0        ┆ 1.122827   ┆ 0.0       ┆ … ┆ 0.0       ┆ 0.0       ┆ 477     ┆ S_6       │\n",
       "│ S_7      ┆ 0.93423    ┆ 0.0        ┆ 0.747384  ┆ … ┆ 0.0       ┆ 0.0       ┆ 446     ┆ S_7       │\n",
       "│ S_8      ┆ 0.0        ┆ 0.717223   ┆ 0.0       ┆ … ┆ 0.0       ┆ 0.0       ┆ 468     ┆ S_8       │\n",
       "│ S_9      ┆ 0.640041   ┆ 1.737994   ┆ 0.0       ┆ … ┆ 0.0       ┆ 0.0       ┆ 434     ┆ S_9       │\n",
       "└──────────┴────────────┴────────────┴───────────┴───┴───────────┴───────────┴─────────┴───────────┘"
      ]
     },
     "execution_count": 26,
     "metadata": {},
     "output_type": "execute_result"
    }
   ],
   "source": [
    "avg_by_metacell"
   ]
  },
  {
   "cell_type": "code",
   "execution_count": 38,
   "id": "1b40118a-b3fa-45db-b45b-c59490a9d94f",
   "metadata": {},
   "outputs": [],
   "source": [
    "# Extract only common genes between ATAC and RNAseq\n",
    "common_genes = list(set(avg_by_metacell.columns) & set(atac_by_metacell.columns))\n",
    "# exclude columns\n",
    "exclude_cols = {\"n_cells\", \"metacell_duplicated_0\", \"metacell\"}\n",
    "common_genes = [g for g in common_genes if g not in exclude_cols]"
   ]
  },
  {
   "cell_type": "code",
   "execution_count": 41,
   "id": "4376db3b-d26f-4228-bcee-76784e6c17c1",
   "metadata": {},
   "outputs": [],
   "source": [
    "rna_filtered = avg_by_metacell.select([\"metacell\"] + common_genes)\n",
    "\n",
    "atac_filtered = atac_by_metacell.select([\"metacell\"] + common_genes)"
   ]
  },
  {
   "cell_type": "code",
   "execution_count": 42,
   "id": "039d277c-fcff-43c9-9897-cce02b72d260",
   "metadata": {},
   "outputs": [
    {
     "data": {
      "text/html": [
       "<div><style>\n",
       ".dataframe > thead > tr,\n",
       ".dataframe > tbody > tr {\n",
       "  text-align: right;\n",
       "  white-space: pre-wrap;\n",
       "}\n",
       "</style>\n",
       "<small>shape: (105, 5_283)</small><table border=\"1\" class=\"dataframe\"><thead><tr><th>metacell</th><th>ENSG00000225830</th><th>ENSG00000273925</th><th>ENSG00000159348</th><th>ENSG00000166816</th><th>ENSG00000172497</th><th>ENSG00000142634</th><th>ENSG00000186174</th><th>ENSG00000118898</th><th>ENSG00000127578</th><th>ENSG00000276449</th><th>ENSG00000172575</th><th>ENSG00000187260</th><th>ENSG00000138780</th><th>ENSG00000143486</th><th>ENSG00000184937</th><th>ENSG00000253976</th><th>ENSG00000168300</th><th>ENSG00000198865</th><th>ENSG00000178028</th><th>ENSG00000254418</th><th>ENSG00000169330</th><th>ENSG00000147684</th><th>ENSG00000135362</th><th>ENSG00000141219</th><th>ENSG00000070729</th><th>ENSG00000286409</th><th>ENSG00000221990</th><th>ENSG00000168275</th><th>ENSG00000287424</th><th>ENSG00000055070</th><th>ENSG00000138028</th><th>ENSG00000271806</th><th>ENSG00000213793</th><th>ENSG00000164406</th><th>ENSG00000128951</th><th>ENSG00000115317</th><th>&hellip;</th><th>ENSG00000112425</th><th>ENSG00000205937</th><th>ENSG00000161405</th><th>ENSG00000251438</th><th>ENSG00000117242</th><th>ENSG00000144278</th><th>ENSG00000250447</th><th>ENSG00000162947</th><th>ENSG00000176401</th><th>ENSG00000183597</th><th>ENSG00000248150</th><th>ENSG00000166352</th><th>ENSG00000109171</th><th>ENSG00000115355</th><th>ENSG00000263327</th><th>ENSG00000113758</th><th>ENSG00000275580</th><th>ENSG00000171222</th><th>ENSG00000198589</th><th>ENSG00000049541</th><th>ENSG00000155849</th><th>ENSG00000180104</th><th>ENSG00000150783</th><th>ENSG00000169914</th><th>ENSG00000228496</th><th>ENSG00000250244</th><th>ENSG00000112319</th><th>ENSG00000105568</th><th>ENSG00000251022</th><th>ENSG00000108883</th><th>ENSG00000074695</th><th>ENSG00000117298</th><th>ENSG00000133401</th><th>ENSG00000143420</th><th>ENSG00000113163</th><th>ENSG00000148719</th><th>ENSG00000120915</th></tr><tr><td>str</td><td>f64</td><td>f64</td><td>f64</td><td>f64</td><td>f64</td><td>f64</td><td>f64</td><td>f64</td><td>f64</td><td>f64</td><td>f64</td><td>f64</td><td>f64</td><td>f64</td><td>f64</td><td>f64</td><td>f64</td><td>f64</td><td>f64</td><td>f64</td><td>f64</td><td>f64</td><td>f64</td><td>f64</td><td>f64</td><td>f64</td><td>f64</td><td>f64</td><td>f64</td><td>f64</td><td>f64</td><td>f64</td><td>f64</td><td>f64</td><td>f64</td><td>f64</td><td>&hellip;</td><td>f64</td><td>f64</td><td>f64</td><td>f64</td><td>f64</td><td>f64</td><td>f64</td><td>f64</td><td>f64</td><td>f64</td><td>f64</td><td>f64</td><td>f64</td><td>f64</td><td>f64</td><td>f64</td><td>f64</td><td>f64</td><td>f64</td><td>f64</td><td>f64</td><td>f64</td><td>f64</td><td>f64</td><td>f64</td><td>f64</td><td>f64</td><td>f64</td><td>f64</td><td>f64</td><td>f64</td><td>f64</td><td>f64</td><td>f64</td><td>f64</td><td>f64</td><td>f64</td></tr></thead><tbody><tr><td>&quot;G1_0&quot;</td><td>0.273269</td><td>0.0</td><td>0.0</td><td>0.0</td><td>0.0</td><td>3.272833</td><td>0.0</td><td>0.0</td><td>0.0</td><td>0.0</td><td>0.0</td><td>0.0</td><td>0.0</td><td>0.0</td><td>0.0</td><td>0.0</td><td>0.587786</td><td>1.693571</td><td>0.78469</td><td>0.0</td><td>0.0</td><td>0.0</td><td>0.0</td><td>0.839503</td><td>0.0</td><td>0.0</td><td>0.0</td><td>2.803738</td><td>0.0</td><td>0.841963</td><td>0.0</td><td>0.0</td><td>0.0</td><td>0.291146</td><td>0.890076</td><td>0.0</td><td>&hellip;</td><td>0.291146</td><td>0.275687</td><td>0.0</td><td>0.0</td><td>0.0</td><td>0.0</td><td>0.0</td><td>0.0</td><td>0.0</td><td>1.318839</td><td>0.0</td><td>0.0</td><td>1.269182</td><td>0.0</td><td>0.458127</td><td>0.0</td><td>0.420982</td><td>0.0</td><td>0.981481</td><td>0.0</td><td>0.0</td><td>6.679282</td><td>0.0</td><td>0.0</td><td>0.0</td><td>0.0</td><td>0.0</td><td>0.819807</td><td>0.451488</td><td>0.0</td><td>0.0</td><td>1.433736</td><td>0.0</td><td>1.359237</td><td>0.342337</td><td>0.0</td><td>0.677543</td></tr><tr><td>&quot;G1_1&quot;</td><td>0.0</td><td>0.0</td><td>0.356506</td><td>0.0</td><td>0.0</td><td>1.887511</td><td>0.0</td><td>0.0</td><td>0.0</td><td>0.0</td><td>0.0</td><td>0.0</td><td>0.0</td><td>0.0</td><td>0.0</td><td>0.0</td><td>0.865801</td><td>0.631313</td><td>1.604278</td><td>0.0</td><td>0.0</td><td>0.0</td><td>0.0</td><td>0.445633</td><td>0.0</td><td>0.426803</td><td>0.0</td><td>1.011225</td><td>0.0</td><td>0.0</td><td>0.0</td><td>0.0</td><td>0.420875</td><td>0.0</td><td>0.0</td><td>0.0</td><td>&hellip;</td><td>0.0</td><td>2.591159</td><td>0.0</td><td>0.0</td><td>0.0</td><td>0.0</td><td>0.0</td><td>0.0</td><td>0.369549</td><td>2.281611</td><td>0.0</td><td>0.473485</td><td>0.325839</td><td>0.0</td><td>0.333</td><td>0.0</td><td>0.0</td><td>0.0</td><td>2.005066</td><td>0.0</td><td>0.541126</td><td>3.702337</td><td>0.0</td><td>0.0</td><td>0.0</td><td>0.0</td><td>0.0</td><td>0.0</td><td>0.0</td><td>1.138801</td><td>0.0</td><td>1.256205</td><td>0.0</td><td>0.550964</td><td>1.188354</td><td>0.0</td><td>0.439174</td></tr><tr><td>&quot;G1_10&quot;</td><td>0.217666</td><td>0.0</td><td>0.0</td><td>0.0</td><td>0.0</td><td>1.666194</td><td>0.0</td><td>0.0</td><td>0.0</td><td>0.0</td><td>0.0</td><td>0.527955</td><td>0.0</td><td>0.0</td><td>0.0</td><td>0.0</td><td>0.708968</td><td>1.127904</td><td>2.229672</td><td>0.0</td><td>0.0</td><td>0.0</td><td>0.0</td><td>0.0</td><td>0.0</td><td>0.0</td><td>0.0</td><td>0.0</td><td>0.954381</td><td>0.670646</td><td>0.0</td><td>0.0</td><td>0.0</td><td>0.516956</td><td>0.0</td><td>0.0</td><td>&hellip;</td><td>0.516956</td><td>0.760256</td><td>0.0</td><td>0.0</td><td>0.0</td><td>0.0</td><td>0.0</td><td>0.0</td><td>0.0</td><td>3.832825</td><td>0.0</td><td>0.0</td><td>3.926721</td><td>0.0</td><td>2.023201</td><td>0.0</td><td>0.0</td><td>0.0</td><td>2.422309</td><td>0.0</td><td>0.0</td><td>3.260438</td><td>0.0</td><td>0.0</td><td>0.0</td><td>0.0</td><td>0.0</td><td>0.0</td><td>0.55142</td><td>0.0</td><td>0.0</td><td>0.516956</td><td>0.0</td><td>1.557438</td><td>0.913444</td><td>0.187984</td><td>0.0</td></tr><tr><td>&quot;G1_11&quot;</td><td>0.5</td><td>0.0</td><td>0.595238</td><td>0.0</td><td>0.0</td><td>1.520649</td><td>0.0</td><td>0.0</td><td>0.0</td><td>0.0</td><td>0.0</td><td>0.0</td><td>0.0</td><td>0.0</td><td>1.785714</td><td>0.0</td><td>2.132227</td><td>0.892857</td><td>1.322751</td><td>0.510204</td><td>0.0</td><td>0.0</td><td>0.0</td><td>0.0</td><td>0.0</td><td>0.0</td><td>0.0</td><td>0.0</td><td>0.0</td><td>0.0</td><td>0.0</td><td>0.0</td><td>0.0</td><td>0.0</td><td>0.0</td><td>0.0</td><td>&hellip;</td><td>0.0</td><td>1.061508</td><td>0.0</td><td>0.0</td><td>0.0</td><td>0.0</td><td>0.0</td><td>0.0</td><td>0.555556</td><td>5.460329</td><td>0.0</td><td>0.0</td><td>2.092052</td><td>0.0</td><td>0.0</td><td>0.0</td><td>0.0</td><td>0.297619</td><td>0.845509</td><td>0.0</td><td>0.0</td><td>1.675214</td><td>0.0</td><td>0.0</td><td>0.0</td><td>0.0</td><td>0.0</td><td>0.0</td><td>0.0</td><td>0.892857</td><td>0.0</td><td>2.065587</td><td>0.0</td><td>0.625</td><td>0.727901</td><td>0.510204</td><td>0.0</td></tr><tr><td>&quot;G1_12&quot;</td><td>0.390717</td><td>0.0</td><td>0.0</td><td>0.0</td><td>0.0</td><td>2.515142</td><td>0.0</td><td>0.0</td><td>0.0</td><td>0.0</td><td>0.0</td><td>0.0</td><td>0.0</td><td>0.0</td><td>0.0</td><td>0.0</td><td>4.817784</td><td>1.5714</td><td>2.092687</td><td>0.0</td><td>0.0</td><td>0.0</td><td>0.0</td><td>0.233732</td><td>0.0</td><td>0.671231</td><td>0.0</td><td>0.0</td><td>0.0</td><td>0.0</td><td>0.0</td><td>0.0</td><td>0.0</td><td>0.0</td><td>0.0</td><td>0.0</td><td>&hellip;</td><td>0.0</td><td>1.942966</td><td>0.0</td><td>0.0</td><td>0.0</td><td>0.0</td><td>0.0</td><td>0.0</td><td>1.048798</td><td>3.748429</td><td>0.0</td><td>0.0</td><td>1.4939</td><td>0.0</td><td>1.381617</td><td>0.0</td><td>0.0</td><td>0.0</td><td>0.0</td><td>0.0</td><td>0.0</td><td>1.290721</td><td>0.0</td><td>0.0</td><td>0.0</td><td>0.0</td><td>0.0</td><td>0.0</td><td>0.0</td><td>0.707514</td><td>0.0</td><td>1.266186</td><td>0.0</td><td>4.034542</td><td>0.379391</td><td>1.071614</td><td>0.0</td></tr><tr><td>&hellip;</td><td>&hellip;</td><td>&hellip;</td><td>&hellip;</td><td>&hellip;</td><td>&hellip;</td><td>&hellip;</td><td>&hellip;</td><td>&hellip;</td><td>&hellip;</td><td>&hellip;</td><td>&hellip;</td><td>&hellip;</td><td>&hellip;</td><td>&hellip;</td><td>&hellip;</td><td>&hellip;</td><td>&hellip;</td><td>&hellip;</td><td>&hellip;</td><td>&hellip;</td><td>&hellip;</td><td>&hellip;</td><td>&hellip;</td><td>&hellip;</td><td>&hellip;</td><td>&hellip;</td><td>&hellip;</td><td>&hellip;</td><td>&hellip;</td><td>&hellip;</td><td>&hellip;</td><td>&hellip;</td><td>&hellip;</td><td>&hellip;</td><td>&hellip;</td><td>&hellip;</td><td>&hellip;</td><td>&hellip;</td><td>&hellip;</td><td>&hellip;</td><td>&hellip;</td><td>&hellip;</td><td>&hellip;</td><td>&hellip;</td><td>&hellip;</td><td>&hellip;</td><td>&hellip;</td><td>&hellip;</td><td>&hellip;</td><td>&hellip;</td><td>&hellip;</td><td>&hellip;</td><td>&hellip;</td><td>&hellip;</td><td>&hellip;</td><td>&hellip;</td><td>&hellip;</td><td>&hellip;</td><td>&hellip;</td><td>&hellip;</td><td>&hellip;</td><td>&hellip;</td><td>&hellip;</td><td>&hellip;</td><td>&hellip;</td><td>&hellip;</td><td>&hellip;</td><td>&hellip;</td><td>&hellip;</td><td>&hellip;</td><td>&hellip;</td><td>&hellip;</td><td>&hellip;</td><td>&hellip;</td></tr><tr><td>&quot;S_5&quot;</td><td>0.884643</td><td>0.0</td><td>0.758265</td><td>0.0</td><td>0.0</td><td>4.566113</td><td>0.0</td><td>0.0</td><td>0.0</td><td>0.0</td><td>0.0</td><td>0.0</td><td>0.0</td><td>0.0</td><td>0.0</td><td>0.0</td><td>2.346723</td><td>1.592357</td><td>0.0</td><td>0.0</td><td>0.0</td><td>0.0</td><td>0.0</td><td>0.0</td><td>0.0</td><td>0.0</td><td>0.51784</td><td>0.0</td><td>0.0</td><td>0.0</td><td>0.0</td><td>0.0</td><td>0.0</td><td>0.0</td><td>0.0</td><td>0.0</td><td>&hellip;</td><td>0.0</td><td>1.695905</td><td>0.0</td><td>0.0</td><td>0.0</td><td>0.0</td><td>0.0</td><td>0.0</td><td>1.061571</td><td>3.515741</td><td>0.0</td><td>0.0</td><td>1.214215</td><td>0.0</td><td>0.0</td><td>0.0</td><td>0.0</td><td>0.0</td><td>0.544395</td><td>0.0</td><td>0.0</td><td>2.014572</td><td>0.0</td><td>0.0</td><td>0.0</td><td>0.0</td><td>0.0</td><td>0.0</td><td>0.0</td><td>0.0</td><td>1.061571</td><td>1.998143</td><td>0.758265</td><td>0.386026</td><td>2.229429</td><td>0.849257</td><td>1.061571</td></tr><tr><td>&quot;S_6&quot;</td><td>0.0</td><td>0.0</td><td>0.0</td><td>0.0</td><td>0.0</td><td>2.499902</td><td>0.0</td><td>0.0</td><td>0.0</td><td>0.0</td><td>0.0</td><td>0.0</td><td>0.0</td><td>0.0</td><td>0.0</td><td>0.0</td><td>0.44605</td><td>1.11575</td><td>0.0</td><td>0.0</td><td>0.0</td><td>0.0</td><td>0.0</td><td>0.698812</td><td>0.0</td><td>0.0</td><td>0.0</td><td>0.0</td><td>0.0</td><td>0.0</td><td>0.0</td><td>0.0</td><td>0.0</td><td>0.0</td><td>0.0</td><td>0.0</td><td>&hellip;</td><td>0.0</td><td>1.259525</td><td>0.0</td><td>0.0</td><td>0.0</td><td>0.0</td><td>0.0</td><td>0.0</td><td>0.0</td><td>1.317983</td><td>0.0</td><td>0.952925</td><td>1.043365</td><td>0.0</td><td>1.321891</td><td>0.0</td><td>0.0</td><td>0.0</td><td>0.842829</td><td>0.0</td><td>0.0</td><td>3.07131</td><td>0.0</td><td>0.0</td><td>0.0</td><td>0.0</td><td>0.0</td><td>0.0</td><td>0.0</td><td>0.655136</td><td>0.455747</td><td>2.399821</td><td>0.0</td><td>2.319246</td><td>0.873515</td><td>0.0</td><td>0.0</td></tr><tr><td>&quot;S_7&quot;</td><td>0.0</td><td>0.0</td><td>0.477054</td><td>0.0</td><td>0.0</td><td>1.994009</td><td>0.0</td><td>0.0</td><td>0.0</td><td>0.0</td><td>0.67944</td><td>0.0</td><td>0.0</td><td>0.0</td><td>0.0</td><td>0.0</td><td>2.629771</td><td>0.546866</td><td>1.18008</td><td>0.0</td><td>0.700673</td><td>0.0</td><td>0.0</td><td>0.0</td><td>0.0</td><td>0.0</td><td>0.477054</td><td>0.0</td><td>0.50958</td><td>0.0</td><td>0.0</td><td>0.0</td><td>0.0</td><td>0.0</td><td>0.0</td><td>0.0</td><td>&hellip;</td><td>0.747384</td><td>2.018638</td><td>0.0</td><td>0.0</td><td>0.0</td><td>0.0</td><td>0.0</td><td>0.0</td><td>0.0</td><td>0.0</td><td>0.0</td><td>0.0</td><td>2.617891</td><td>0.896861</td><td>0.50958</td><td>0.0</td><td>0.0</td><td>0.0</td><td>0.747384</td><td>0.605987</td><td>0.0</td><td>3.302133</td><td>0.0</td><td>0.0</td><td>0.0</td><td>0.0</td><td>0.0</td><td>0.700673</td><td>0.0</td><td>2.648434</td><td>0.659457</td><td>0.546866</td><td>1.86846</td><td>2.854141</td><td>0.67944</td><td>0.605987</td><td>0.477054</td></tr><tr><td>&quot;S_8&quot;</td><td>0.0</td><td>0.0</td><td>0.0</td><td>0.0</td><td>0.0</td><td>1.834729</td><td>0.0</td><td>0.0</td><td>0.0</td><td>0.0</td><td>0.0</td><td>0.0</td><td>0.0</td><td>0.0</td><td>0.0</td><td>0.0</td><td>4.446679</td><td>0.0</td><td>0.0</td><td>0.0</td><td>0.0</td><td>0.0</td><td>0.0</td><td>0.577501</td><td>0.0</td><td>0.0</td><td>1.017501</td><td>0.0</td><td>0.0</td><td>0.0</td><td>0.0</td><td>0.0</td><td>0.0</td><td>0.610501</td><td>0.0</td><td>0.0</td><td>&hellip;</td><td>0.610501</td><td>3.161358</td><td>0.0</td><td>0.0</td><td>0.0</td><td>0.0</td><td>0.0</td><td>0.0</td><td>0.0</td><td>4.153682</td><td>0.0</td><td>0.929023</td><td>0.586402</td><td>0.0</td><td>0.837942</td><td>0.0</td><td>0.0</td><td>0.0</td><td>0.890313</td><td>0.0</td><td>0.0</td><td>1.16866</td><td>0.0</td><td>0.0</td><td>0.0</td><td>0.0</td><td>0.0</td><td>0.0</td><td>0.0</td><td>0.0</td><td>0.821828</td><td>3.118641</td><td>0.0</td><td>1.171043</td><td>2.881041</td><td>1.712598</td><td>0.356125</td></tr><tr><td>&quot;S_9&quot;</td><td>0.576037</td><td>0.0</td><td>0.315637</td><td>0.0</td><td>0.0</td><td>2.124915</td><td>0.0</td><td>0.0</td><td>0.0</td><td>0.0</td><td>0.418936</td><td>0.0</td><td>0.0</td><td>0.0</td><td>0.0</td><td>0.0</td><td>0.548607</td><td>0.0</td><td>3.100167</td><td>0.0</td><td>0.0</td><td>0.0</td><td>0.0</td><td>0.0</td><td>0.0</td><td>0.0</td><td>0.500902</td><td>3.291639</td><td>0.0</td><td>0.0</td><td>0.0</td><td>0.0</td><td>0.743273</td><td>0.0</td><td>0.0</td><td>0.0</td><td>&hellip;</td><td>0.0</td><td>3.334938</td><td>0.0</td><td>0.0</td><td>0.640041</td><td>0.0</td><td>0.0</td><td>0.0</td><td>0.0</td><td>2.089005</td><td>0.0</td><td>0.0</td><td>1.268653</td><td>0.0</td><td>3.217546</td><td>0.0</td><td>0.0</td><td>0.590807</td><td>0.82291</td><td>1.188648</td><td>0.886211</td><td>3.860204</td><td>0.0</td><td>0.0</td><td>0.0</td><td>0.0</td><td>0.0</td><td>0.0</td><td>0.0</td><td>0.768049</td><td>0.333934</td><td>2.85772</td><td>0.0</td><td>1.67915</td><td>0.0</td><td>0.0</td><td>1.249135</td></tr></tbody></table></div>"
      ],
      "text/plain": [
       "shape: (105, 5_283)\n",
       "┌──────────┬───────────┬───────────┬───────────┬───┬───────────┬───────────┬───────────┬───────────┐\n",
       "│ metacell ┆ ENSG00000 ┆ ENSG00000 ┆ ENSG00000 ┆ … ┆ ENSG00000 ┆ ENSG00000 ┆ ENSG00000 ┆ ENSG00000 │\n",
       "│ ---      ┆ 225830    ┆ 273925    ┆ 159348    ┆   ┆ 143420    ┆ 113163    ┆ 148719    ┆ 120915    │\n",
       "│ str      ┆ ---       ┆ ---       ┆ ---       ┆   ┆ ---       ┆ ---       ┆ ---       ┆ ---       │\n",
       "│          ┆ f64       ┆ f64       ┆ f64       ┆   ┆ f64       ┆ f64       ┆ f64       ┆ f64       │\n",
       "╞══════════╪═══════════╪═══════════╪═══════════╪═══╪═══════════╪═══════════╪═══════════╪═══════════╡\n",
       "│ G1_0     ┆ 0.273269  ┆ 0.0       ┆ 0.0       ┆ … ┆ 1.359237  ┆ 0.342337  ┆ 0.0       ┆ 0.677543  │\n",
       "│ G1_1     ┆ 0.0       ┆ 0.0       ┆ 0.356506  ┆ … ┆ 0.550964  ┆ 1.188354  ┆ 0.0       ┆ 0.439174  │\n",
       "│ G1_10    ┆ 0.217666  ┆ 0.0       ┆ 0.0       ┆ … ┆ 1.557438  ┆ 0.913444  ┆ 0.187984  ┆ 0.0       │\n",
       "│ G1_11    ┆ 0.5       ┆ 0.0       ┆ 0.595238  ┆ … ┆ 0.625     ┆ 0.727901  ┆ 0.510204  ┆ 0.0       │\n",
       "│ G1_12    ┆ 0.390717  ┆ 0.0       ┆ 0.0       ┆ … ┆ 4.034542  ┆ 0.379391  ┆ 1.071614  ┆ 0.0       │\n",
       "│ …        ┆ …         ┆ …         ┆ …         ┆ … ┆ …         ┆ …         ┆ …         ┆ …         │\n",
       "│ S_5      ┆ 0.884643  ┆ 0.0       ┆ 0.758265  ┆ … ┆ 0.386026  ┆ 2.229429  ┆ 0.849257  ┆ 1.061571  │\n",
       "│ S_6      ┆ 0.0       ┆ 0.0       ┆ 0.0       ┆ … ┆ 2.319246  ┆ 0.873515  ┆ 0.0       ┆ 0.0       │\n",
       "│ S_7      ┆ 0.0       ┆ 0.0       ┆ 0.477054  ┆ … ┆ 2.854141  ┆ 0.67944   ┆ 0.605987  ┆ 0.477054  │\n",
       "│ S_8      ┆ 0.0       ┆ 0.0       ┆ 0.0       ┆ … ┆ 1.171043  ┆ 2.881041  ┆ 1.712598  ┆ 0.356125  │\n",
       "│ S_9      ┆ 0.576037  ┆ 0.0       ┆ 0.315637  ┆ … ┆ 1.67915   ┆ 0.0       ┆ 0.0       ┆ 1.249135  │\n",
       "└──────────┴───────────┴───────────┴───────────┴───┴───────────┴───────────┴───────────┴───────────┘"
      ]
     },
     "execution_count": 42,
     "metadata": {},
     "output_type": "execute_result"
    }
   ],
   "source": [
    "rna_filtered"
   ]
  },
  {
   "cell_type": "code",
   "execution_count": 43,
   "id": "d8e8fad2-c50d-4d43-b73d-c0c94c886ea7",
   "metadata": {},
   "outputs": [
    {
     "data": {
      "text/html": [
       "<div><style>\n",
       ".dataframe > thead > tr,\n",
       ".dataframe > tbody > tr {\n",
       "  text-align: right;\n",
       "  white-space: pre-wrap;\n",
       "}\n",
       "</style>\n",
       "<small>shape: (105, 5_283)</small><table border=\"1\" class=\"dataframe\"><thead><tr><th>metacell</th><th>ENSG00000225830</th><th>ENSG00000273925</th><th>ENSG00000159348</th><th>ENSG00000166816</th><th>ENSG00000172497</th><th>ENSG00000142634</th><th>ENSG00000186174</th><th>ENSG00000118898</th><th>ENSG00000127578</th><th>ENSG00000276449</th><th>ENSG00000172575</th><th>ENSG00000187260</th><th>ENSG00000138780</th><th>ENSG00000143486</th><th>ENSG00000184937</th><th>ENSG00000253976</th><th>ENSG00000168300</th><th>ENSG00000198865</th><th>ENSG00000178028</th><th>ENSG00000254418</th><th>ENSG00000169330</th><th>ENSG00000147684</th><th>ENSG00000135362</th><th>ENSG00000141219</th><th>ENSG00000070729</th><th>ENSG00000286409</th><th>ENSG00000221990</th><th>ENSG00000168275</th><th>ENSG00000287424</th><th>ENSG00000055070</th><th>ENSG00000138028</th><th>ENSG00000271806</th><th>ENSG00000213793</th><th>ENSG00000164406</th><th>ENSG00000128951</th><th>ENSG00000115317</th><th>&hellip;</th><th>ENSG00000112425</th><th>ENSG00000205937</th><th>ENSG00000161405</th><th>ENSG00000251438</th><th>ENSG00000117242</th><th>ENSG00000144278</th><th>ENSG00000250447</th><th>ENSG00000162947</th><th>ENSG00000176401</th><th>ENSG00000183597</th><th>ENSG00000248150</th><th>ENSG00000166352</th><th>ENSG00000109171</th><th>ENSG00000115355</th><th>ENSG00000263327</th><th>ENSG00000113758</th><th>ENSG00000275580</th><th>ENSG00000171222</th><th>ENSG00000198589</th><th>ENSG00000049541</th><th>ENSG00000155849</th><th>ENSG00000180104</th><th>ENSG00000150783</th><th>ENSG00000169914</th><th>ENSG00000228496</th><th>ENSG00000250244</th><th>ENSG00000112319</th><th>ENSG00000105568</th><th>ENSG00000251022</th><th>ENSG00000108883</th><th>ENSG00000074695</th><th>ENSG00000117298</th><th>ENSG00000133401</th><th>ENSG00000143420</th><th>ENSG00000113163</th><th>ENSG00000148719</th><th>ENSG00000120915</th></tr><tr><td>str</td><td>f64</td><td>f64</td><td>f64</td><td>f64</td><td>f64</td><td>f64</td><td>f64</td><td>f64</td><td>f64</td><td>f64</td><td>f64</td><td>f64</td><td>f64</td><td>f64</td><td>f64</td><td>f64</td><td>f64</td><td>f64</td><td>f64</td><td>f64</td><td>f64</td><td>f64</td><td>f64</td><td>f64</td><td>f64</td><td>f64</td><td>f64</td><td>f64</td><td>f64</td><td>f64</td><td>f64</td><td>f64</td><td>f64</td><td>f64</td><td>f64</td><td>f64</td><td>&hellip;</td><td>f64</td><td>f64</td><td>f64</td><td>f64</td><td>f64</td><td>f64</td><td>f64</td><td>f64</td><td>f64</td><td>f64</td><td>f64</td><td>f64</td><td>f64</td><td>f64</td><td>f64</td><td>f64</td><td>f64</td><td>f64</td><td>f64</td><td>f64</td><td>f64</td><td>f64</td><td>f64</td><td>f64</td><td>f64</td><td>f64</td><td>f64</td><td>f64</td><td>f64</td><td>f64</td><td>f64</td><td>f64</td><td>f64</td><td>f64</td><td>f64</td><td>f64</td><td>f64</td></tr></thead><tbody><tr><td>&quot;G2M_4&quot;</td><td>1.064963</td><td>0.0</td><td>0.0</td><td>0.0</td><td>0.819202</td><td>0.580889</td><td>0.0</td><td>0.0</td><td>0.0</td><td>0.0</td><td>1.452222</td><td>0.0</td><td>0.0</td><td>1.101686</td><td>1.962533</td><td>0.0</td><td>1.375146</td><td>0.912825</td><td>0.614402</td><td>1.141031</td><td>0.0</td><td>0.833935</td><td>0.0</td><td>2.057304</td><td>0.0</td><td>0.0</td><td>2.950162</td><td>4.091266</td><td>0.0</td><td>0.0</td><td>0.0</td><td>0.0</td><td>2.484913</td><td>1.414326</td><td>0.0</td><td>0.0</td><td>&hellip;</td><td>5.451595</td><td>0.0</td><td>0.0</td><td>0.0</td><td>0.0</td><td>0.0</td><td>0.0</td><td>0.0</td><td>1.141031</td><td>2.537341</td><td>0.0</td><td>1.210185</td><td>0.0</td><td>1.228803</td><td>0.570516</td><td>0.476849</td><td>0.0</td><td>0.0</td><td>0.0</td><td>0.0</td><td>0.614402</td><td>2.950162</td><td>1.101686</td><td>0.84076</td><td>0.0</td><td>0.0</td><td>1.521375</td><td>0.0</td><td>0.476849</td><td>0.0</td><td>0.0</td><td>1.730765</td><td>0.968148</td><td>3.098491</td><td>4.798021</td><td>5.678778</td><td>0.0</td></tr><tr><td>&quot;G2M_28&quot;</td><td>0.0</td><td>0.0</td><td>1.518906</td><td>0.996413</td><td>0.0</td><td>0.700182</td><td>0.681756</td><td>0.0</td><td>0.0</td><td>0.0</td><td>0.0</td><td>0.0</td><td>0.0</td><td>0.925241</td><td>3.806472</td><td>0.0</td><td>0.631872</td><td>1.036269</td><td>0.0</td><td>0.0</td><td>0.0</td><td>1.568254</td><td>0.0</td><td>0.616827</td><td>0.0</td><td>0.0</td><td>0.46262</td><td>3.165336</td><td>0.0</td><td>0.551207</td><td>0.0</td><td>0.539724</td><td>2.590674</td><td>0.0</td><td>0.0</td><td>0.0</td><td>&hellip;</td><td>0.719632</td><td>0.0</td><td>0.996413</td><td>0.0</td><td>0.0</td><td>0.0</td><td>0.0</td><td>0.740192</td><td>0.0</td><td>1.453949</td><td>0.0</td><td>1.364338</td><td>0.518135</td><td>0.0</td><td>0.551207</td><td>0.0</td><td>0.0</td><td>0.0</td><td>1.156551</td><td>2.004688</td><td>0.0</td><td>0.46262</td><td>0.0</td><td>5.990933</td><td>0.0</td><td>0.0</td><td>0.0</td><td>0.0</td><td>2.610858</td><td>1.523926</td><td>0.0</td><td>0.863558</td><td>0.616827</td><td>0.700182</td><td>0.0</td><td>6.975403</td><td>0.0</td></tr><tr><td>&quot;G1_27&quot;</td><td>0.0</td><td>0.0</td><td>0.0</td><td>0.0</td><td>0.0</td><td>0.0</td><td>0.0</td><td>0.0</td><td>0.0</td><td>0.0</td><td>0.0</td><td>0.0</td><td>0.0</td><td>0.0</td><td>4.277729</td><td>0.0</td><td>0.822707</td><td>0.0</td><td>0.0</td><td>0.0</td><td>0.0</td><td>0.0</td><td>0.0</td><td>0.0</td><td>0.0</td><td>1.88537</td><td>5.00732</td><td>0.0</td><td>0.0</td><td>0.0</td><td>0.0</td><td>0.0</td><td>0.0</td><td>0.0</td><td>0.0</td><td>0.0</td><td>&hellip;</td><td>1.371178</td><td>0.0</td><td>0.0</td><td>0.0</td><td>0.0</td><td>0.0</td><td>0.0</td><td>0.0</td><td>0.0</td><td>0.0</td><td>0.0</td><td>0.0</td><td>4.524887</td><td>0.0</td><td>0.0</td><td>0.0</td><td>0.0</td><td>0.0</td><td>4.524887</td><td>0.0</td><td>0.0</td><td>5.00732</td><td>0.0</td><td>16.718576</td><td>0.0</td><td>0.0</td><td>0.0</td><td>0.0</td><td>1.19076</td><td>1.740341</td><td>0.0</td><td>1.616031</td><td>0.0</td><td>0.0</td><td>0.0</td><td>5.236776</td><td>0.0</td></tr><tr><td>&quot;G2M_19&quot;</td><td>0.654108</td><td>0.0</td><td>4.197192</td><td>0.0</td><td>0.0</td><td>0.0</td><td>1.056636</td><td>0.0</td><td>0.597229</td><td>0.0</td><td>1.557829</td><td>0.0</td><td>0.0</td><td>0.0</td><td>2.219688</td><td>0.0</td><td>0.624376</td><td>2.875469</td><td>0.0</td><td>0.422654</td><td>0.0</td><td>0.41625</td><td>0.0</td><td>1.486087</td><td>0.0</td><td>2.918956</td><td>2.486788</td><td>0.0</td><td>0.0</td><td>0.0</td><td>0.0</td><td>3.098664</td><td>0.0</td><td>1.717033</td><td>0.549451</td><td>0.0</td><td>&hellip;</td><td>0.0</td><td>0.0</td><td>0.0</td><td>0.0</td><td>0.0</td><td>1.717033</td><td>0.0</td><td>0.0</td><td>0.981162</td><td>1.373626</td><td>0.0</td><td>5.152533</td><td>0.51835</td><td>0.0</td><td>1.962323</td><td>0.0</td><td>0.704424</td><td>0.0</td><td>0.410038</td><td>1.556136</td><td>0.0</td><td>2.486788</td><td>0.0</td><td>6.410256</td><td>0.0</td><td>0.0</td><td>0.584522</td><td>0.0</td><td>0.0</td><td>0.704424</td><td>0.538677</td><td>0.808016</td><td>0.981162</td><td>0.0</td><td>4.177055</td><td>1.569859</td><td>0.0</td></tr><tr><td>&quot;S_10&quot;</td><td>0.0</td><td>0.0</td><td>0.0</td><td>0.46607</td><td>0.972668</td><td>0.0</td><td>0.0</td><td>0.0</td><td>0.0</td><td>0.0</td><td>0.0</td><td>0.0</td><td>0.0</td><td>1.438159</td><td>0.438654</td><td>0.0</td><td>1.315963</td><td>0.520264</td><td>1.616512</td><td>0.0</td><td>0.0</td><td>1.984233</td><td>0.0</td><td>0.0</td><td>0.699105</td><td>0.0</td><td>3.449943</td><td>0.894855</td><td>0.0</td><td>0.798977</td><td>0.0</td><td>1.065303</td><td>1.32571</td><td>1.39821</td><td>0.621427</td><td>0.0</td><td>&hellip;</td><td>1.01688</td><td>0.0</td><td>0.0</td><td>0.0</td><td>0.0</td><td>0.0</td><td>0.0</td><td>0.0</td><td>0.860437</td><td>0.0</td><td>0.0</td><td>1.403693</td><td>1.572775</td><td>0.0</td><td>0.0</td><td>0.0</td><td>0.0</td><td>0.0</td><td>0.0</td><td>1.911735</td><td>0.621427</td><td>3.449943</td><td>0.497141</td><td>0.0</td><td>0.0</td><td>0.860437</td><td>0.0</td><td>0.0</td><td>0.0</td><td>0.50844</td><td>0.721657</td><td>2.858563</td><td>0.0</td><td>0.798977</td><td>1.335901</td><td>5.250865</td><td>0.0</td></tr><tr><td>&hellip;</td><td>&hellip;</td><td>&hellip;</td><td>&hellip;</td><td>&hellip;</td><td>&hellip;</td><td>&hellip;</td><td>&hellip;</td><td>&hellip;</td><td>&hellip;</td><td>&hellip;</td><td>&hellip;</td><td>&hellip;</td><td>&hellip;</td><td>&hellip;</td><td>&hellip;</td><td>&hellip;</td><td>&hellip;</td><td>&hellip;</td><td>&hellip;</td><td>&hellip;</td><td>&hellip;</td><td>&hellip;</td><td>&hellip;</td><td>&hellip;</td><td>&hellip;</td><td>&hellip;</td><td>&hellip;</td><td>&hellip;</td><td>&hellip;</td><td>&hellip;</td><td>&hellip;</td><td>&hellip;</td><td>&hellip;</td><td>&hellip;</td><td>&hellip;</td><td>&hellip;</td><td>&hellip;</td><td>&hellip;</td><td>&hellip;</td><td>&hellip;</td><td>&hellip;</td><td>&hellip;</td><td>&hellip;</td><td>&hellip;</td><td>&hellip;</td><td>&hellip;</td><td>&hellip;</td><td>&hellip;</td><td>&hellip;</td><td>&hellip;</td><td>&hellip;</td><td>&hellip;</td><td>&hellip;</td><td>&hellip;</td><td>&hellip;</td><td>&hellip;</td><td>&hellip;</td><td>&hellip;</td><td>&hellip;</td><td>&hellip;</td><td>&hellip;</td><td>&hellip;</td><td>&hellip;</td><td>&hellip;</td><td>&hellip;</td><td>&hellip;</td><td>&hellip;</td><td>&hellip;</td><td>&hellip;</td><td>&hellip;</td><td>&hellip;</td><td>&hellip;</td><td>&hellip;</td><td>&hellip;</td></tr><tr><td>&quot;G2M_32&quot;</td><td>0.0</td><td>0.547645</td><td>4.908523</td><td>0.0</td><td>0.0</td><td>2.309893</td><td>0.0</td><td>0.0</td><td>0.0</td><td>0.0</td><td>0.0</td><td>0.0</td><td>1.047669</td><td>0.0</td><td>4.99868</td><td>0.651254</td><td>2.409639</td><td>0.0</td><td>0.0</td><td>0.0</td><td>0.0</td><td>4.107338</td><td>0.83091</td><td>0.0</td><td>0.0</td><td>0.0</td><td>0.502008</td><td>0.634115</td><td>1.204819</td><td>0.0</td><td>0.0</td><td>0.463392</td><td>0.512689</td><td>0.0</td><td>0.0</td><td>0.0</td><td>&hellip;</td><td>1.09529</td><td>0.688468</td><td>0.0</td><td>0.0</td><td>0.0</td><td>0.0</td><td>0.0</td><td>0.0</td><td>0.0</td><td>0.0</td><td>0.0</td><td>1.417434</td><td>0.0</td><td>1.116043</td><td>0.708717</td><td>0.0</td><td>0.0</td><td>0.0</td><td>0.0</td><td>0.0</td><td>0.0</td><td>0.502008</td><td>0.0</td><td>5.129988</td><td>0.0</td><td>0.0</td><td>0.0</td><td>0.0</td><td>2.731393</td><td>2.019844</td><td>0.708717</td><td>1.022767</td><td>0.0</td><td>0.334672</td><td>0.0</td><td>6.408974</td><td>0.0</td></tr><tr><td>&quot;G1_24&quot;</td><td>0.0</td><td>0.0</td><td>1.464335</td><td>0.749064</td><td>0.749064</td><td>0.0</td><td>0.0</td><td>1.301103</td><td>0.0</td><td>0.0</td><td>0.0</td><td>0.0</td><td>1.884979</td><td>0.774893</td><td>0.7249</td><td>0.0</td><td>0.0</td><td>1.321877</td><td>0.0</td><td>0.0</td><td>0.0</td><td>1.159265</td><td>0.0</td><td>0.591366</td><td>1.02145</td><td>0.0</td><td>0.307834</td><td>1.702417</td><td>0.0</td><td>0.0</td><td>0.548095</td><td>0.535045</td><td>0.478126</td><td>0.944595</td><td>0.0</td><td>0.0</td><td>&hellip;</td><td>0.0</td><td>0.0</td><td>0.832293</td><td>0.0</td><td>0.0</td><td>0.387447</td><td>1.605136</td><td>0.0</td><td>0.832293</td><td>0.0</td><td>1.180373</td><td>1.592694</td><td>1.182732</td><td>0.591366</td><td>0.0</td><td>0.0</td><td>0.0</td><td>0.0</td><td>0.0</td><td>1.096191</td><td>2.496879</td><td>0.307834</td><td>0.0</td><td>4.187161</td><td>0.0</td><td>0.0</td><td>0.0</td><td>0.749064</td><td>0.0</td><td>0.722602</td><td>0.93633</td><td>0.0</td><td>0.0</td><td>1.040366</td><td>0.0</td><td>5.115316</td><td>0.0</td></tr><tr><td>&quot;S_5&quot;</td><td>0.0</td><td>0.0</td><td>0.0</td><td>2.561833</td><td>0.0</td><td>0.828912</td><td>0.0</td><td>0.0</td><td>0.0</td><td>0.0</td><td>0.0</td><td>0.0</td><td>0.0</td><td>0.307882</td><td>1.959248</td><td>0.0</td><td>1.657825</td><td>1.782673</td><td>0.0</td><td>0.0</td><td>0.0</td><td>1.744456</td><td>0.0</td><td>1.267748</td><td>0.695217</td><td>0.0</td><td>3.883796</td><td>0.695217</td><td>0.0</td><td>3.176668</td><td>0.0</td><td>0.653083</td><td>0.653083</td><td>1.346983</td><td>0.0</td><td>0.0</td><td>&hellip;</td><td>2.481284</td><td>0.0</td><td>0.0</td><td>0.0</td><td>0.0</td><td>0.0</td><td>0.0</td><td>0.0</td><td>2.145195</td><td>0.891237</td><td>0.0</td><td>0.0</td><td>0.798212</td><td>0.0</td><td>0.0</td><td>0.769704</td><td>0.0</td><td>0.0</td><td>0.489812</td><td>0.0</td><td>0.0</td><td>3.883796</td><td>0.0</td><td>0.695217</td><td>0.0</td><td>0.0</td><td>0.0</td><td>0.0</td><td>1.562103</td><td>0.633874</td><td>0.0</td><td>0.633874</td><td>0.0</td><td>2.394636</td><td>1.248632</td><td>6.132046</td><td>0.0</td></tr><tr><td>&quot;G2M_30&quot;</td><td>0.921319</td><td>0.0</td><td>0.421621</td><td>0.0</td><td>0.0</td><td>0.777363</td><td>0.0</td><td>0.0</td><td>0.0</td><td>1.243781</td><td>0.0</td><td>0.0</td><td>0.518242</td><td>0.0</td><td>3.533196</td><td>0.0</td><td>0.0</td><td>0.0</td><td>0.0</td><td>0.0</td><td>0.0</td><td>1.961917</td><td>0.0</td><td>0.0</td><td>0.0</td><td>1.554726</td><td>1.131294</td><td>0.0</td><td>0.0</td><td>0.0</td><td>0.0</td><td>0.0</td><td>0.0</td><td>0.0</td><td>0.0</td><td>0.0</td><td>&hellip;</td><td>0.0</td><td>0.672314</td><td>0.0</td><td>0.0</td><td>0.0</td><td>0.0</td><td>0.0</td><td>0.0</td><td>1.309243</td><td>1.858912</td><td>0.0</td><td>1.878074</td><td>0.956755</td><td>1.236984</td><td>0.637836</td><td>0.0</td><td>0.0</td><td>0.0</td><td>0.0</td><td>0.376903</td><td>1.391643</td><td>1.131294</td><td>0.621891</td><td>1.948826</td><td>0.0</td><td>0.0</td><td>0.0</td><td>0.0</td><td>0.578503</td><td>1.081549</td><td>1.184553</td><td>2.544821</td><td>0.690989</td><td>0.0</td><td>4.975124</td><td>3.645238</td><td>0.0</td></tr><tr><td>&quot;G2M_29&quot;</td><td>0.0</td><td>0.0</td><td>0.0</td><td>2.171496</td><td>0.430163</td><td>0.589136</td><td>0.0</td><td>0.630239</td><td>0.0</td><td>0.0</td><td>0.774293</td><td>0.0</td><td>1.129178</td><td>0.430163</td><td>5.491496</td><td>0.0</td><td>3.714712</td><td>0.713165</td><td>2.196362</td><td>0.589136</td><td>0.0</td><td>0.0</td><td>0.0</td><td>1.178273</td><td>0.0</td><td>1.42633</td><td>4.468906</td><td>1.231831</td><td>0.0</td><td>0.0</td><td>0.0</td><td>0.0</td><td>0.602228</td><td>1.064393</td><td>0.0</td><td>0.0</td><td>&hellip;</td><td>0.0</td><td>2.051878</td><td>0.0</td><td>0.0</td><td>0.0</td><td>0.0</td><td>0.0</td><td>0.0</td><td>0.0</td><td>0.0</td><td>0.0</td><td>1.097485</td><td>1.42633</td><td>0.0</td><td>0.0</td><td>0.774293</td><td>0.0</td><td>0.0</td><td>0.713165</td><td>0.0</td><td>0.0</td><td>4.468906</td><td>0.0</td><td>3.540386</td><td>0.0</td><td>0.0</td><td>0.0</td><td>0.0</td><td>1.052045</td><td>0.0</td><td>0.0</td><td>1.560048</td><td>0.0</td><td>2.846897</td><td>3.195379</td><td>6.807787</td><td>0.0</td></tr></tbody></table></div>"
      ],
      "text/plain": [
       "shape: (105, 5_283)\n",
       "┌──────────┬───────────┬───────────┬───────────┬───┬───────────┬───────────┬───────────┬───────────┐\n",
       "│ metacell ┆ ENSG00000 ┆ ENSG00000 ┆ ENSG00000 ┆ … ┆ ENSG00000 ┆ ENSG00000 ┆ ENSG00000 ┆ ENSG00000 │\n",
       "│ ---      ┆ 225830    ┆ 273925    ┆ 159348    ┆   ┆ 143420    ┆ 113163    ┆ 148719    ┆ 120915    │\n",
       "│ str      ┆ ---       ┆ ---       ┆ ---       ┆   ┆ ---       ┆ ---       ┆ ---       ┆ ---       │\n",
       "│          ┆ f64       ┆ f64       ┆ f64       ┆   ┆ f64       ┆ f64       ┆ f64       ┆ f64       │\n",
       "╞══════════╪═══════════╪═══════════╪═══════════╪═══╪═══════════╪═══════════╪═══════════╪═══════════╡\n",
       "│ G2M_4    ┆ 1.064963  ┆ 0.0       ┆ 0.0       ┆ … ┆ 3.098491  ┆ 4.798021  ┆ 5.678778  ┆ 0.0       │\n",
       "│ G2M_28   ┆ 0.0       ┆ 0.0       ┆ 1.518906  ┆ … ┆ 0.700182  ┆ 0.0       ┆ 6.975403  ┆ 0.0       │\n",
       "│ G1_27    ┆ 0.0       ┆ 0.0       ┆ 0.0       ┆ … ┆ 0.0       ┆ 0.0       ┆ 5.236776  ┆ 0.0       │\n",
       "│ G2M_19   ┆ 0.654108  ┆ 0.0       ┆ 4.197192  ┆ … ┆ 0.0       ┆ 4.177055  ┆ 1.569859  ┆ 0.0       │\n",
       "│ S_10     ┆ 0.0       ┆ 0.0       ┆ 0.0       ┆ … ┆ 0.798977  ┆ 1.335901  ┆ 5.250865  ┆ 0.0       │\n",
       "│ …        ┆ …         ┆ …         ┆ …         ┆ … ┆ …         ┆ …         ┆ …         ┆ …         │\n",
       "│ G2M_32   ┆ 0.0       ┆ 0.547645  ┆ 4.908523  ┆ … ┆ 0.334672  ┆ 0.0       ┆ 6.408974  ┆ 0.0       │\n",
       "│ G1_24    ┆ 0.0       ┆ 0.0       ┆ 1.464335  ┆ … ┆ 1.040366  ┆ 0.0       ┆ 5.115316  ┆ 0.0       │\n",
       "│ S_5      ┆ 0.0       ┆ 0.0       ┆ 0.0       ┆ … ┆ 2.394636  ┆ 1.248632  ┆ 6.132046  ┆ 0.0       │\n",
       "│ G2M_30   ┆ 0.921319  ┆ 0.0       ┆ 0.421621  ┆ … ┆ 0.0       ┆ 4.975124  ┆ 3.645238  ┆ 0.0       │\n",
       "│ G2M_29   ┆ 0.0       ┆ 0.0       ┆ 0.0       ┆ … ┆ 2.846897  ┆ 3.195379  ┆ 6.807787  ┆ 0.0       │\n",
       "└──────────┴───────────┴───────────┴───────────┴───┴───────────┴───────────┴───────────┴───────────┘"
      ]
     },
     "execution_count": 43,
     "metadata": {},
     "output_type": "execute_result"
    }
   ],
   "source": [
    "atac_filtered"
   ]
  },
  {
   "cell_type": "code",
   "execution_count": 22,
   "id": "7078cd6c-c96f-494a-ab3c-93c14c187566",
   "metadata": {},
   "outputs": [],
   "source": [
    "# Make tables\n",
    "rna_long = rna_filtered.reset_index().melt(id_vars=\"Phase\", var_name=\"gene\", value_name=\"RNA_expr\")\n",
    "atac_long = atac_filtered.reset_index().melt(id_vars=\"Phase\", var_name=\"gene\", value_name=\"ATAC_access\")"
   ]
  },
  {
   "cell_type": "code",
   "execution_count": 47,
   "id": "97637f62-ce98-4d8d-8e7e-71a15c2889c4",
   "metadata": {},
   "outputs": [
    {
     "name": "stderr",
     "output_type": "stream",
     "text": [
      "/tmp/ipykernel_21904/119861844.py:1: DeprecationWarning: `DataFrame.melt` is deprecated. Use `unpivot` instead, with `index` instead of `id_vars` and `on` instead of `value_vars`\n",
      "  rna_long = rna_filtered.melt(\n",
      "/tmp/ipykernel_21904/119861844.py:7: DeprecationWarning: `DataFrame.melt` is deprecated. Use `unpivot` instead, with `index` instead of `id_vars` and `on` instead of `value_vars`\n",
      "  atac_long = atac_filtered.melt(\n"
     ]
    }
   ],
   "source": [
    "rna_long = rna_filtered.melt(\n",
    "    id_vars=\"metacell\",\n",
    "    variable_name=\"gene\",\n",
    "    value_name=\"RNA_expr\"\n",
    ")\n",
    "\n",
    "atac_long = atac_filtered.melt(\n",
    "    id_vars=\"metacell\",\n",
    "    variable_name=\"gene\",\n",
    "    value_name=\"ATAC_access\"\n",
    ")\n"
   ]
  },
  {
   "cell_type": "code",
   "execution_count": 48,
   "id": "09c6bb4a-6936-456c-9b09-ca49aad2cf3b",
   "metadata": {},
   "outputs": [
    {
     "data": {
      "text/html": [
       "<div><style>\n",
       ".dataframe > thead > tr,\n",
       ".dataframe > tbody > tr {\n",
       "  text-align: right;\n",
       "  white-space: pre-wrap;\n",
       "}\n",
       "</style>\n",
       "<small>shape: (554_610, 3)</small><table border=\"1\" class=\"dataframe\"><thead><tr><th>metacell</th><th>gene</th><th>RNA_expr</th></tr><tr><td>str</td><td>str</td><td>f64</td></tr></thead><tbody><tr><td>&quot;G1_0&quot;</td><td>&quot;ENSG00000225830&quot;</td><td>0.273269</td></tr><tr><td>&quot;G1_1&quot;</td><td>&quot;ENSG00000225830&quot;</td><td>0.0</td></tr><tr><td>&quot;G1_10&quot;</td><td>&quot;ENSG00000225830&quot;</td><td>0.217666</td></tr><tr><td>&quot;G1_11&quot;</td><td>&quot;ENSG00000225830&quot;</td><td>0.5</td></tr><tr><td>&quot;G1_12&quot;</td><td>&quot;ENSG00000225830&quot;</td><td>0.390717</td></tr><tr><td>&hellip;</td><td>&hellip;</td><td>&hellip;</td></tr><tr><td>&quot;S_5&quot;</td><td>&quot;ENSG00000120915&quot;</td><td>1.061571</td></tr><tr><td>&quot;S_6&quot;</td><td>&quot;ENSG00000120915&quot;</td><td>0.0</td></tr><tr><td>&quot;S_7&quot;</td><td>&quot;ENSG00000120915&quot;</td><td>0.477054</td></tr><tr><td>&quot;S_8&quot;</td><td>&quot;ENSG00000120915&quot;</td><td>0.356125</td></tr><tr><td>&quot;S_9&quot;</td><td>&quot;ENSG00000120915&quot;</td><td>1.249135</td></tr></tbody></table></div>"
      ],
      "text/plain": [
       "shape: (554_610, 3)\n",
       "┌──────────┬─────────────────┬──────────┐\n",
       "│ metacell ┆ gene            ┆ RNA_expr │\n",
       "│ ---      ┆ ---             ┆ ---      │\n",
       "│ str      ┆ str             ┆ f64      │\n",
       "╞══════════╪═════════════════╪══════════╡\n",
       "│ G1_0     ┆ ENSG00000225830 ┆ 0.273269 │\n",
       "│ G1_1     ┆ ENSG00000225830 ┆ 0.0      │\n",
       "│ G1_10    ┆ ENSG00000225830 ┆ 0.217666 │\n",
       "│ G1_11    ┆ ENSG00000225830 ┆ 0.5      │\n",
       "│ G1_12    ┆ ENSG00000225830 ┆ 0.390717 │\n",
       "│ …        ┆ …               ┆ …        │\n",
       "│ S_5      ┆ ENSG00000120915 ┆ 1.061571 │\n",
       "│ S_6      ┆ ENSG00000120915 ┆ 0.0      │\n",
       "│ S_7      ┆ ENSG00000120915 ┆ 0.477054 │\n",
       "│ S_8      ┆ ENSG00000120915 ┆ 0.356125 │\n",
       "│ S_9      ┆ ENSG00000120915 ┆ 1.249135 │\n",
       "└──────────┴─────────────────┴──────────┘"
      ]
     },
     "execution_count": 48,
     "metadata": {},
     "output_type": "execute_result"
    }
   ],
   "source": [
    "rna_long"
   ]
  },
  {
   "cell_type": "code",
   "execution_count": 49,
   "id": "510fd160-b34a-44b0-93d3-d23561caff9a",
   "metadata": {},
   "outputs": [
    {
     "data": {
      "text/html": [
       "<div><style>\n",
       ".dataframe > thead > tr,\n",
       ".dataframe > tbody > tr {\n",
       "  text-align: right;\n",
       "  white-space: pre-wrap;\n",
       "}\n",
       "</style>\n",
       "<small>shape: (554_610, 3)</small><table border=\"1\" class=\"dataframe\"><thead><tr><th>metacell</th><th>gene</th><th>ATAC_access</th></tr><tr><td>str</td><td>str</td><td>f64</td></tr></thead><tbody><tr><td>&quot;G2M_4&quot;</td><td>&quot;ENSG00000225830&quot;</td><td>1.064963</td></tr><tr><td>&quot;G2M_28&quot;</td><td>&quot;ENSG00000225830&quot;</td><td>0.0</td></tr><tr><td>&quot;G1_27&quot;</td><td>&quot;ENSG00000225830&quot;</td><td>0.0</td></tr><tr><td>&quot;G2M_19&quot;</td><td>&quot;ENSG00000225830&quot;</td><td>0.654108</td></tr><tr><td>&quot;S_10&quot;</td><td>&quot;ENSG00000225830&quot;</td><td>0.0</td></tr><tr><td>&hellip;</td><td>&hellip;</td><td>&hellip;</td></tr><tr><td>&quot;G2M_32&quot;</td><td>&quot;ENSG00000120915&quot;</td><td>0.0</td></tr><tr><td>&quot;G1_24&quot;</td><td>&quot;ENSG00000120915&quot;</td><td>0.0</td></tr><tr><td>&quot;S_5&quot;</td><td>&quot;ENSG00000120915&quot;</td><td>0.0</td></tr><tr><td>&quot;G2M_30&quot;</td><td>&quot;ENSG00000120915&quot;</td><td>0.0</td></tr><tr><td>&quot;G2M_29&quot;</td><td>&quot;ENSG00000120915&quot;</td><td>0.0</td></tr></tbody></table></div>"
      ],
      "text/plain": [
       "shape: (554_610, 3)\n",
       "┌──────────┬─────────────────┬─────────────┐\n",
       "│ metacell ┆ gene            ┆ ATAC_access │\n",
       "│ ---      ┆ ---             ┆ ---         │\n",
       "│ str      ┆ str             ┆ f64         │\n",
       "╞══════════╪═════════════════╪═════════════╡\n",
       "│ G2M_4    ┆ ENSG00000225830 ┆ 1.064963    │\n",
       "│ G2M_28   ┆ ENSG00000225830 ┆ 0.0         │\n",
       "│ G1_27    ┆ ENSG00000225830 ┆ 0.0         │\n",
       "│ G2M_19   ┆ ENSG00000225830 ┆ 0.654108    │\n",
       "│ S_10     ┆ ENSG00000225830 ┆ 0.0         │\n",
       "│ …        ┆ …               ┆ …           │\n",
       "│ G2M_32   ┆ ENSG00000120915 ┆ 0.0         │\n",
       "│ G1_24    ┆ ENSG00000120915 ┆ 0.0         │\n",
       "│ S_5      ┆ ENSG00000120915 ┆ 0.0         │\n",
       "│ G2M_30   ┆ ENSG00000120915 ┆ 0.0         │\n",
       "│ G2M_29   ┆ ENSG00000120915 ┆ 0.0         │\n",
       "└──────────┴─────────────────┴─────────────┘"
      ]
     },
     "execution_count": 49,
     "metadata": {},
     "output_type": "execute_result"
    }
   ],
   "source": [
    "atac_long"
   ]
  },
  {
   "cell_type": "code",
   "execution_count": null,
   "id": "5c36d1a3-53c0-47ad-8dc5-724b883fbc1c",
   "metadata": {},
   "outputs": [],
   "source": [
    "# Merge RNA and ATAC in one table\n",
    "merged = rna_long.join(atac_long, on=[\"metacell\", \"gene\"], how=\"inner\")"
   ]
  },
  {
   "cell_type": "code",
   "execution_count": 51,
   "id": "46cc05df-e64f-4a4e-a6d5-d6aaf3601130",
   "metadata": {},
   "outputs": [
    {
     "data": {
      "text/html": [
       "<div><style>\n",
       ".dataframe > thead > tr,\n",
       ".dataframe > tbody > tr {\n",
       "  text-align: right;\n",
       "  white-space: pre-wrap;\n",
       "}\n",
       "</style>\n",
       "<small>shape: (554_610, 4)</small><table border=\"1\" class=\"dataframe\"><thead><tr><th>metacell</th><th>gene</th><th>RNA_expr</th><th>ATAC_access</th></tr><tr><td>str</td><td>str</td><td>f64</td><td>f64</td></tr></thead><tbody><tr><td>&quot;G2M_4&quot;</td><td>&quot;ENSG00000225830&quot;</td><td>0.0</td><td>1.064963</td></tr><tr><td>&quot;G2M_28&quot;</td><td>&quot;ENSG00000225830&quot;</td><td>0.0</td><td>0.0</td></tr><tr><td>&quot;G1_27&quot;</td><td>&quot;ENSG00000225830&quot;</td><td>0.0</td><td>0.0</td></tr><tr><td>&quot;G2M_19&quot;</td><td>&quot;ENSG00000225830&quot;</td><td>0.782779</td><td>0.654108</td></tr><tr><td>&quot;S_10&quot;</td><td>&quot;ENSG00000225830&quot;</td><td>0.0</td><td>0.0</td></tr><tr><td>&hellip;</td><td>&hellip;</td><td>&hellip;</td><td>&hellip;</td></tr><tr><td>&quot;G2M_32&quot;</td><td>&quot;ENSG00000120915&quot;</td><td>0.485909</td><td>0.0</td></tr><tr><td>&quot;G1_24&quot;</td><td>&quot;ENSG00000120915&quot;</td><td>0.633513</td><td>0.0</td></tr><tr><td>&quot;S_5&quot;</td><td>&quot;ENSG00000120915&quot;</td><td>1.061571</td><td>0.0</td></tr><tr><td>&quot;G2M_30&quot;</td><td>&quot;ENSG00000120915&quot;</td><td>0.0</td><td>0.0</td></tr><tr><td>&quot;G2M_29&quot;</td><td>&quot;ENSG00000120915&quot;</td><td>0.0</td><td>0.0</td></tr></tbody></table></div>"
      ],
      "text/plain": [
       "shape: (554_610, 4)\n",
       "┌──────────┬─────────────────┬──────────┬─────────────┐\n",
       "│ metacell ┆ gene            ┆ RNA_expr ┆ ATAC_access │\n",
       "│ ---      ┆ ---             ┆ ---      ┆ ---         │\n",
       "│ str      ┆ str             ┆ f64      ┆ f64         │\n",
       "╞══════════╪═════════════════╪══════════╪═════════════╡\n",
       "│ G2M_4    ┆ ENSG00000225830 ┆ 0.0      ┆ 1.064963    │\n",
       "│ G2M_28   ┆ ENSG00000225830 ┆ 0.0      ┆ 0.0         │\n",
       "│ G1_27    ┆ ENSG00000225830 ┆ 0.0      ┆ 0.0         │\n",
       "│ G2M_19   ┆ ENSG00000225830 ┆ 0.782779 ┆ 0.654108    │\n",
       "│ S_10     ┆ ENSG00000225830 ┆ 0.0      ┆ 0.0         │\n",
       "│ …        ┆ …               ┆ …        ┆ …           │\n",
       "│ G2M_32   ┆ ENSG00000120915 ┆ 0.485909 ┆ 0.0         │\n",
       "│ G1_24    ┆ ENSG00000120915 ┆ 0.633513 ┆ 0.0         │\n",
       "│ S_5      ┆ ENSG00000120915 ┆ 1.061571 ┆ 0.0         │\n",
       "│ G2M_30   ┆ ENSG00000120915 ┆ 0.0      ┆ 0.0         │\n",
       "│ G2M_29   ┆ ENSG00000120915 ┆ 0.0      ┆ 0.0         │\n",
       "└──────────┴─────────────────┴──────────┴─────────────┘"
      ]
     },
     "execution_count": 51,
     "metadata": {},
     "output_type": "execute_result"
    }
   ],
   "source": [
    "merged"
   ]
  },
  {
   "cell_type": "code",
   "execution_count": 53,
   "id": "d72ad485-5090-46bb-abe9-a5373a4db4ec",
   "metadata": {},
   "outputs": [],
   "source": [
    "# SAve merged table\n",
    "merged.write_csv(\"k562.allele.flt.M_atacrnamerged.tsv\", separator=\"\\t\")\n"
   ]
  }
 ],
 "metadata": {
  "kernelspec": {
   "display_name": "Python 3 (ipykernel)",
   "language": "python",
   "name": "python3"
  },
  "language_info": {
   "codemirror_mode": {
    "name": "ipython",
    "version": 3
   },
   "file_extension": ".py",
   "mimetype": "text/x-python",
   "name": "python",
   "nbconvert_exporter": "python",
   "pygments_lexer": "ipython3",
   "version": "3.12.2"
  }
 },
 "nbformat": 4,
 "nbformat_minor": 5
}
