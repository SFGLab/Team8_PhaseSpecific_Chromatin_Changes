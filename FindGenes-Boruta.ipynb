{
 "cells": [
  {
   "cell_type": "code",
   "execution_count": 17,
   "id": "initial_id",
   "metadata": {
    "collapsed": true,
    "ExecuteTime": {
     "end_time": "2025-05-14T17:28:57.131636200Z",
     "start_time": "2025-05-14T17:28:57.117280100Z"
    }
   },
   "outputs": [],
   "source": [
    "import pandas as pd\n",
    "import pickle\n",
    "import numpy as np\n",
    "from sklearn.ensemble import RandomForestRegressor\n",
    "from boruta import BorutaPy\n",
    "\n",
    "import seaborn as sns\n",
    "from matplotlib import pyplot as plt\n",
    "\n",
    "import random"
   ]
  },
  {
   "cell_type": "code",
   "execution_count": 8,
   "outputs": [],
   "source": [
    "Cell_data = pd.read_parquet('data/CycleMeetsExpressions/cell_data_full.parquet')"
   ],
   "metadata": {
    "collapsed": false,
    "ExecuteTime": {
     "end_time": "2025-05-14T17:22:57.480103400Z",
     "start_time": "2025-05-14T17:22:53.464077200Z"
    }
   },
   "id": "3d9ebc0e0dfc0d69"
  },
  {
   "cell_type": "code",
   "execution_count": 9,
   "outputs": [],
   "source": [
    "Cell_data = Cell_data.dropna(subset=['Phase'])"
   ],
   "metadata": {
    "collapsed": false,
    "ExecuteTime": {
     "end_time": "2025-05-14T17:23:00.531334Z",
     "start_time": "2025-05-14T17:22:57.528107800Z"
    }
   },
   "id": "6dd9898702a12b9b"
  },
  {
   "cell_type": "code",
   "execution_count": 12,
   "outputs": [],
   "source": [
    "genes = list(Cell_data.columns[4:-1])\n",
    "phases = set(Cell_data['Phase'].unique())\n",
    "pseudotime = set(Cell_data['pseudotime_proxy'])"
   ],
   "metadata": {
    "collapsed": false,
    "ExecuteTime": {
     "end_time": "2025-05-14T17:24:28.376213900Z",
     "start_time": "2025-05-14T17:24:28.363800600Z"
    }
   },
   "id": "ab9037bd0b1d6294"
  },
  {
   "cell_type": "code",
   "execution_count": 46,
   "outputs": [],
   "source": [
    "# seperate input and output variables \n",
    "X = Cell_data[genes]"
   ],
   "metadata": {
    "collapsed": false,
    "ExecuteTime": {
     "end_time": "2025-05-14T15:44:50.591826200Z",
     "start_time": "2025-05-14T15:44:49.281665300Z"
    }
   },
   "id": "231a92477c9cc582"
  },
  {
   "cell_type": "code",
   "execution_count": 47,
   "outputs": [
    {
     "name": "stderr",
     "output_type": "stream",
     "text": [
      "C:\\Users\\ngl\\AppData\\Local\\Temp\\ipykernel_12080\\80718701.py:1: FutureWarning: Downcasting behavior in `replace` is deprecated and will be removed in a future version. To retain the old behavior, explicitly call `result.infer_objects(copy=False)`. To opt-in to the future behavior, set `pd.set_option('future.no_silent_downcasting', True)`\n",
      "  y = Cell_data['Phase'].replace({'G1':1, 'S': 2, 'G2M':3})\n"
     ]
    }
   ],
   "source": [
    "y = Cell_data['Phase'].replace({'G1':1, 'S': 2, 'G2M':3})"
   ],
   "metadata": {
    "collapsed": false,
    "ExecuteTime": {
     "end_time": "2025-05-14T15:44:50.638321Z",
     "start_time": "2025-05-14T15:44:50.611615800Z"
    }
   },
   "id": "8a82a88b0d3d349f"
  },
  {
   "cell_type": "code",
   "execution_count": 7,
   "outputs": [],
   "source": [
    "# y1 = Cell_data['pseudotime_proxy']"
   ],
   "metadata": {
    "collapsed": false,
    "ExecuteTime": {
     "start_time": "2025-05-14T14:53:00.127847700Z"
    }
   },
   "id": "d5e706e562e54fcd"
  },
  {
   "cell_type": "code",
   "execution_count": 49,
   "outputs": [],
   "source": [
    "# initialize a RF model \n",
    "model = RandomForestRegressor(n_estimators=30, max_depth=3, random_state=42)"
   ],
   "metadata": {
    "collapsed": false,
    "ExecuteTime": {
     "end_time": "2025-05-14T15:44:59.492103900Z",
     "start_time": "2025-05-14T15:44:59.471806Z"
    }
   },
   "id": "9245a20a75cd4319"
  },
  {
   "cell_type": "code",
   "execution_count": 50,
   "outputs": [],
   "source": [
    "feat_selector = BorutaPy(\n",
    "\tverbose=2,\n",
    "\testimator=model,\n",
    "\tn_estimators=10,\n",
    "\tmax_iter=25  # number of iterations to perform\n",
    ")"
   ],
   "metadata": {
    "collapsed": false,
    "ExecuteTime": {
     "end_time": "2025-05-14T15:45:09.208172900Z",
     "start_time": "2025-05-14T15:45:09.193051400Z"
    }
   },
   "id": "ef56f9ef4ac06875"
  },
  {
   "cell_type": "code",
   "execution_count": 51,
   "outputs": [
    {
     "name": "stdout",
     "output_type": "stream",
     "text": [
      "Iteration: \t1 / 25\n",
      "Confirmed: \t0\n",
      "Tentative: \t20773\n",
      "Rejected: \t0\n",
      "Iteration: \t2 / 25\n",
      "Confirmed: \t0\n",
      "Tentative: \t20773\n",
      "Rejected: \t0\n",
      "Iteration: \t3 / 25\n",
      "Confirmed: \t0\n",
      "Tentative: \t20773\n",
      "Rejected: \t0\n",
      "Iteration: \t4 / 25\n",
      "Confirmed: \t0\n",
      "Tentative: \t20773\n",
      "Rejected: \t0\n",
      "Iteration: \t5 / 25\n",
      "Confirmed: \t0\n",
      "Tentative: \t20773\n",
      "Rejected: \t0\n",
      "Iteration: \t6 / 25\n",
      "Confirmed: \t0\n",
      "Tentative: \t20773\n",
      "Rejected: \t0\n",
      "Iteration: \t7 / 25\n",
      "Confirmed: \t0\n",
      "Tentative: \t20773\n",
      "Rejected: \t0\n",
      "Iteration: \t8 / 25\n",
      "Confirmed: \t0\n",
      "Tentative: \t35\n",
      "Rejected: \t20738\n",
      "Iteration: \t9 / 25\n",
      "Confirmed: \t3\n",
      "Tentative: \t32\n",
      "Rejected: \t20738\n",
      "Iteration: \t10 / 25\n",
      "Confirmed: \t3\n",
      "Tentative: \t32\n",
      "Rejected: \t20738\n",
      "Iteration: \t11 / 25\n",
      "Confirmed: \t3\n",
      "Tentative: \t32\n",
      "Rejected: \t20738\n",
      "Iteration: \t12 / 25\n",
      "Confirmed: \t5\n",
      "Tentative: \t22\n",
      "Rejected: \t20746\n",
      "Iteration: \t13 / 25\n",
      "Confirmed: \t5\n",
      "Tentative: \t22\n",
      "Rejected: \t20746\n",
      "Iteration: \t14 / 25\n",
      "Confirmed: \t5\n",
      "Tentative: \t22\n",
      "Rejected: \t20746\n",
      "Iteration: \t15 / 25\n",
      "Confirmed: \t5\n",
      "Tentative: \t22\n",
      "Rejected: \t20746\n",
      "Iteration: \t16 / 25\n",
      "Confirmed: \t6\n",
      "Tentative: \t19\n",
      "Rejected: \t20748\n",
      "Iteration: \t17 / 25\n",
      "Confirmed: \t6\n",
      "Tentative: \t19\n",
      "Rejected: \t20748\n",
      "Iteration: \t18 / 25\n",
      "Confirmed: \t6\n",
      "Tentative: \t19\n",
      "Rejected: \t20748\n",
      "Iteration: \t19 / 25\n",
      "Confirmed: \t7\n",
      "Tentative: \t16\n",
      "Rejected: \t20750\n",
      "Iteration: \t20 / 25\n",
      "Confirmed: \t7\n",
      "Tentative: \t16\n",
      "Rejected: \t20750\n",
      "Iteration: \t21 / 25\n",
      "Confirmed: \t7\n",
      "Tentative: \t16\n",
      "Rejected: \t20750\n",
      "Iteration: \t22 / 25\n",
      "Confirmed: \t7\n",
      "Tentative: \t15\n",
      "Rejected: \t20751\n",
      "Iteration: \t23 / 25\n",
      "Confirmed: \t7\n",
      "Tentative: \t15\n",
      "Rejected: \t20751\n",
      "Iteration: \t24 / 25\n",
      "Confirmed: \t7\n",
      "Tentative: \t15\n",
      "Rejected: \t20751\n",
      "\n",
      "\n",
      "BorutaPy finished running.\n",
      "\n",
      "Iteration: \t25 / 25\n",
      "Confirmed: \t7\n",
      "Tentative: \t8\n",
      "Rejected: \t20758\n"
     ]
    },
    {
     "data": {
      "text/plain": "BorutaPy(estimator=RandomForestRegressor(max_depth=3, n_estimators=10,\n                                         random_state=RandomState(MT19937) at 0x2237EBA7540),\n         max_iter=25, n_estimators=10,\n         random_state=RandomState(MT19937) at 0x2237EBA7540, verbose=2)",
      "text/html": "<style>#sk-container-id-2 {\n  /* Definition of color scheme common for light and dark mode */\n  --sklearn-color-text: #000;\n  --sklearn-color-text-muted: #666;\n  --sklearn-color-line: gray;\n  /* Definition of color scheme for unfitted estimators */\n  --sklearn-color-unfitted-level-0: #fff5e6;\n  --sklearn-color-unfitted-level-1: #f6e4d2;\n  --sklearn-color-unfitted-level-2: #ffe0b3;\n  --sklearn-color-unfitted-level-3: chocolate;\n  /* Definition of color scheme for fitted estimators */\n  --sklearn-color-fitted-level-0: #f0f8ff;\n  --sklearn-color-fitted-level-1: #d4ebff;\n  --sklearn-color-fitted-level-2: #b3dbfd;\n  --sklearn-color-fitted-level-3: cornflowerblue;\n\n  /* Specific color for light theme */\n  --sklearn-color-text-on-default-background: var(--sg-text-color, var(--theme-code-foreground, var(--jp-content-font-color1, black)));\n  --sklearn-color-background: var(--sg-background-color, var(--theme-background, var(--jp-layout-color0, white)));\n  --sklearn-color-border-box: var(--sg-text-color, var(--theme-code-foreground, var(--jp-content-font-color1, black)));\n  --sklearn-color-icon: #696969;\n\n  @media (prefers-color-scheme: dark) {\n    /* Redefinition of color scheme for dark theme */\n    --sklearn-color-text-on-default-background: var(--sg-text-color, var(--theme-code-foreground, var(--jp-content-font-color1, white)));\n    --sklearn-color-background: var(--sg-background-color, var(--theme-background, var(--jp-layout-color0, #111)));\n    --sklearn-color-border-box: var(--sg-text-color, var(--theme-code-foreground, var(--jp-content-font-color1, white)));\n    --sklearn-color-icon: #878787;\n  }\n}\n\n#sk-container-id-2 {\n  color: var(--sklearn-color-text);\n}\n\n#sk-container-id-2 pre {\n  padding: 0;\n}\n\n#sk-container-id-2 input.sk-hidden--visually {\n  border: 0;\n  clip: rect(1px 1px 1px 1px);\n  clip: rect(1px, 1px, 1px, 1px);\n  height: 1px;\n  margin: -1px;\n  overflow: hidden;\n  padding: 0;\n  position: absolute;\n  width: 1px;\n}\n\n#sk-container-id-2 div.sk-dashed-wrapped {\n  border: 1px dashed var(--sklearn-color-line);\n  margin: 0 0.4em 0.5em 0.4em;\n  box-sizing: border-box;\n  padding-bottom: 0.4em;\n  background-color: var(--sklearn-color-background);\n}\n\n#sk-container-id-2 div.sk-container {\n  /* jupyter's `normalize.less` sets `[hidden] { display: none; }`\n     but bootstrap.min.css set `[hidden] { display: none !important; }`\n     so we also need the `!important` here to be able to override the\n     default hidden behavior on the sphinx rendered scikit-learn.org.\n     See: https://github.com/scikit-learn/scikit-learn/issues/21755 */\n  display: inline-block !important;\n  position: relative;\n}\n\n#sk-container-id-2 div.sk-text-repr-fallback {\n  display: none;\n}\n\ndiv.sk-parallel-item,\ndiv.sk-serial,\ndiv.sk-item {\n  /* draw centered vertical line to link estimators */\n  background-image: linear-gradient(var(--sklearn-color-text-on-default-background), var(--sklearn-color-text-on-default-background));\n  background-size: 2px 100%;\n  background-repeat: no-repeat;\n  background-position: center center;\n}\n\n/* Parallel-specific style estimator block */\n\n#sk-container-id-2 div.sk-parallel-item::after {\n  content: \"\";\n  width: 100%;\n  border-bottom: 2px solid var(--sklearn-color-text-on-default-background);\n  flex-grow: 1;\n}\n\n#sk-container-id-2 div.sk-parallel {\n  display: flex;\n  align-items: stretch;\n  justify-content: center;\n  background-color: var(--sklearn-color-background);\n  position: relative;\n}\n\n#sk-container-id-2 div.sk-parallel-item {\n  display: flex;\n  flex-direction: column;\n}\n\n#sk-container-id-2 div.sk-parallel-item:first-child::after {\n  align-self: flex-end;\n  width: 50%;\n}\n\n#sk-container-id-2 div.sk-parallel-item:last-child::after {\n  align-self: flex-start;\n  width: 50%;\n}\n\n#sk-container-id-2 div.sk-parallel-item:only-child::after {\n  width: 0;\n}\n\n/* Serial-specific style estimator block */\n\n#sk-container-id-2 div.sk-serial {\n  display: flex;\n  flex-direction: column;\n  align-items: center;\n  background-color: var(--sklearn-color-background);\n  padding-right: 1em;\n  padding-left: 1em;\n}\n\n\n/* Toggleable style: style used for estimator/Pipeline/ColumnTransformer box that is\nclickable and can be expanded/collapsed.\n- Pipeline and ColumnTransformer use this feature and define the default style\n- Estimators will overwrite some part of the style using the `sk-estimator` class\n*/\n\n/* Pipeline and ColumnTransformer style (default) */\n\n#sk-container-id-2 div.sk-toggleable {\n  /* Default theme specific background. It is overwritten whether we have a\n  specific estimator or a Pipeline/ColumnTransformer */\n  background-color: var(--sklearn-color-background);\n}\n\n/* Toggleable label */\n#sk-container-id-2 label.sk-toggleable__label {\n  cursor: pointer;\n  display: flex;\n  width: 100%;\n  margin-bottom: 0;\n  padding: 0.5em;\n  box-sizing: border-box;\n  text-align: center;\n  align-items: start;\n  justify-content: space-between;\n  gap: 0.5em;\n}\n\n#sk-container-id-2 label.sk-toggleable__label .caption {\n  font-size: 0.6rem;\n  font-weight: lighter;\n  color: var(--sklearn-color-text-muted);\n}\n\n#sk-container-id-2 label.sk-toggleable__label-arrow:before {\n  /* Arrow on the left of the label */\n  content: \"▸\";\n  float: left;\n  margin-right: 0.25em;\n  color: var(--sklearn-color-icon);\n}\n\n#sk-container-id-2 label.sk-toggleable__label-arrow:hover:before {\n  color: var(--sklearn-color-text);\n}\n\n/* Toggleable content - dropdown */\n\n#sk-container-id-2 div.sk-toggleable__content {\n  max-height: 0;\n  max-width: 0;\n  overflow: hidden;\n  text-align: left;\n  /* unfitted */\n  background-color: var(--sklearn-color-unfitted-level-0);\n}\n\n#sk-container-id-2 div.sk-toggleable__content.fitted {\n  /* fitted */\n  background-color: var(--sklearn-color-fitted-level-0);\n}\n\n#sk-container-id-2 div.sk-toggleable__content pre {\n  margin: 0.2em;\n  border-radius: 0.25em;\n  color: var(--sklearn-color-text);\n  /* unfitted */\n  background-color: var(--sklearn-color-unfitted-level-0);\n}\n\n#sk-container-id-2 div.sk-toggleable__content.fitted pre {\n  /* unfitted */\n  background-color: var(--sklearn-color-fitted-level-0);\n}\n\n#sk-container-id-2 input.sk-toggleable__control:checked~div.sk-toggleable__content {\n  /* Expand drop-down */\n  max-height: 200px;\n  max-width: 100%;\n  overflow: auto;\n}\n\n#sk-container-id-2 input.sk-toggleable__control:checked~label.sk-toggleable__label-arrow:before {\n  content: \"▾\";\n}\n\n/* Pipeline/ColumnTransformer-specific style */\n\n#sk-container-id-2 div.sk-label input.sk-toggleable__control:checked~label.sk-toggleable__label {\n  color: var(--sklearn-color-text);\n  background-color: var(--sklearn-color-unfitted-level-2);\n}\n\n#sk-container-id-2 div.sk-label.fitted input.sk-toggleable__control:checked~label.sk-toggleable__label {\n  background-color: var(--sklearn-color-fitted-level-2);\n}\n\n/* Estimator-specific style */\n\n/* Colorize estimator box */\n#sk-container-id-2 div.sk-estimator input.sk-toggleable__control:checked~label.sk-toggleable__label {\n  /* unfitted */\n  background-color: var(--sklearn-color-unfitted-level-2);\n}\n\n#sk-container-id-2 div.sk-estimator.fitted input.sk-toggleable__control:checked~label.sk-toggleable__label {\n  /* fitted */\n  background-color: var(--sklearn-color-fitted-level-2);\n}\n\n#sk-container-id-2 div.sk-label label.sk-toggleable__label,\n#sk-container-id-2 div.sk-label label {\n  /* The background is the default theme color */\n  color: var(--sklearn-color-text-on-default-background);\n}\n\n/* On hover, darken the color of the background */\n#sk-container-id-2 div.sk-label:hover label.sk-toggleable__label {\n  color: var(--sklearn-color-text);\n  background-color: var(--sklearn-color-unfitted-level-2);\n}\n\n/* Label box, darken color on hover, fitted */\n#sk-container-id-2 div.sk-label.fitted:hover label.sk-toggleable__label.fitted {\n  color: var(--sklearn-color-text);\n  background-color: var(--sklearn-color-fitted-level-2);\n}\n\n/* Estimator label */\n\n#sk-container-id-2 div.sk-label label {\n  font-family: monospace;\n  font-weight: bold;\n  display: inline-block;\n  line-height: 1.2em;\n}\n\n#sk-container-id-2 div.sk-label-container {\n  text-align: center;\n}\n\n/* Estimator-specific */\n#sk-container-id-2 div.sk-estimator {\n  font-family: monospace;\n  border: 1px dotted var(--sklearn-color-border-box);\n  border-radius: 0.25em;\n  box-sizing: border-box;\n  margin-bottom: 0.5em;\n  /* unfitted */\n  background-color: var(--sklearn-color-unfitted-level-0);\n}\n\n#sk-container-id-2 div.sk-estimator.fitted {\n  /* fitted */\n  background-color: var(--sklearn-color-fitted-level-0);\n}\n\n/* on hover */\n#sk-container-id-2 div.sk-estimator:hover {\n  /* unfitted */\n  background-color: var(--sklearn-color-unfitted-level-2);\n}\n\n#sk-container-id-2 div.sk-estimator.fitted:hover {\n  /* fitted */\n  background-color: var(--sklearn-color-fitted-level-2);\n}\n\n/* Specification for estimator info (e.g. \"i\" and \"?\") */\n\n/* Common style for \"i\" and \"?\" */\n\n.sk-estimator-doc-link,\na:link.sk-estimator-doc-link,\na:visited.sk-estimator-doc-link {\n  float: right;\n  font-size: smaller;\n  line-height: 1em;\n  font-family: monospace;\n  background-color: var(--sklearn-color-background);\n  border-radius: 1em;\n  height: 1em;\n  width: 1em;\n  text-decoration: none !important;\n  margin-left: 0.5em;\n  text-align: center;\n  /* unfitted */\n  border: var(--sklearn-color-unfitted-level-1) 1pt solid;\n  color: var(--sklearn-color-unfitted-level-1);\n}\n\n.sk-estimator-doc-link.fitted,\na:link.sk-estimator-doc-link.fitted,\na:visited.sk-estimator-doc-link.fitted {\n  /* fitted */\n  border: var(--sklearn-color-fitted-level-1) 1pt solid;\n  color: var(--sklearn-color-fitted-level-1);\n}\n\n/* On hover */\ndiv.sk-estimator:hover .sk-estimator-doc-link:hover,\n.sk-estimator-doc-link:hover,\ndiv.sk-label-container:hover .sk-estimator-doc-link:hover,\n.sk-estimator-doc-link:hover {\n  /* unfitted */\n  background-color: var(--sklearn-color-unfitted-level-3);\n  color: var(--sklearn-color-background);\n  text-decoration: none;\n}\n\ndiv.sk-estimator.fitted:hover .sk-estimator-doc-link.fitted:hover,\n.sk-estimator-doc-link.fitted:hover,\ndiv.sk-label-container:hover .sk-estimator-doc-link.fitted:hover,\n.sk-estimator-doc-link.fitted:hover {\n  /* fitted */\n  background-color: var(--sklearn-color-fitted-level-3);\n  color: var(--sklearn-color-background);\n  text-decoration: none;\n}\n\n/* Span, style for the box shown on hovering the info icon */\n.sk-estimator-doc-link span {\n  display: none;\n  z-index: 9999;\n  position: relative;\n  font-weight: normal;\n  right: .2ex;\n  padding: .5ex;\n  margin: .5ex;\n  width: min-content;\n  min-width: 20ex;\n  max-width: 50ex;\n  color: var(--sklearn-color-text);\n  box-shadow: 2pt 2pt 4pt #999;\n  /* unfitted */\n  background: var(--sklearn-color-unfitted-level-0);\n  border: .5pt solid var(--sklearn-color-unfitted-level-3);\n}\n\n.sk-estimator-doc-link.fitted span {\n  /* fitted */\n  background: var(--sklearn-color-fitted-level-0);\n  border: var(--sklearn-color-fitted-level-3);\n}\n\n.sk-estimator-doc-link:hover span {\n  display: block;\n}\n\n/* \"?\"-specific style due to the `<a>` HTML tag */\n\n#sk-container-id-2 a.estimator_doc_link {\n  float: right;\n  font-size: 1rem;\n  line-height: 1em;\n  font-family: monospace;\n  background-color: var(--sklearn-color-background);\n  border-radius: 1rem;\n  height: 1rem;\n  width: 1rem;\n  text-decoration: none;\n  /* unfitted */\n  color: var(--sklearn-color-unfitted-level-1);\n  border: var(--sklearn-color-unfitted-level-1) 1pt solid;\n}\n\n#sk-container-id-2 a.estimator_doc_link.fitted {\n  /* fitted */\n  border: var(--sklearn-color-fitted-level-1) 1pt solid;\n  color: var(--sklearn-color-fitted-level-1);\n}\n\n/* On hover */\n#sk-container-id-2 a.estimator_doc_link:hover {\n  /* unfitted */\n  background-color: var(--sklearn-color-unfitted-level-3);\n  color: var(--sklearn-color-background);\n  text-decoration: none;\n}\n\n#sk-container-id-2 a.estimator_doc_link.fitted:hover {\n  /* fitted */\n  background-color: var(--sklearn-color-fitted-level-3);\n}\n</style><div id=\"sk-container-id-2\" class=\"sk-top-container\"><div class=\"sk-text-repr-fallback\"><pre>BorutaPy(estimator=RandomForestRegressor(max_depth=3, n_estimators=10,\n                                         random_state=RandomState(MT19937) at 0x2237EBA7540),\n         max_iter=25, n_estimators=10,\n         random_state=RandomState(MT19937) at 0x2237EBA7540, verbose=2)</pre><b>In a Jupyter environment, please rerun this cell to show the HTML representation or trust the notebook. <br />On GitHub, the HTML representation is unable to render, please try loading this page with nbviewer.org.</b></div><div class=\"sk-container\" hidden><div class=\"sk-item sk-dashed-wrapped\"><div class=\"sk-label-container\"><div class=\"sk-label fitted sk-toggleable\"><input class=\"sk-toggleable__control sk-hidden--visually\" id=\"sk-estimator-id-4\" type=\"checkbox\" ><label for=\"sk-estimator-id-4\" class=\"sk-toggleable__label fitted sk-toggleable__label-arrow\"><div><div>BorutaPy</div></div><div><span class=\"sk-estimator-doc-link fitted\">i<span>Fitted</span></span></div></label><div class=\"sk-toggleable__content fitted\"><pre>BorutaPy(estimator=RandomForestRegressor(max_depth=3, n_estimators=10,\n                                         random_state=RandomState(MT19937) at 0x2237EBA7540),\n         max_iter=25, n_estimators=10,\n         random_state=RandomState(MT19937) at 0x2237EBA7540, verbose=2)</pre></div> </div></div><div class=\"sk-parallel\"><div class=\"sk-parallel-item\"><div class=\"sk-item\"><div class=\"sk-label-container\"><div class=\"sk-label fitted sk-toggleable\"><input class=\"sk-toggleable__control sk-hidden--visually\" id=\"sk-estimator-id-5\" type=\"checkbox\" ><label for=\"sk-estimator-id-5\" class=\"sk-toggleable__label fitted sk-toggleable__label-arrow\"><div><div>estimator: RandomForestRegressor</div></div></label><div class=\"sk-toggleable__content fitted\"><pre>RandomForestRegressor(max_depth=3, n_estimators=10,\n                      random_state=RandomState(MT19937) at 0x2237EBA7540)</pre></div> </div></div><div class=\"sk-serial\"><div class=\"sk-item\"><div class=\"sk-estimator fitted sk-toggleable\"><input class=\"sk-toggleable__control sk-hidden--visually\" id=\"sk-estimator-id-6\" type=\"checkbox\" ><label for=\"sk-estimator-id-6\" class=\"sk-toggleable__label fitted sk-toggleable__label-arrow\"><div><div>RandomForestRegressor</div></div><div><a class=\"sk-estimator-doc-link fitted\" rel=\"noreferrer\" target=\"_blank\" href=\"https://scikit-learn.org/1.6/modules/generated/sklearn.ensemble.RandomForestRegressor.html\">?<span>Documentation for RandomForestRegressor</span></a></div></label><div class=\"sk-toggleable__content fitted\"><pre>RandomForestRegressor(max_depth=3, n_estimators=10,\n                      random_state=RandomState(MT19937) at 0x2237EBA7540)</pre></div> </div></div></div></div></div></div></div></div></div>"
     },
     "execution_count": 51,
     "metadata": {},
     "output_type": "execute_result"
    }
   ],
   "source": [
    "# Train Boruta\n",
    "feat_selector.fit(X, y)"
   ],
   "metadata": {
    "collapsed": false,
    "ExecuteTime": {
     "end_time": "2025-05-14T15:55:53.860096900Z",
     "start_time": "2025-05-14T15:45:09.985256Z"
    }
   },
   "id": "1c4b26b071c8d96b"
  },
  {
   "cell_type": "code",
   "execution_count": 52,
   "outputs": [
    {
     "name": "stdout",
     "output_type": "stream",
     "text": [
      "\n",
      "------Support and Ranking for each feature------\n",
      "Passes the test:  ENSMUSG00000002055  - Ranking:  1\n",
      "Passes the test:  ENSMUSG00000020914  - Ranking:  1\n",
      "Passes the test:  ENSMUSG00000022037  - Ranking:  1\n",
      "Passes the test:  ENSMUSG00000026605  - Ranking:  1\n",
      "Passes the test:  ENSMUSG00000027715  - Ranking:  1\n",
      "Passes the test:  ENSMUSG00000031004  - Ranking:  1\n",
      "Passes the test:  ENSMUSG00000045328  - Ranking:  1\n"
     ]
    }
   ],
   "source": [
    "# Print support and ranking for each feature\n",
    "print('\\n------Support and Ranking for each feature------')\n",
    "# indexes of selected features\n",
    "feat_indexes = set()\n",
    "for i in range(len(feat_selector.support_)):\n",
    "\tif feat_selector.support_[i]:\n",
    "\t\tprint('Passes the test: ', X.columns[i],\n",
    "\t\t\t  ' - Ranking: ', feat_selector.ranking_[i])\n",
    "\t\tfeat_indexes.add(i)\n",
    "\telse:\n",
    "\t\tpass\n",
    "# print('Doesn\\'t pass the test: ',\n",
    "# \t  X.columns[i], ' - Ranking: ', feat_selector.ranking_[i])"
   ],
   "metadata": {
    "collapsed": false,
    "ExecuteTime": {
     "end_time": "2025-05-14T15:56:24.355751Z",
     "start_time": "2025-05-14T15:56:24.334721500Z"
    }
   },
   "id": "4a535884b2daa52"
  },
  {
   "cell_type": "code",
   "execution_count": 53,
   "outputs": [
    {
     "data": {
      "text/plain": "['ENSMUSG00000027715',\n 'ENSMUSG00000002055',\n 'ENSMUSG00000020914',\n 'ENSMUSG00000031004',\n 'ENSMUSG00000026605',\n 'ENSMUSG00000022037',\n 'ENSMUSG00000045328']"
     },
     "execution_count": 53,
     "metadata": {},
     "output_type": "execute_result"
    }
   ],
   "source": [
    "selected_features = [X.columns[i] for i in feat_indexes]\n",
    "selected_cols = list(Cell_data.columns[:4]) + selected_features\n",
    "selected_genes = Cell_data[selected_cols]"
   ],
   "metadata": {
    "collapsed": false,
    "ExecuteTime": {
     "end_time": "2025-05-14T15:56:29.609021300Z",
     "start_time": "2025-05-14T15:56:29.593746300Z"
    }
   },
   "id": "6e2b2e36e4c3eb63"
  },
  {
   "cell_type": "code",
   "execution_count": 57,
   "outputs": [],
   "source": [
    "# Convert the dataframe from white to long\n",
    "selected_genes = selected_genes.melt(id_vars=list(Cell_data.columns[:4]),\n",
    "\t\t\t\t\t\t\t\t\t value_vars=selected_features,\n",
    "                                     var_name='gene',\n",
    "                                     value_name='expression [RNAseq]',\n",
    "\t\t\t\t\t\t\t\t\t ignore_index=True)"
   ],
   "metadata": {
    "collapsed": false,
    "ExecuteTime": {
     "end_time": "2025-05-14T15:56:44.957601100Z",
     "start_time": "2025-05-14T15:56:44.903865400Z"
    }
   },
   "id": "e6d67ff657134435"
  },
  {
   "cell_type": "code",
   "execution_count": 58,
   "outputs": [
    {
     "data": {
      "text/plain": "                            cellid Phase pseudotime  pseudotime_proxy  \\\n0       SCG0088_AAACAGCCACCAACCG-1    G1       G1_1               1.0   \n1       SCG0088_AAACAGCCATGATTGT-1    G1      G1_13              13.0   \n2       SCG0088_AAACATGCACAACCTA-1    G1      G1_12              12.0   \n3       SCG0088_AAACATGCAGTCTAGC-1    G1       G1_3               3.0   \n4       SCG0088_AAACATGCATGGCCCA-1   G2M      G2M_9              41.0   \n...                            ...   ...        ...               ...   \n112275  SCG0091_TTTGTGGCAGTTGCGT-1     S        S_6              27.0   \n112276  SCG0091_TTTGTGTTCCTCCTAA-1    G1       G1_1               1.0   \n112277  SCG0091_TTTGTGTTCGTTACAA-1    G1       G1_4               4.0   \n112278  SCG0091_TTTGTTGGTACCAGGT-1     S        S_7              28.0   \n112279  SCG0091_TTTGTTGGTTTATCTG-1   G2M      G2M_5              37.0   \n\n                      gene  expression [RNAseq]  \n0       ENSMUSG00000027715                  0.0  \n1       ENSMUSG00000027715                  0.0  \n2       ENSMUSG00000027715                  0.0  \n3       ENSMUSG00000027715                  0.0  \n4       ENSMUSG00000027715                  0.0  \n...                    ...                  ...  \n112275  ENSMUSG00000045328                  0.0  \n112276  ENSMUSG00000045328                  0.0  \n112277  ENSMUSG00000045328                  0.0  \n112278  ENSMUSG00000045328                  0.0  \n112279  ENSMUSG00000045328                  0.0  \n\n[112280 rows x 6 columns]",
      "text/html": "<div>\n<style scoped>\n    .dataframe tbody tr th:only-of-type {\n        vertical-align: middle;\n    }\n\n    .dataframe tbody tr th {\n        vertical-align: top;\n    }\n\n    .dataframe thead th {\n        text-align: right;\n    }\n</style>\n<table border=\"1\" class=\"dataframe\">\n  <thead>\n    <tr style=\"text-align: right;\">\n      <th></th>\n      <th>cellid</th>\n      <th>Phase</th>\n      <th>pseudotime</th>\n      <th>pseudotime_proxy</th>\n      <th>gene</th>\n      <th>expression [RNAseq]</th>\n    </tr>\n  </thead>\n  <tbody>\n    <tr>\n      <th>0</th>\n      <td>SCG0088_AAACAGCCACCAACCG-1</td>\n      <td>G1</td>\n      <td>G1_1</td>\n      <td>1.0</td>\n      <td>ENSMUSG00000027715</td>\n      <td>0.0</td>\n    </tr>\n    <tr>\n      <th>1</th>\n      <td>SCG0088_AAACAGCCATGATTGT-1</td>\n      <td>G1</td>\n      <td>G1_13</td>\n      <td>13.0</td>\n      <td>ENSMUSG00000027715</td>\n      <td>0.0</td>\n    </tr>\n    <tr>\n      <th>2</th>\n      <td>SCG0088_AAACATGCACAACCTA-1</td>\n      <td>G1</td>\n      <td>G1_12</td>\n      <td>12.0</td>\n      <td>ENSMUSG00000027715</td>\n      <td>0.0</td>\n    </tr>\n    <tr>\n      <th>3</th>\n      <td>SCG0088_AAACATGCAGTCTAGC-1</td>\n      <td>G1</td>\n      <td>G1_3</td>\n      <td>3.0</td>\n      <td>ENSMUSG00000027715</td>\n      <td>0.0</td>\n    </tr>\n    <tr>\n      <th>4</th>\n      <td>SCG0088_AAACATGCATGGCCCA-1</td>\n      <td>G2M</td>\n      <td>G2M_9</td>\n      <td>41.0</td>\n      <td>ENSMUSG00000027715</td>\n      <td>0.0</td>\n    </tr>\n    <tr>\n      <th>...</th>\n      <td>...</td>\n      <td>...</td>\n      <td>...</td>\n      <td>...</td>\n      <td>...</td>\n      <td>...</td>\n    </tr>\n    <tr>\n      <th>112275</th>\n      <td>SCG0091_TTTGTGGCAGTTGCGT-1</td>\n      <td>S</td>\n      <td>S_6</td>\n      <td>27.0</td>\n      <td>ENSMUSG00000045328</td>\n      <td>0.0</td>\n    </tr>\n    <tr>\n      <th>112276</th>\n      <td>SCG0091_TTTGTGTTCCTCCTAA-1</td>\n      <td>G1</td>\n      <td>G1_1</td>\n      <td>1.0</td>\n      <td>ENSMUSG00000045328</td>\n      <td>0.0</td>\n    </tr>\n    <tr>\n      <th>112277</th>\n      <td>SCG0091_TTTGTGTTCGTTACAA-1</td>\n      <td>G1</td>\n      <td>G1_4</td>\n      <td>4.0</td>\n      <td>ENSMUSG00000045328</td>\n      <td>0.0</td>\n    </tr>\n    <tr>\n      <th>112278</th>\n      <td>SCG0091_TTTGTTGGTACCAGGT-1</td>\n      <td>S</td>\n      <td>S_7</td>\n      <td>28.0</td>\n      <td>ENSMUSG00000045328</td>\n      <td>0.0</td>\n    </tr>\n    <tr>\n      <th>112279</th>\n      <td>SCG0091_TTTGTTGGTTTATCTG-1</td>\n      <td>G2M</td>\n      <td>G2M_5</td>\n      <td>37.0</td>\n      <td>ENSMUSG00000045328</td>\n      <td>0.0</td>\n    </tr>\n  </tbody>\n</table>\n<p>112280 rows × 6 columns</p>\n</div>"
     },
     "execution_count": 58,
     "metadata": {},
     "output_type": "execute_result"
    }
   ],
   "source": [
    "selected_genes"
   ],
   "metadata": {
    "collapsed": false
   },
   "id": "3c40beca99df5e83"
  },
  {
   "cell_type": "code",
   "execution_count": 59,
   "outputs": [],
   "source": [
    "# Save to pickle\n",
    "# with open ('data/CycleMeetsExpressions/second_results_selected_genes.pickle', 'wb') as f:\n",
    "# \tpickle.dump(selected_genes, f)"
   ],
   "metadata": {
    "collapsed": false,
    "ExecuteTime": {
     "end_time": "2025-05-14T15:56:56.510702Z",
     "start_time": "2025-05-14T15:56:56.478388900Z"
    }
   },
   "id": "c9cf21d3115c7152"
  },
  {
   "cell_type": "code",
   "execution_count": 2,
   "outputs": [],
   "source": [
    "# Read from pickle\n",
    "# with open('data/CycleMeetsExpressions/second_results_selected_genes.pickle', 'rb') as f:\n",
    "# \tselected_genes = pickle.load(f)"
   ],
   "metadata": {
    "collapsed": false,
    "ExecuteTime": {
     "end_time": "2025-05-14T17:21:48.984664900Z",
     "start_time": "2025-05-14T17:21:48.956305800Z"
    }
   },
   "id": "63ac3b1c6528d772"
  },
  {
   "cell_type": "code",
   "execution_count": 3,
   "outputs": [
    {
     "data": {
      "text/plain": "<seaborn.axisgrid.FacetGrid at 0x1d6c5a83150>"
     },
     "execution_count": 3,
     "metadata": {},
     "output_type": "execute_result"
    },
    {
     "data": {
      "text/plain": "<Figure size 750x350 with 7 Axes>",
      "image/png": "[encoded data removed]"
     },
     "metadata": {},
     "output_type": "display_data"
    }
   ],
   "source": [
    "sns.set_style(style='white', rc={'axes.facecolor': (0,0,0,0)})\n",
    "\n",
    "# Initialize the FacetGrid object\n",
    "pal = sns.cubehelix_palette(10, rot=-.25, light=.7)\n",
    "g = sns.FacetGrid(\n",
    "\tselected_genes,\n",
    "\trow='gene',\n",
    "\thue='gene',\n",
    "\taspect=15,\n",
    "\theight=.5,\n",
    "\tpalette=pal\n",
    ")\n",
    "\n",
    "# Draw the densities in a few steps\n",
    "g.map(sns.kdeplot, 'pseudotime_proxy',\n",
    "\t  bw_adjust=.5, clip_on=False,\n",
    "\t  fill=True, alpha=1, linewidth=1.5)\n",
    "g.map(sns.kdeplot, 'pseudotime_proxy', clip_on=False, color='w', lw=2, bw_adjust=.5)\n",
    "\n",
    "# passing color=None to refline() uses the hue mapping\n",
    "g.refline(y=0, linewidth=2, linestyle='-', color=None, clip_on=False)\n",
    "\n",
    "\n",
    "# Define and use a simple function to label the plot in axes coordinates\n",
    "def label(x, color, label):\n",
    "\tax = plt.gca()\n",
    "\tax.text(0, .2, label, fontweight='bold', color=color,\n",
    "\t\t\tha='left', va='center', transform=ax.transAxes)\n",
    "\n",
    "\n",
    "g.map(label, 'pseudotime_proxy')\n",
    "\n",
    "# Set the subplots to overlap\n",
    "g.figure.subplots_adjust(hspace=-.25)\n",
    "\n",
    "# Remove axes details that don't play well with overlap\n",
    "g.set_titles('')\n",
    "g.set(xlim=(-15,44))\n",
    "g.set(yticks=[], ylabel='')\n",
    "g.set(xticks=[10,26,38], xlabel='cell cycle phase')\n",
    "g.set(xticklabels=['G1', 'S', 'G2M'])\n",
    "\n",
    "plt.axvline(x=20, c='white',lw=1.5, alpha=.7)\n",
    "plt.axvline(x=31, c='white',lw=1.5, alpha=.7)\n",
    "\n",
    "g.despine(bottom=True, left=True)\n",
    "\n",
    "# plt.savefig('Figs/Example_genes_2.png',\n",
    "# \t\t\tbbox_inches='tight')"
   ],
   "metadata": {
    "collapsed": false,
    "ExecuteTime": {
     "end_time": "2025-05-14T17:21:57.968863400Z",
     "start_time": "2025-05-14T17:21:55.263143300Z"
    }
   },
   "id": "bc897eea702fd3fb"
  },
  {
   "cell_type": "code",
   "execution_count": null,
   "outputs": [],
   "source": [],
   "metadata": {
    "collapsed": false
   },
   "id": "6f640094c3a01795"
  }
 ],
 "metadata": {
  "kernelspec": {
   "display_name": "Python 3",
   "language": "python",
   "name": "python3"
  },
  "language_info": {
   "codemirror_mode": {
    "name": "ipython",
    "version": 2
   },
   "file_extension": ".py",
   "mimetype": "text/x-python",
   "name": "python",
   "nbconvert_exporter": "python",
   "pygments_lexer": "ipython2",
   "version": "2.7.6"
  }
 },
 "nbformat": 4,
 "nbformat_minor": 5
}
