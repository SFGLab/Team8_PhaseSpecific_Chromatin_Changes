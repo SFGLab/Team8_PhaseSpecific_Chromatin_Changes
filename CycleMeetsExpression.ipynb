{
 "cells": [
  {
   "cell_type": "code",
   "execution_count": 1,
   "id": "initial_id",
   "metadata": {
    "collapsed": true,
    "ExecuteTime": {
     "end_time": "2025-05-14T11:04:36.723094Z",
     "start_time": "2025-05-14T11:04:34.581509Z"
    }
   },
   "outputs": [],
   "source": [
    "import pandas as pd\n",
    "import pysam\n",
    "import pickle"
   ]
  },
  {
   "cell_type": "code",
   "execution_count": 2,
   "outputs": [],
   "source": [
    "# Obtain cell cycle phase and pseudo-time info from the stat file\n",
    "cell_list = pd.read_csv('data/single_cell/patski.dis.stat.txt', sep='\\t')[['cellid', 'Phase', 'metacell']]"
   ],
   "metadata": {
    "collapsed": false,
    "ExecuteTime": {
     "end_time": "2025-05-14T11:04:37.201599Z",
     "start_time": "2025-05-14T11:04:36.730257Z"
    }
   },
   "id": "48bc8680ebe9a063"
  },
  {
   "cell_type": "code",
   "execution_count": 3,
   "outputs": [],
   "source": [
    "# Rename columns to better reflect data\n",
    "cell_list = cell_list.rename(columns={'metacell':'pseudotime'})"
   ],
   "metadata": {
    "collapsed": false,
    "ExecuteTime": {
     "end_time": "2025-05-14T11:04:37.223006Z",
     "start_time": "2025-05-14T11:04:37.205062Z"
    }
   },
   "id": "a626c491c6a65286"
  },
  {
   "cell_type": "code",
   "execution_count": 4,
   "outputs": [],
   "source": [
    "# Load BAM file\n",
    "bam = pysam.AlignmentFile('data/scATAC_RNA-seq_Patski/patski.allele.flt.M-003-002.bam', 'rb')"
   ],
   "metadata": {
    "collapsed": false,
    "ExecuteTime": {
     "end_time": "2025-05-14T11:04:37.242476Z",
     "start_time": "2025-05-14T11:04:37.219291Z"
    }
   },
   "id": "73763d666c6d3fa2"
  },
  {
   "cell_type": "code",
   "execution_count": 5,
   "outputs": [
    {
     "name": "stderr",
     "output_type": "stream",
     "text": [
      "[E::bgzf_uncompress] CRC32 checksum mismatch\n",
      "[E::bgzf_read] Read block operation failed with error 33 after 0 of 4 bytes\n"
     ]
    },
    {
     "ename": "OSError",
     "evalue": "truncated file",
     "output_type": "error",
     "traceback": [
      "\u001B[0;31m---------------------------------------------------------------------------\u001B[0m",
      "\u001B[0;31mOSError\u001B[0m                                   Traceback (most recent call last)",
      "\u001B[0;32m/var/folders/5w/2zkqr5s90sn2973m1948xlw80000gn/T/ipykernel_4517/4134382858.py\u001B[0m in \u001B[0;36m<module>\u001B[0;34m\u001B[0m\n\u001B[1;32m      4\u001B[0m \u001B[0mgene_names\u001B[0m \u001B[0;34m=\u001B[0m \u001B[0;34m[\u001B[0m\u001B[0;34m]\u001B[0m\u001B[0;34m\u001B[0m\u001B[0;34m\u001B[0m\u001B[0m\n\u001B[1;32m      5\u001B[0m \u001B[0;34m\u001B[0m\u001B[0m\n\u001B[0;32m----> 6\u001B[0;31m \u001B[0;32mfor\u001B[0m \u001B[0mread\u001B[0m \u001B[0;32min\u001B[0m \u001B[0mbam\u001B[0m\u001B[0;34m:\u001B[0m\u001B[0;34m\u001B[0m\u001B[0;34m\u001B[0m\u001B[0m\n\u001B[0m\u001B[1;32m      7\u001B[0m     \u001B[0;32mif\u001B[0m \u001B[0;32mnot\u001B[0m \u001B[0mread\u001B[0m\u001B[0;34m.\u001B[0m\u001B[0mhas_tag\u001B[0m\u001B[0;34m(\u001B[0m\u001B[0;34m'CB'\u001B[0m\u001B[0;34m)\u001B[0m \u001B[0;32mor\u001B[0m \u001B[0;32mnot\u001B[0m \u001B[0mread\u001B[0m\u001B[0;34m.\u001B[0m\u001B[0mhas_tag\u001B[0m\u001B[0;34m(\u001B[0m\u001B[0;34m'GX'\u001B[0m\u001B[0;34m)\u001B[0m \u001B[0;32mor\u001B[0m \u001B[0;32mnot\u001B[0m \u001B[0mread\u001B[0m\u001B[0;34m.\u001B[0m\u001B[0mhas_tag\u001B[0m\u001B[0;34m(\u001B[0m\u001B[0;34m'GN'\u001B[0m\u001B[0;34m)\u001B[0m\u001B[0;34m:\u001B[0m\u001B[0;34m\u001B[0m\u001B[0;34m\u001B[0m\u001B[0m\n\u001B[1;32m      8\u001B[0m         \u001B[0;32mcontinue\u001B[0m\u001B[0;34m\u001B[0m\u001B[0;34m\u001B[0m\u001B[0m\n",
      "\u001B[0;32m/Library/Frameworks/Python.framework/Versions/3.10/lib/python3.10/site-packages/pysam/libcalignmentfile.pyx\u001B[0m in \u001B[0;36mpysam.libcalignmentfile.AlignmentFile.__next__\u001B[0;34m()\u001B[0m\n",
      "\u001B[0;31mOSError\u001B[0m: truncated file"
     ]
    }
   ],
   "source": [
    "# Extract cell barcodes, genes and gene names\n",
    "cells = []\n",
    "genes = []\n",
    "gene_names = []\n",
    "\n",
    "for read in bam:\n",
    "    if not read.has_tag('CB') or not read.has_tag('GX') or not read.has_tag('GN'):\n",
    "        continue\n",
    "\n",
    "    cells.append(read.get_tag('CB'))\n",
    "    genes.append(read.get_tag('GX'))\n",
    "    gene_names.append(read.get_tag('GN'))\n",
    "\n",
    "bam.close()"
   ],
   "metadata": {
    "collapsed": false,
    "ExecuteTime": {
     "end_time": "2025-05-14T11:06:34.381528Z",
     "start_time": "2025-05-14T11:04:37.242893Z"
    }
   },
   "id": "68844dd0e002e54d"
  },
  {
   "cell_type": "code",
   "execution_count": 6,
   "outputs": [],
   "source": [
    "# Create a dictionary for gene IDs and names\n",
    "genes_dict = {}\n",
    "\n",
    "for gene, gene_name in zip(genes, gene_names):\n",
    "\tif gene not in genes_dict.keys():\n",
    "\t\tgenes_dict[gene] = gene_name"
   ],
   "metadata": {
    "collapsed": false,
    "ExecuteTime": {
     "end_time": "2025-05-14T11:08:18.109369Z",
     "start_time": "2025-05-14T11:08:04.871168Z"
    }
   },
   "id": "412b78e606c85bd0"
  },
  {
   "cell_type": "code",
   "execution_count": 7,
   "outputs": [],
   "source": [
    "# Create a dataframe from the read data\n",
    "cell_gene = pd.DataFrame({\n",
    "    'cellid': cells,\n",
    "    'gene': genes,\n",
    "}) "
   ],
   "metadata": {
    "collapsed": false,
    "ExecuteTime": {
     "end_time": "2025-05-14T11:08:26.805368Z",
     "start_time": "2025-05-14T11:08:19.446066Z"
    }
   },
   "id": "a2dcde9216070bae"
  },
  {
   "cell_type": "code",
   "execution_count": 8,
   "outputs": [],
   "source": [
    "# Keep only cells which have cell-cycle information present in the stat data\n",
    "cell_gene = cell_gene[cell_gene['cellid'].isin(set(cell_list['cellid']))]\n",
    "\n",
    "# Calculate how many times each gene appears per cell\n",
    "cell_gene2 = cell_gene.groupby('cellid')['gene'].value_counts(dropna=False).unstack(fill_value=0)\n",
    "cell_gene2 = cell_gene2.reset_index()\n",
    "\n",
    "# Normalise by the number of genes read per cell\n",
    "genelist = cell_gene2.columns[1::]\n",
    "cell_gene2['sum'] = cell_gene2[genelist].sum(axis=1)\n",
    "if cell_gene2['sum'].min() > 0:\n",
    "    cell_gene2[genelist] = ( cell_gene2[genelist].values / cell_gene2['sum'].values[:,None] ) * 1e4\n",
    "else:\n",
    "    'Err: div by 0'"
   ],
   "metadata": {
    "collapsed": false,
    "ExecuteTime": {
     "end_time": "2025-05-14T11:13:15.797244Z",
     "start_time": "2025-05-14T11:08:53.803804Z"
    }
   },
   "id": "4373275a8613c10f"
  },
  {
   "cell_type": "code",
   "execution_count": 9,
   "outputs": [],
   "source": [
    "# Encode index in an easily sortable manner\n",
    "pseudotime_vals = list(cell_list['pseudotime'].unique())\n",
    "pseudotime_proxy = list(range(len(pseudotime_vals)))\n",
    "pseudotime_dict = {x:y for x,y in zip(pseudotime_vals, pseudotime_proxy)}\n",
    "pseudotime_dict_rev = {y:x for x,y in zip(pseudotime_vals, pseudotime_proxy)}"
   ],
   "metadata": {
    "collapsed": false,
    "ExecuteTime": {
     "end_time": "2025-05-14T11:13:16.149595Z",
     "start_time": "2025-05-14T11:13:15.723814Z"
    }
   },
   "id": "a15194eada9aa48"
  },
  {
   "cell_type": "code",
   "execution_count": 10,
   "outputs": [],
   "source": [
    "# Save the reverse dictionary to decode pseudotime into phases in later analyses\n",
    "with open ('data/CycleMeetsExpressions/pseudotime_dict.pickle', 'wb') as f:\n",
    "\tpickle.dump(pseudotime_dict_rev, f)"
   ],
   "metadata": {
    "collapsed": false,
    "ExecuteTime": {
     "end_time": "2025-05-14T11:13:16.152551Z",
     "start_time": "2025-05-14T11:13:15.786405Z"
    }
   },
   "id": "77bfe10dfb9a0813"
  },
  {
   "cell_type": "code",
   "execution_count": 11,
   "outputs": [],
   "source": [
    "# Reduce data to the overlap between the two datafiles\n",
    "cell_list = cell_list[cell_list['cellid'].isin(set(cell_gene2['cellid']))]"
   ],
   "metadata": {
    "collapsed": false,
    "ExecuteTime": {
     "end_time": "2025-05-14T11:13:16.152886Z",
     "start_time": "2025-05-14T11:13:16.132080Z"
    }
   },
   "id": "d0827fb577c073bd"
  },
  {
   "cell_type": "code",
   "execution_count": 12,
   "outputs": [],
   "source": [
    "# Apply the pseudotime encoding \n",
    "cell_list['pseudotime_proxy'] = cell_list['pseudotime'].map(pseudotime_dict)"
   ],
   "metadata": {
    "collapsed": false,
    "ExecuteTime": {
     "end_time": "2025-05-14T11:13:16.153149Z",
     "start_time": "2025-05-14T11:13:16.132678Z"
    }
   },
   "id": "6d26a27a787ea24e"
  },
  {
   "cell_type": "code",
   "execution_count": 13,
   "outputs": [],
   "source": [
    "# Merge the two datafiles into a single dataframe which includes cell cycle data and gene data\n",
    "full_cell_data = pd.merge(cell_list, cell_gene2, on='cellid', how='outer').reindex(cell_list.index)"
   ],
   "metadata": {
    "collapsed": false,
    "ExecuteTime": {
     "end_time": "2025-05-14T11:15:20.071152Z",
     "start_time": "2025-05-14T11:13:29.584586Z"
    }
   },
   "id": "c4dfee4d0a1fc3f3"
  },
  {
   "cell_type": "code",
   "execution_count": 14,
   "outputs": [],
   "source": [
    "full_cell_data.to_parquet('data/CycleMeetsExpressions/cell_data_full.parquet', index=False)"
   ],
   "metadata": {
    "collapsed": false,
    "ExecuteTime": {
     "end_time": "2025-05-14T11:17:30.744390Z",
     "start_time": "2025-05-14T11:15:20.039341Z"
    }
   },
   "id": "210e51488ec17a58"
  },
  {
   "cell_type": "code",
   "execution_count": null,
   "outputs": [],
   "source": [],
   "metadata": {
    "collapsed": false
   },
   "id": "951f14c179cbb6ab"
  }
 ],
 "metadata": {
  "kernelspec": {
   "display_name": "Python 3",
   "language": "python",
   "name": "python3"
  },
  "language_info": {
   "codemirror_mode": {
    "name": "ipython",
    "version": 2
   },
   "file_extension": ".py",
   "mimetype": "text/x-python",
   "name": "python",
   "nbconvert_exporter": "python",
   "pygments_lexer": "ipython2",
   "version": "2.7.6"
  }
 },
 "nbformat": 4,
 "nbformat_minor": 5
}
