{
 "cells": [
  {
   "cell_type": "code",
   "execution_count": 1,
   "id": "initial_id",
   "metadata": {
    "collapsed": true,
    "ExecuteTime": {
     "end_time": "2025-05-14T10:44:33.536387Z",
     "start_time": "2025-05-14T10:44:30.892642Z"
    }
   },
   "outputs": [],
   "source": [
    "import pandas as pd\n",
    "import pysam\n",
    "import pickle"
   ]
  },
  {
   "cell_type": "code",
   "execution_count": 2,
   "outputs": [],
   "source": [
    "# Obtain cell cycle phase and pseudo-time info from the stat file\n",
    "cell_list = pd.read_csv('data/single_cell/patski.dis.stat.txt', sep='\\t')[['cellid', 'Phase', 'metacell']]"
   ],
   "metadata": {
    "collapsed": false,
    "ExecuteTime": {
     "end_time": "2025-05-14T10:44:34.330352Z",
     "start_time": "2025-05-14T10:44:33.540301Z"
    }
   },
   "id": "48bc8680ebe9a063"
  },
  {
   "cell_type": "code",
   "execution_count": 3,
   "outputs": [],
   "source": [
    "# Rename columns to better reflect data\n",
    "cell_list = cell_list.rename(columns={'metacell':'pseudotime'})"
   ],
   "metadata": {
    "collapsed": false,
    "ExecuteTime": {
     "end_time": "2025-05-14T10:44:34.367476Z",
     "start_time": "2025-05-14T10:44:34.327112Z"
    }
   },
   "id": "a626c491c6a65286"
  },
  {
   "cell_type": "code",
   "execution_count": 4,
   "outputs": [],
   "source": [
    "# Load BAM file\n",
    "bam = pysam.AlignmentFile('data/scATAC_RNA-seq_Patski/patski.allele.flt.M-003-002.bam', 'rb')"
   ],
   "metadata": {
    "collapsed": false,
    "ExecuteTime": {
     "end_time": "2025-05-14T10:44:34.389736Z",
     "start_time": "2025-05-14T10:44:34.365763Z"
    }
   },
   "id": "73763d666c6d3fa2"
  },
  {
   "cell_type": "code",
   "execution_count": 5,
   "outputs": [
    {
     "name": "stderr",
     "output_type": "stream",
     "text": [
      "[E::bgzf_uncompress] CRC32 checksum mismatch\n",
      "[E::bgzf_read] Read block operation failed with error 33 after 0 of 4 bytes\n"
     ]
    },
    {
     "ename": "OSError",
     "evalue": "truncated file",
     "output_type": "error",
     "traceback": [
      "\u001B[0;31m---------------------------------------------------------------------------\u001B[0m",
      "\u001B[0;31mOSError\u001B[0m                                   Traceback (most recent call last)",
      "\u001B[0;32m/var/folders/5w/2zkqr5s90sn2973m1948xlw80000gn/T/ipykernel_4020/4134382858.py\u001B[0m in \u001B[0;36m<module>\u001B[0;34m\u001B[0m\n\u001B[1;32m      4\u001B[0m \u001B[0mgene_names\u001B[0m \u001B[0;34m=\u001B[0m \u001B[0;34m[\u001B[0m\u001B[0;34m]\u001B[0m\u001B[0;34m\u001B[0m\u001B[0;34m\u001B[0m\u001B[0m\n\u001B[1;32m      5\u001B[0m \u001B[0;34m\u001B[0m\u001B[0m\n\u001B[0;32m----> 6\u001B[0;31m \u001B[0;32mfor\u001B[0m \u001B[0mread\u001B[0m \u001B[0;32min\u001B[0m \u001B[0mbam\u001B[0m\u001B[0;34m:\u001B[0m\u001B[0;34m\u001B[0m\u001B[0;34m\u001B[0m\u001B[0m\n\u001B[0m\u001B[1;32m      7\u001B[0m     \u001B[0;32mif\u001B[0m \u001B[0;32mnot\u001B[0m \u001B[0mread\u001B[0m\u001B[0;34m.\u001B[0m\u001B[0mhas_tag\u001B[0m\u001B[0;34m(\u001B[0m\u001B[0;34m'CB'\u001B[0m\u001B[0;34m)\u001B[0m \u001B[0;32mor\u001B[0m \u001B[0;32mnot\u001B[0m \u001B[0mread\u001B[0m\u001B[0;34m.\u001B[0m\u001B[0mhas_tag\u001B[0m\u001B[0;34m(\u001B[0m\u001B[0;34m'GX'\u001B[0m\u001B[0;34m)\u001B[0m \u001B[0;32mor\u001B[0m \u001B[0;32mnot\u001B[0m \u001B[0mread\u001B[0m\u001B[0;34m.\u001B[0m\u001B[0mhas_tag\u001B[0m\u001B[0;34m(\u001B[0m\u001B[0;34m'GN'\u001B[0m\u001B[0;34m)\u001B[0m\u001B[0;34m:\u001B[0m\u001B[0;34m\u001B[0m\u001B[0;34m\u001B[0m\u001B[0m\n\u001B[1;32m      8\u001B[0m         \u001B[0;32mcontinue\u001B[0m\u001B[0;34m\u001B[0m\u001B[0;34m\u001B[0m\u001B[0m\n",
      "\u001B[0;32m/Library/Frameworks/Python.framework/Versions/3.10/lib/python3.10/site-packages/pysam/libcalignmentfile.pyx\u001B[0m in \u001B[0;36mpysam.libcalignmentfile.AlignmentFile.__next__\u001B[0;34m()\u001B[0m\n",
      "\u001B[0;31mOSError\u001B[0m: truncated file"
     ]
    }
   ],
   "source": [
    "# Extract cell barcodes, genes and gene names\n",
    "cells = []\n",
    "genes = []\n",
    "gene_names = []\n",
    "\n",
    "for read in bam:\n",
    "    if not read.has_tag('CB') or not read.has_tag('GX') or not read.has_tag('GN'):\n",
    "        continue\n",
    "\n",
    "    cells.append(read.get_tag('CB'))\n",
    "    genes.append(read.get_tag('GX'))\n",
    "    gene_names.append(read.get_tag('GN'))\n",
    "\n",
    "bam.close()"
   ],
   "metadata": {
    "collapsed": false,
    "ExecuteTime": {
     "end_time": "2025-05-14T10:48:05.678466Z",
     "start_time": "2025-05-14T10:44:34.397566Z"
    }
   },
   "id": "68844dd0e002e54d"
  },
  {
   "cell_type": "code",
   "execution_count": 6,
   "outputs": [],
   "source": [
    "# Create a dictionary for gene IDs and names\n",
    "genes_dict = {}\n",
    "\n",
    "for gene, gene_name in zip(genes, gene_names):\n",
    "\tif gene not in genes_dict.keys():\n",
    "\t\tgenes_dict[gene] = gene_name"
   ],
   "metadata": {
    "collapsed": false,
    "ExecuteTime": {
     "end_time": "2025-05-14T10:51:37.672753Z",
     "start_time": "2025-05-14T10:51:12.037150Z"
    }
   },
   "id": "412b78e606c85bd0"
  },
  {
   "cell_type": "code",
   "execution_count": 7,
   "outputs": [],
   "source": [
    "# Create a dataframe from the read data\n",
    "cell_gene = pd.DataFrame({\n",
    "    'cellid': cells,\n",
    "    'gene': genes,\n",
    "}) "
   ],
   "metadata": {
    "collapsed": false,
    "ExecuteTime": {
     "end_time": "2025-05-14T10:52:04.917316Z",
     "start_time": "2025-05-14T10:51:49.226986Z"
    }
   },
   "id": "a2dcde9216070bae"
  },
  {
   "cell_type": "code",
   "execution_count": 8,
   "outputs": [],
   "source": [
    "# Keep only cells which have cell-cycle information present in the stat data\n",
    "cell_gene = cell_gene[cell_gene['cellid'].isin(set(cell_list['cellid']))]\n",
    "\n",
    "# Calculate how many times each gene appears per cell\n",
    "cell_gene2 = cell_gene.groupby('cellid')['gene'].value_counts(dropna=False).unstack(fill_value=0)\n",
    "cell_gene2 = cell_gene2.reset_index()\n",
    "\n",
    "# Normalise by the number of genes read per cell\n",
    "genelist = cell_gene2.columns[1::]\n",
    "cell_gene2['sum'] = cell_gene2[genelist].sum(axis=1)\n",
    "if cell_gene2['sum'].min() > 0:\n",
    "    cell_gene2[genelist] = ( cell_gene2[genelist].values / cell_gene2['sum'].values[:,None] ) * 1e4\n",
    "else:\n",
    "    'Err: div by 0'"
   ],
   "metadata": {
    "collapsed": false,
    "ExecuteTime": {
     "end_time": "2025-05-14T10:55:55.919842Z",
     "start_time": "2025-05-14T10:52:04.929056Z"
    }
   },
   "id": "4373275a8613c10f"
  },
  {
   "cell_type": "code",
   "execution_count": 9,
   "outputs": [
    {
     "ename": "NameError",
     "evalue": "name 'wb' is not defined",
     "output_type": "error",
     "traceback": [
      "\u001B[0;31m---------------------------------------------------------------------------\u001B[0m",
      "\u001B[0;31mNameError\u001B[0m                                 Traceback (most recent call last)",
      "\u001B[0;32m/var/folders/5w/2zkqr5s90sn2973m1948xlw80000gn/T/ipykernel_4020/1215188546.py\u001B[0m in \u001B[0;36m<module>\u001B[0;34m\u001B[0m\n\u001B[1;32m      6\u001B[0m \u001B[0;34m\u001B[0m\u001B[0m\n\u001B[1;32m      7\u001B[0m \u001B[0;31m# Save the reverse dictionary to decode pseudotime into phases in later analyses\u001B[0m\u001B[0;34m\u001B[0m\u001B[0;34m\u001B[0m\u001B[0m\n\u001B[0;32m----> 8\u001B[0;31m \u001B[0;32mwith\u001B[0m \u001B[0mopen\u001B[0m \u001B[0;34m(\u001B[0m\u001B[0;34m'data/CycleMeetsExpressions/pseudotime_dict.pickle'\u001B[0m\u001B[0;34m,\u001B[0m \u001B[0mwb\u001B[0m\u001B[0;34m)\u001B[0m \u001B[0;32mas\u001B[0m \u001B[0mfile\u001B[0m\u001B[0;34m:\u001B[0m\u001B[0;34m\u001B[0m\u001B[0;34m\u001B[0m\u001B[0m\n\u001B[0m\u001B[1;32m      9\u001B[0m     \u001B[0mpickle\u001B[0m\u001B[0;34m.\u001B[0m\u001B[0mdump\u001B[0m\u001B[0;34m(\u001B[0m\u001B[0mpseudotime_dict_rev\u001B[0m\u001B[0;34m)\u001B[0m\u001B[0;34m\u001B[0m\u001B[0;34m\u001B[0m\u001B[0m\n",
      "\u001B[0;31mNameError\u001B[0m: name 'wb' is not defined"
     ]
    }
   ],
   "source": [
    "# Encode index in an easily sortable manner\n",
    "pseudotime_vals = list(cell_list['pseudotime'].unique())\n",
    "pseudotime_proxy = list(range(len(pseudotime_vals)))\n",
    "pseudotime_dict = {x:y for x,y in zip(pseudotime_vals, pseudotime_proxy)}\n",
    "pseudotime_dict_rev = {y:x for x,y in zip(pseudotime_vals, pseudotime_proxy)}"
   ],
   "metadata": {
    "collapsed": false,
    "ExecuteTime": {
     "end_time": "2025-05-14T10:55:56.282237Z",
     "start_time": "2025-05-14T10:55:55.721188Z"
    }
   },
   "id": "a15194eada9aa48"
  },
  {
   "cell_type": "code",
   "execution_count": 11,
   "outputs": [],
   "source": [
    "# Save the reverse dictionary to decode pseudotime into phases in later analyses\n",
    "with open ('data/CycleMeetsExpressions/pseudotime_dict.pickle', 'wb') as f:\n",
    "\tpickle.dump(pseudotime_dict_rev, f)"
   ],
   "metadata": {
    "collapsed": false,
    "ExecuteTime": {
     "end_time": "2025-05-14T10:58:05.331432Z",
     "start_time": "2025-05-14T10:58:05.206771Z"
    }
   },
   "id": "77bfe10dfb9a0813"
  },
  {
   "cell_type": "code",
   "execution_count": null,
   "outputs": [],
   "source": [
    "# Reduce data to the overlap between the two datafiles\n",
    "cell_list = cell_list[cell_list['cellid'].isin(set(cell_gene2['cellid']))]"
   ],
   "metadata": {
    "collapsed": false
   },
   "id": "d0827fb577c073bd"
  },
  {
   "cell_type": "code",
   "execution_count": 29,
   "outputs": [],
   "source": [
    "# Apply the pseudotime encoding \n",
    "cell_list['pseudotime_proxy'] = cell_list['pseudotime'].map(pseudotime_dict)"
   ],
   "metadata": {
    "collapsed": false,
    "ExecuteTime": {
     "end_time": "2025-05-14T10:31:39.209732Z",
     "start_time": "2025-05-14T10:31:39.173474Z"
    }
   },
   "id": "6d26a27a787ea24e"
  },
  {
   "cell_type": "code",
   "execution_count": 32,
   "outputs": [],
   "source": [
    "# Merge the two datafiles into a single dataframe which includes cell cycle data and gene data\n",
    "full_cell_data = pd.merge(cell_list, cell_gene2, on='cellid', how='outer').reindex(cell_list.index)"
   ],
   "metadata": {
    "collapsed": false,
    "ExecuteTime": {
     "end_time": "2025-05-14T10:35:00.141533Z",
     "start_time": "2025-05-14T10:31:56.381988Z"
    }
   },
   "id": "c4dfee4d0a1fc3f3"
  },
  {
   "cell_type": "code",
   "execution_count": 33,
   "outputs": [],
   "source": [
    "out_data = pd.merge(cell_list[['cellid', 'pseudotime_proxy']], cell_gene2, on='cellid', how='outer').reindex(cell_list.index)"
   ],
   "metadata": {
    "collapsed": false,
    "ExecuteTime": {
     "end_time": "2025-05-14T10:38:00.510929Z",
     "start_time": "2025-05-14T10:35:00.067588Z"
    }
   },
   "id": "f7916542555dec3e"
  },
  {
   "cell_type": "code",
   "execution_count": 33,
   "outputs": [],
   "source": [],
   "metadata": {
    "collapsed": false,
    "ExecuteTime": {
     "end_time": "2025-05-14T10:38:00.957563Z",
     "start_time": "2025-05-14T10:38:00.432678Z"
    }
   },
   "id": "1df1b1e29c5bb87b"
  },
  {
   "cell_type": "code",
   "execution_count": 34,
   "outputs": [],
   "source": [
    "out_data.to_parquet('data/CycleMeetsExpressions/cell_data_full.parquet', index=False)"
   ],
   "metadata": {
    "collapsed": false,
    "ExecuteTime": {
     "end_time": "2025-05-14T10:39:14.746486Z",
     "start_time": "2025-05-14T10:38:00.927565Z"
    }
   },
   "id": "210e51488ec17a58"
  },
  {
   "cell_type": "code",
   "execution_count": null,
   "outputs": [],
   "source": [],
   "metadata": {
    "collapsed": false
   },
   "id": "951f14c179cbb6ab"
  }
 ],
 "metadata": {
  "kernelspec": {
   "display_name": "Python 3",
   "language": "python",
   "name": "python3"
  },
  "language_info": {
   "codemirror_mode": {
    "name": "ipython",
    "version": 2
   },
   "file_extension": ".py",
   "mimetype": "text/x-python",
   "name": "python",
   "nbconvert_exporter": "python",
   "pygments_lexer": "ipython2",
   "version": "2.7.6"
  }
 },
 "nbformat": 4,
 "nbformat_minor": 5
}
