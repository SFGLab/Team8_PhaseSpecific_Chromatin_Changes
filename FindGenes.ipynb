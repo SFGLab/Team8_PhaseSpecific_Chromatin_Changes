{
 "cells": [
  {
   "cell_type": "code",
   "execution_count": 14,
   "id": "initial_id",
   "metadata": {
    "collapsed": true,
    "ExecuteTime": {
     "end_time": "2025-05-14T11:18:39.715071Z",
     "start_time": "2025-05-14T11:18:39.707773Z"
    }
   },
   "outputs": [],
   "source": [
    "import pandas as pd\n",
    "import pickle"
   ]
  },
  {
   "cell_type": "code",
   "execution_count": 15,
   "outputs": [],
   "source": [
    "Cell_data = pd.read_parquet('data/CycleMeetsExpressions/cell_data_full.parquet')"
   ],
   "metadata": {
    "collapsed": false,
    "ExecuteTime": {
     "end_time": "2025-05-14T11:19:06.024675Z",
     "start_time": "2025-05-14T11:18:40.080715Z"
    }
   },
   "id": "3d9ebc0e0dfc0d69"
  },
  {
   "cell_type": "code",
   "execution_count": 16,
   "outputs": [
    {
     "data": {
      "text/plain": "                       cellid Phase pseudotime  pseudotime_proxy  \\\n0  SCG0088_AAACAGCCACCAACCG-1    G1       G1_1               1.0   \n1  SCG0088_AAACAGCCATGATTGT-1    G1      G1_13              13.0   \n2  SCG0088_AAACATGCACAACCTA-1    G1      G1_12              12.0   \n3  SCG0088_AAACATGCAGTCTAGC-1    G1       G1_3               3.0   \n4  SCG0088_AAACATGCATGGCCCA-1   G2M      G2M_9              41.0   \n\n   ENSMUSG00000000001  ENSMUSG00000000028  ENSMUSG00000000031  \\\n0                 0.0                 0.0                 0.0   \n1                 0.0                 0.0                 0.0   \n2                 0.0                 0.0                 0.0   \n3                 0.0                 0.0                 0.0   \n4                 0.0                 0.0                 0.0   \n\n   ENSMUSG00000000037  ENSMUSG00000000049  ENSMUSG00000000056  ...  \\\n0                 0.0                 0.0                 0.0  ...   \n1                 0.0                 0.0                 0.0  ...   \n2                 0.0                 0.0                 0.0  ...   \n3                 0.0                 0.0                 0.0  ...   \n4                 0.0                 0.0                 0.0  ...   \n\n   ENSMUSG00000118436  ENSMUSG00000118445  ENSMUSG00000118449  \\\n0                 0.0                 0.0                 0.0   \n1                 0.0                 0.0                 0.0   \n2                 0.0                 0.0                 0.0   \n3                 0.0                 0.0                 0.0   \n4                 0.0                 0.0                 0.0   \n\n   ENSMUSG00000118454  ENSMUSG00000118505  ENSMUSG00000118506  \\\n0                 0.0                 0.0                 0.0   \n1                 0.0                 0.0                 0.0   \n2                 0.0                 0.0                 0.0   \n3                 0.0                 0.0                 0.0   \n4                 0.0                 0.0                 0.0   \n\n   ENSMUSG00000118519  ENSMUSG00000118537  ENSMUSG00000118550    sum  \n0                 0.0                 0.0                 0.0  372.0  \n1                 0.0                 0.0                 0.0  211.0  \n2                 0.0                 0.0                 0.0  270.0  \n3                 0.0                 0.0                 0.0  362.0  \n4                 0.0                 0.0                 0.0  202.0  \n\n[5 rows x 20778 columns]",
      "text/html": "<div>\n<style scoped>\n    .dataframe tbody tr th:only-of-type {\n        vertical-align: middle;\n    }\n\n    .dataframe tbody tr th {\n        vertical-align: top;\n    }\n\n    .dataframe thead th {\n        text-align: right;\n    }\n</style>\n<table border=\"1\" class=\"dataframe\">\n  <thead>\n    <tr style=\"text-align: right;\">\n      <th></th>\n      <th>cellid</th>\n      <th>Phase</th>\n      <th>pseudotime</th>\n      <th>pseudotime_proxy</th>\n      <th>ENSMUSG00000000001</th>\n      <th>ENSMUSG00000000028</th>\n      <th>ENSMUSG00000000031</th>\n      <th>ENSMUSG00000000037</th>\n      <th>ENSMUSG00000000049</th>\n      <th>ENSMUSG00000000056</th>\n      <th>...</th>\n      <th>ENSMUSG00000118436</th>\n      <th>ENSMUSG00000118445</th>\n      <th>ENSMUSG00000118449</th>\n      <th>ENSMUSG00000118454</th>\n      <th>ENSMUSG00000118505</th>\n      <th>ENSMUSG00000118506</th>\n      <th>ENSMUSG00000118519</th>\n      <th>ENSMUSG00000118537</th>\n      <th>ENSMUSG00000118550</th>\n      <th>sum</th>\n    </tr>\n  </thead>\n  <tbody>\n    <tr>\n      <th>0</th>\n      <td>SCG0088_AAACAGCCACCAACCG-1</td>\n      <td>G1</td>\n      <td>G1_1</td>\n      <td>1.0</td>\n      <td>0.0</td>\n      <td>0.0</td>\n      <td>0.0</td>\n      <td>0.0</td>\n      <td>0.0</td>\n      <td>0.0</td>\n      <td>...</td>\n      <td>0.0</td>\n      <td>0.0</td>\n      <td>0.0</td>\n      <td>0.0</td>\n      <td>0.0</td>\n      <td>0.0</td>\n      <td>0.0</td>\n      <td>0.0</td>\n      <td>0.0</td>\n      <td>372.0</td>\n    </tr>\n    <tr>\n      <th>1</th>\n      <td>SCG0088_AAACAGCCATGATTGT-1</td>\n      <td>G1</td>\n      <td>G1_13</td>\n      <td>13.0</td>\n      <td>0.0</td>\n      <td>0.0</td>\n      <td>0.0</td>\n      <td>0.0</td>\n      <td>0.0</td>\n      <td>0.0</td>\n      <td>...</td>\n      <td>0.0</td>\n      <td>0.0</td>\n      <td>0.0</td>\n      <td>0.0</td>\n      <td>0.0</td>\n      <td>0.0</td>\n      <td>0.0</td>\n      <td>0.0</td>\n      <td>0.0</td>\n      <td>211.0</td>\n    </tr>\n    <tr>\n      <th>2</th>\n      <td>SCG0088_AAACATGCACAACCTA-1</td>\n      <td>G1</td>\n      <td>G1_12</td>\n      <td>12.0</td>\n      <td>0.0</td>\n      <td>0.0</td>\n      <td>0.0</td>\n      <td>0.0</td>\n      <td>0.0</td>\n      <td>0.0</td>\n      <td>...</td>\n      <td>0.0</td>\n      <td>0.0</td>\n      <td>0.0</td>\n      <td>0.0</td>\n      <td>0.0</td>\n      <td>0.0</td>\n      <td>0.0</td>\n      <td>0.0</td>\n      <td>0.0</td>\n      <td>270.0</td>\n    </tr>\n    <tr>\n      <th>3</th>\n      <td>SCG0088_AAACATGCAGTCTAGC-1</td>\n      <td>G1</td>\n      <td>G1_3</td>\n      <td>3.0</td>\n      <td>0.0</td>\n      <td>0.0</td>\n      <td>0.0</td>\n      <td>0.0</td>\n      <td>0.0</td>\n      <td>0.0</td>\n      <td>...</td>\n      <td>0.0</td>\n      <td>0.0</td>\n      <td>0.0</td>\n      <td>0.0</td>\n      <td>0.0</td>\n      <td>0.0</td>\n      <td>0.0</td>\n      <td>0.0</td>\n      <td>0.0</td>\n      <td>362.0</td>\n    </tr>\n    <tr>\n      <th>4</th>\n      <td>SCG0088_AAACATGCATGGCCCA-1</td>\n      <td>G2M</td>\n      <td>G2M_9</td>\n      <td>41.0</td>\n      <td>0.0</td>\n      <td>0.0</td>\n      <td>0.0</td>\n      <td>0.0</td>\n      <td>0.0</td>\n      <td>0.0</td>\n      <td>...</td>\n      <td>0.0</td>\n      <td>0.0</td>\n      <td>0.0</td>\n      <td>0.0</td>\n      <td>0.0</td>\n      <td>0.0</td>\n      <td>0.0</td>\n      <td>0.0</td>\n      <td>0.0</td>\n      <td>202.0</td>\n    </tr>\n  </tbody>\n</table>\n<p>5 rows × 20778 columns</p>\n</div>"
     },
     "execution_count": 16,
     "metadata": {},
     "output_type": "execute_result"
    }
   ],
   "source": [
    "Cell_data.head(5)"
   ],
   "metadata": {
    "collapsed": false,
    "ExecuteTime": {
     "end_time": "2025-05-14T11:19:06.213517Z",
     "start_time": "2025-05-14T11:19:06.051596Z"
    }
   },
   "id": "c8c3e4578dade60f"
  },
  {
   "cell_type": "code",
   "execution_count": 25,
   "outputs": [],
   "source": [
    "Cell_data = Cell_data.dropna(subset=['Phase'])"
   ],
   "metadata": {
    "collapsed": false,
    "ExecuteTime": {
     "end_time": "2025-05-14T11:24:12.323868Z",
     "start_time": "2025-05-14T11:23:54.457587Z"
    }
   },
   "id": "6dd9898702a12b9b"
  },
  {
   "cell_type": "code",
   "execution_count": 30,
   "outputs": [
    {
     "data": {
      "text/plain": "20774"
     },
     "execution_count": 30,
     "metadata": {},
     "output_type": "execute_result"
    }
   ],
   "source": [
    "genes = set(Cell_data.columns[4::])\n",
    "phases = set(Cell_data['Phase'].unique())\n",
    "len(genes)"
   ],
   "metadata": {
    "collapsed": false,
    "ExecuteTime": {
     "end_time": "2025-05-14T11:25:39.884480Z",
     "start_time": "2025-05-14T11:25:39.858762Z"
    }
   },
   "id": "ab9037bd0b1d6294"
  },
  {
   "cell_type": "code",
   "execution_count": 12,
   "outputs": [],
   "source": [
    "# Read dict with cell phase decocing\n",
    "with open ('data/CycleMeetsExpressions/pseudotime_dict.pickle', 'rb') as f:\n",
    "    phase_dict = pickle.load(f)"
   ],
   "metadata": {
    "collapsed": false,
    "ExecuteTime": {
     "end_time": "2025-05-14T11:00:35.915642Z",
     "start_time": "2025-05-14T11:00:35.594663Z"
    }
   },
   "id": "bce2bf8dbe639c7f"
  }
 ],
 "metadata": {
  "kernelspec": {
   "display_name": "Python 3",
   "language": "python",
   "name": "python3"
  },
  "language_info": {
   "codemirror_mode": {
    "name": "ipython",
    "version": 2
   },
   "file_extension": ".py",
   "mimetype": "text/x-python",
   "name": "python",
   "nbconvert_exporter": "python",
   "pygments_lexer": "ipython2",
   "version": "2.7.6"
  }
 },
 "nbformat": 4,
 "nbformat_minor": 5
}
