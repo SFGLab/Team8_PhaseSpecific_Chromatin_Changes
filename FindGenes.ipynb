{
 "cells": [
  {
   "cell_type": "code",
   "execution_count": 36,
   "id": "initial_id",
   "metadata": {
    "collapsed": true,
    "ExecuteTime": {
     "end_time": "2025-05-14T13:33:59.039477Z",
     "start_time": "2025-05-14T13:33:52.706608Z"
    }
   },
   "outputs": [],
   "source": [
    "import pandas as pd\n",
    "import pickle\n",
    "import numpy as np\n",
    "from sklearn.ensemble import RandomForestRegressor\n",
    "from boruta import BorutaPy"
   ]
  },
  {
   "cell_type": "code",
   "execution_count": 15,
   "outputs": [],
   "source": [
    "Cell_data = pd.read_parquet('data/CycleMeetsExpressions/cell_data_full.parquet')"
   ],
   "metadata": {
    "collapsed": false,
    "ExecuteTime": {
     "end_time": "2025-05-14T11:19:06.024675Z",
     "start_time": "2025-05-14T11:18:40.080715Z"
    }
   },
   "id": "3d9ebc0e0dfc0d69"
  },
  {
   "cell_type": "code",
   "execution_count": 16,
   "outputs": [
    {
     "data": {
      "text/plain": "                       cellid Phase pseudotime  pseudotime_proxy  \\\n0  SCG0088_AAACAGCCACCAACCG-1    G1       G1_1               1.0   \n1  SCG0088_AAACAGCCATGATTGT-1    G1      G1_13              13.0   \n2  SCG0088_AAACATGCACAACCTA-1    G1      G1_12              12.0   \n3  SCG0088_AAACATGCAGTCTAGC-1    G1       G1_3               3.0   \n4  SCG0088_AAACATGCATGGCCCA-1   G2M      G2M_9              41.0   \n\n   ENSMUSG00000000001  ENSMUSG00000000028  ENSMUSG00000000031  \\\n0                 0.0                 0.0                 0.0   \n1                 0.0                 0.0                 0.0   \n2                 0.0                 0.0                 0.0   \n3                 0.0                 0.0                 0.0   \n4                 0.0                 0.0                 0.0   \n\n   ENSMUSG00000000037  ENSMUSG00000000049  ENSMUSG00000000056  ...  \\\n0                 0.0                 0.0                 0.0  ...   \n1                 0.0                 0.0                 0.0  ...   \n2                 0.0                 0.0                 0.0  ...   \n3                 0.0                 0.0                 0.0  ...   \n4                 0.0                 0.0                 0.0  ...   \n\n   ENSMUSG00000118436  ENSMUSG00000118445  ENSMUSG00000118449  \\\n0                 0.0                 0.0                 0.0   \n1                 0.0                 0.0                 0.0   \n2                 0.0                 0.0                 0.0   \n3                 0.0                 0.0                 0.0   \n4                 0.0                 0.0                 0.0   \n\n   ENSMUSG00000118454  ENSMUSG00000118505  ENSMUSG00000118506  \\\n0                 0.0                 0.0                 0.0   \n1                 0.0                 0.0                 0.0   \n2                 0.0                 0.0                 0.0   \n3                 0.0                 0.0                 0.0   \n4                 0.0                 0.0                 0.0   \n\n   ENSMUSG00000118519  ENSMUSG00000118537  ENSMUSG00000118550    sum  \n0                 0.0                 0.0                 0.0  372.0  \n1                 0.0                 0.0                 0.0  211.0  \n2                 0.0                 0.0                 0.0  270.0  \n3                 0.0                 0.0                 0.0  362.0  \n4                 0.0                 0.0                 0.0  202.0  \n\n[5 rows x 20778 columns]",
      "text/html": "<div>\n<style scoped>\n    .dataframe tbody tr th:only-of-type {\n        vertical-align: middle;\n    }\n\n    .dataframe tbody tr th {\n        vertical-align: top;\n    }\n\n    .dataframe thead th {\n        text-align: right;\n    }\n</style>\n<table border=\"1\" class=\"dataframe\">\n  <thead>\n    <tr style=\"text-align: right;\">\n      <th></th>\n      <th>cellid</th>\n      <th>Phase</th>\n      <th>pseudotime</th>\n      <th>pseudotime_proxy</th>\n      <th>ENSMUSG00000000001</th>\n      <th>ENSMUSG00000000028</th>\n      <th>ENSMUSG00000000031</th>\n      <th>ENSMUSG00000000037</th>\n      <th>ENSMUSG00000000049</th>\n      <th>ENSMUSG00000000056</th>\n      <th>...</th>\n      <th>ENSMUSG00000118436</th>\n      <th>ENSMUSG00000118445</th>\n      <th>ENSMUSG00000118449</th>\n      <th>ENSMUSG00000118454</th>\n      <th>ENSMUSG00000118505</th>\n      <th>ENSMUSG00000118506</th>\n      <th>ENSMUSG00000118519</th>\n      <th>ENSMUSG00000118537</th>\n      <th>ENSMUSG00000118550</th>\n      <th>sum</th>\n    </tr>\n  </thead>\n  <tbody>\n    <tr>\n      <th>0</th>\n      <td>SCG0088_AAACAGCCACCAACCG-1</td>\n      <td>G1</td>\n      <td>G1_1</td>\n      <td>1.0</td>\n      <td>0.0</td>\n      <td>0.0</td>\n      <td>0.0</td>\n      <td>0.0</td>\n      <td>0.0</td>\n      <td>0.0</td>\n      <td>...</td>\n      <td>0.0</td>\n      <td>0.0</td>\n      <td>0.0</td>\n      <td>0.0</td>\n      <td>0.0</td>\n      <td>0.0</td>\n      <td>0.0</td>\n      <td>0.0</td>\n      <td>0.0</td>\n      <td>372.0</td>\n    </tr>\n    <tr>\n      <th>1</th>\n      <td>SCG0088_AAACAGCCATGATTGT-1</td>\n      <td>G1</td>\n      <td>G1_13</td>\n      <td>13.0</td>\n      <td>0.0</td>\n      <td>0.0</td>\n      <td>0.0</td>\n      <td>0.0</td>\n      <td>0.0</td>\n      <td>0.0</td>\n      <td>...</td>\n      <td>0.0</td>\n      <td>0.0</td>\n      <td>0.0</td>\n      <td>0.0</td>\n      <td>0.0</td>\n      <td>0.0</td>\n      <td>0.0</td>\n      <td>0.0</td>\n      <td>0.0</td>\n      <td>211.0</td>\n    </tr>\n    <tr>\n      <th>2</th>\n      <td>SCG0088_AAACATGCACAACCTA-1</td>\n      <td>G1</td>\n      <td>G1_12</td>\n      <td>12.0</td>\n      <td>0.0</td>\n      <td>0.0</td>\n      <td>0.0</td>\n      <td>0.0</td>\n      <td>0.0</td>\n      <td>0.0</td>\n      <td>...</td>\n      <td>0.0</td>\n      <td>0.0</td>\n      <td>0.0</td>\n      <td>0.0</td>\n      <td>0.0</td>\n      <td>0.0</td>\n      <td>0.0</td>\n      <td>0.0</td>\n      <td>0.0</td>\n      <td>270.0</td>\n    </tr>\n    <tr>\n      <th>3</th>\n      <td>SCG0088_AAACATGCAGTCTAGC-1</td>\n      <td>G1</td>\n      <td>G1_3</td>\n      <td>3.0</td>\n      <td>0.0</td>\n      <td>0.0</td>\n      <td>0.0</td>\n      <td>0.0</td>\n      <td>0.0</td>\n      <td>0.0</td>\n      <td>...</td>\n      <td>0.0</td>\n      <td>0.0</td>\n      <td>0.0</td>\n      <td>0.0</td>\n      <td>0.0</td>\n      <td>0.0</td>\n      <td>0.0</td>\n      <td>0.0</td>\n      <td>0.0</td>\n      <td>362.0</td>\n    </tr>\n    <tr>\n      <th>4</th>\n      <td>SCG0088_AAACATGCATGGCCCA-1</td>\n      <td>G2M</td>\n      <td>G2M_9</td>\n      <td>41.0</td>\n      <td>0.0</td>\n      <td>0.0</td>\n      <td>0.0</td>\n      <td>0.0</td>\n      <td>0.0</td>\n      <td>0.0</td>\n      <td>...</td>\n      <td>0.0</td>\n      <td>0.0</td>\n      <td>0.0</td>\n      <td>0.0</td>\n      <td>0.0</td>\n      <td>0.0</td>\n      <td>0.0</td>\n      <td>0.0</td>\n      <td>0.0</td>\n      <td>202.0</td>\n    </tr>\n  </tbody>\n</table>\n<p>5 rows × 20778 columns</p>\n</div>"
     },
     "execution_count": 16,
     "metadata": {},
     "output_type": "execute_result"
    }
   ],
   "source": [
    "Cell_data.head(5)"
   ],
   "metadata": {
    "collapsed": false,
    "ExecuteTime": {
     "end_time": "2025-05-14T11:19:06.213517Z",
     "start_time": "2025-05-14T11:19:06.051596Z"
    }
   },
   "id": "c8c3e4578dade60f"
  },
  {
   "cell_type": "code",
   "execution_count": 25,
   "outputs": [],
   "source": [
    "Cell_data = Cell_data.dropna(subset=['Phase'])"
   ],
   "metadata": {
    "collapsed": false,
    "ExecuteTime": {
     "end_time": "2025-05-14T11:24:12.323868Z",
     "start_time": "2025-05-14T11:23:54.457587Z"
    }
   },
   "id": "6dd9898702a12b9b"
  },
  {
   "cell_type": "code",
   "execution_count": 32,
   "outputs": [],
   "source": [
    "genes = list(Cell_data.columns[4::])\n",
    "phases = set(Cell_data['Phase'].unique())\n",
    "pseudotime = set(Cell_data['pseudotime_proxy'])"
   ],
   "metadata": {
    "collapsed": false,
    "ExecuteTime": {
     "end_time": "2025-05-14T13:22:48.961447Z",
     "start_time": "2025-05-14T13:22:48.943678Z"
    }
   },
   "id": "ab9037bd0b1d6294"
  },
  {
   "cell_type": "code",
   "execution_count": 40,
   "outputs": [
    {
     "data": {
      "text/plain": "{'G1', 'G2M', 'S'}"
     },
     "execution_count": 40,
     "metadata": {},
     "output_type": "execute_result"
    }
   ],
   "source": [
    "phases"
   ],
   "metadata": {
    "collapsed": false,
    "ExecuteTime": {
     "end_time": "2025-05-14T13:40:38.376679Z",
     "start_time": "2025-05-14T13:40:38.361599Z"
    }
   },
   "id": "e9fc52e3c4b7a2a"
  },
  {
   "cell_type": "code",
   "execution_count": 46,
   "outputs": [],
   "source": [
    "# seperate input and output variables \n",
    "X = Cell_data[genes]"
   ],
   "metadata": {
    "collapsed": false,
    "ExecuteTime": {
     "end_time": "2025-05-14T13:43:46.331100Z",
     "start_time": "2025-05-14T13:43:30.850302Z"
    }
   },
   "id": "231a92477c9cc582"
  },
  {
   "cell_type": "code",
   "execution_count": 47,
   "outputs": [
    {
     "name": "stderr",
     "output_type": "stream",
     "text": [
      "/var/folders/5w/2zkqr5s90sn2973m1948xlw80000gn/T/ipykernel_3998/3318556569.py:1: FutureWarning: Downcasting behavior in `replace` is deprecated and will be removed in a future version. To retain the old behavior, explicitly call `result.infer_objects(copy=False)`. To opt-in to the future behavior, set `pd.set_option('future.no_silent_downcasting', True)`\n",
      "  y = Cell_data['Phase'].replace({'G1':1, 'S': 2, 'G2M':3})\n"
     ]
    }
   ],
   "source": [
    "y = Cell_data['Phase'].replace({'G1':1, 'S': 2, 'G2M':3})\n"
   ],
   "metadata": {
    "collapsed": false,
    "ExecuteTime": {
     "end_time": "2025-05-14T13:43:46.366596Z",
     "start_time": "2025-05-14T13:43:46.327662Z"
    }
   },
   "id": "d5e706e562e54fcd"
  },
  {
   "cell_type": "code",
   "execution_count": 37,
   "outputs": [],
   "source": [
    "# initialize a RF model \n",
    "model = RandomForestRegressor(n_estimators=100, max_depth=5, random_state=42)"
   ],
   "metadata": {
    "collapsed": false,
    "ExecuteTime": {
     "end_time": "2025-05-14T13:33:59.057722Z",
     "start_time": "2025-05-14T13:33:59.043230Z"
    }
   },
   "id": "9245a20a75cd4319"
  },
  {
   "cell_type": "code",
   "execution_count": 51,
   "outputs": [],
   "source": [
    "feat_selector = BorutaPy(\n",
    "\tverbose=2,\n",
    "\testimator=model,\n",
    "\tn_estimators='auto',\n",
    "\tmax_iter=10  # number of iterations to perform\n",
    ")"
   ],
   "metadata": {
    "collapsed": false,
    "ExecuteTime": {
     "end_time": "2025-05-14T13:49:09.125847Z",
     "start_time": "2025-05-14T13:49:09.122785Z"
    }
   },
   "id": "ef56f9ef4ac06875"
  },
  {
   "cell_type": "code",
   "execution_count": null,
   "outputs": [],
   "source": [
    "# Train Boruta\n",
    "feat_selector.fit(X, y)"
   ],
   "metadata": {
    "collapsed": false,
    "is_executing": true,
    "ExecuteTime": {
     "start_time": "2025-05-14T13:49:09.814164Z"
    }
   },
   "id": "1c4b26b071c8d96b"
  },
  {
   "cell_type": "code",
   "execution_count": null,
   "outputs": [],
   "source": [
    "len(feat_selector.support_)"
   ],
   "metadata": {
    "collapsed": false
   },
   "id": "27e95e633c554c5"
  },
  {
   "cell_type": "code",
   "execution_count": null,
   "outputs": [],
   "source": [],
   "metadata": {
    "collapsed": false
   },
   "id": "97c50bdd6aaecc53"
  },
  {
   "cell_type": "code",
   "execution_count": null,
   "outputs": [],
   "source": [],
   "metadata": {
    "collapsed": false
   },
   "id": "1260337382e4bf00"
  },
  {
   "cell_type": "code",
   "execution_count": null,
   "outputs": [],
   "source": [
    "\n",
    "# print support and ranking for each feature\n",
    "print('\\n------Support and Ranking for each feature------')\n",
    "for i in range(len(feat_selector.support_)):\n",
    "\tif feat_selector.support_[i]:\n",
    "\t\tprint('Passes the test: ', X.columns[i],\n",
    "\t\t\t  ' - Ranking: ', feat_selector.ranking_[i])\n",
    "\telse:\n",
    "\t\tprint('Doesn\\'t pass the test: ',\n",
    "\t\t\t  X.columns[i], ' - Ranking: ', feat_selector.ranking_[i])"
   ],
   "metadata": {
    "collapsed": false
   },
   "id": "4a535884b2daa52"
  },
  {
   "cell_type": "code",
   "execution_count": null,
   "outputs": [],
   "source": [],
   "metadata": {
    "collapsed": false
   },
   "id": "6e2b2e36e4c3eb63"
  },
  {
   "cell_type": "code",
   "execution_count": null,
   "outputs": [],
   "source": [
    "# Read dict with cell phase decoding\n",
    "with open ('data/CycleMeetsExpressions/pseudotime_dict.pickle', 'rb') as f:\n",
    "\tphase_dict = pickle.load(f)"
   ],
   "metadata": {
    "collapsed": false
   },
   "id": "abdeb5f96c182d38"
  },
  {
   "cell_type": "code",
   "execution_count": null,
   "outputs": [],
   "source": [],
   "metadata": {
    "collapsed": false
   },
   "id": "6f640094c3a01795"
  }
 ],
 "metadata": {
  "kernelspec": {
   "display_name": "Python 3",
   "language": "python",
   "name": "python3"
  },
  "language_info": {
   "codemirror_mode": {
    "name": "ipython",
    "version": 2
   },
   "file_extension": ".py",
   "mimetype": "text/x-python",
   "name": "python",
   "nbconvert_exporter": "python",
   "pygments_lexer": "ipython2",
   "version": "2.7.6"
  }
 },
 "nbformat": 4,
 "nbformat_minor": 5
}
